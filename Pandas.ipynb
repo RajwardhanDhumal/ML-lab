{
 "cells": [
  {
   "cell_type": "markdown",
   "id": "f043dc82-55b2-4237-af39-6faf72a366a3",
   "metadata": {
    "id": "f043dc82-55b2-4237-af39-6faf72a366a3"
   },
   "source": [
    "### Day 1 - Prerequisite of Pandas and MarkDowns"
   ]
  },
  {
   "cell_type": "code",
   "execution_count": 1,
   "id": "d1f37ca2-9835-4e0d-938d-df2a21f342e3",
   "metadata": {
    "id": "d1f37ca2-9835-4e0d-938d-df2a21f342e3"
   },
   "outputs": [],
   "source": [
    "import pandas as pd"
   ]
  },
  {
   "cell_type": "markdown",
   "id": "d89d97c0-8e6c-4c3a-bd93-f63d93866789",
   "metadata": {
    "id": "d89d97c0-8e6c-4c3a-bd93-f63d93866789"
   },
   "source": [
    "### Let's read a .csv file using Pandas"
   ]
  },
  {
   "cell_type": "code",
   "execution_count": 2,
   "id": "38d7f048-7ac8-4945-b916-d125a4db5066",
   "metadata": {
    "id": "38d7f048-7ac8-4945-b916-d125a4db5066"
   },
   "outputs": [],
   "source": [
    "videogames_data = pd.read_csv('vgsales.csv')"
   ]
  },
  {
   "cell_type": "code",
   "execution_count": 3,
   "id": "bcfdeb1f-7771-4d0d-b55a-2825e07ea7d9",
   "metadata": {
    "id": "bcfdeb1f-7771-4d0d-b55a-2825e07ea7d9",
    "outputId": "80b82e52-7694-404f-a53a-6997f003516f"
   },
   "outputs": [
    {
     "data": {
      "text/html": [
       "<div>\n",
       "<style scoped>\n",
       "    .dataframe tbody tr th:only-of-type {\n",
       "        vertical-align: middle;\n",
       "    }\n",
       "\n",
       "    .dataframe tbody tr th {\n",
       "        vertical-align: top;\n",
       "    }\n",
       "\n",
       "    .dataframe thead th {\n",
       "        text-align: right;\n",
       "    }\n",
       "</style>\n",
       "<table border=\"1\" class=\"dataframe\">\n",
       "  <thead>\n",
       "    <tr style=\"text-align: right;\">\n",
       "      <th></th>\n",
       "      <th>Name</th>\n",
       "      <th>Platform</th>\n",
       "      <th>Year</th>\n",
       "      <th>Genre</th>\n",
       "      <th>Publisher</th>\n",
       "      <th>NA_Sales</th>\n",
       "      <th>EU_Sales</th>\n",
       "      <th>JP_Sales</th>\n",
       "      <th>Other_Sales</th>\n",
       "      <th>Global_Sales</th>\n",
       "    </tr>\n",
       "  </thead>\n",
       "  <tbody>\n",
       "    <tr>\n",
       "      <th>0</th>\n",
       "      <td>Kaboom!</td>\n",
       "      <td>2600</td>\n",
       "      <td>1980.0</td>\n",
       "      <td>Misc</td>\n",
       "      <td>Activision</td>\n",
       "      <td>1.07</td>\n",
       "      <td>0.07</td>\n",
       "      <td>0.0</td>\n",
       "      <td>0.01</td>\n",
       "      <td>1.15</td>\n",
       "    </tr>\n",
       "    <tr>\n",
       "      <th>1</th>\n",
       "      <td>Boxing</td>\n",
       "      <td>2600</td>\n",
       "      <td>1980.0</td>\n",
       "      <td>Fighting</td>\n",
       "      <td>Activision</td>\n",
       "      <td>0.72</td>\n",
       "      <td>0.04</td>\n",
       "      <td>0.0</td>\n",
       "      <td>0.01</td>\n",
       "      <td>0.77</td>\n",
       "    </tr>\n",
       "    <tr>\n",
       "      <th>2</th>\n",
       "      <td>Ice Hockey</td>\n",
       "      <td>2600</td>\n",
       "      <td>1980.0</td>\n",
       "      <td>Sports</td>\n",
       "      <td>Activision</td>\n",
       "      <td>0.46</td>\n",
       "      <td>0.03</td>\n",
       "      <td>0.0</td>\n",
       "      <td>0.01</td>\n",
       "      <td>0.49</td>\n",
       "    </tr>\n",
       "    <tr>\n",
       "      <th>3</th>\n",
       "      <td>Freeway</td>\n",
       "      <td>2600</td>\n",
       "      <td>1980.0</td>\n",
       "      <td>Action</td>\n",
       "      <td>Activision</td>\n",
       "      <td>0.32</td>\n",
       "      <td>0.02</td>\n",
       "      <td>0.0</td>\n",
       "      <td>0.00</td>\n",
       "      <td>0.34</td>\n",
       "    </tr>\n",
       "    <tr>\n",
       "      <th>4</th>\n",
       "      <td>Bridge</td>\n",
       "      <td>2600</td>\n",
       "      <td>1980.0</td>\n",
       "      <td>Misc</td>\n",
       "      <td>Activision</td>\n",
       "      <td>0.25</td>\n",
       "      <td>0.02</td>\n",
       "      <td>0.0</td>\n",
       "      <td>0.00</td>\n",
       "      <td>0.27</td>\n",
       "    </tr>\n",
       "    <tr>\n",
       "      <th>...</th>\n",
       "      <td>...</td>\n",
       "      <td>...</td>\n",
       "      <td>...</td>\n",
       "      <td>...</td>\n",
       "      <td>...</td>\n",
       "      <td>...</td>\n",
       "      <td>...</td>\n",
       "      <td>...</td>\n",
       "      <td>...</td>\n",
       "      <td>...</td>\n",
       "    </tr>\n",
       "    <tr>\n",
       "      <th>16534</th>\n",
       "      <td>LEGO Harry Potter: Years 5-7</td>\n",
       "      <td>PC</td>\n",
       "      <td>NaN</td>\n",
       "      <td>Action</td>\n",
       "      <td>Warner Bros. Interactive Entertainment</td>\n",
       "      <td>0.05</td>\n",
       "      <td>0.14</td>\n",
       "      <td>0.0</td>\n",
       "      <td>0.03</td>\n",
       "      <td>0.22</td>\n",
       "    </tr>\n",
       "    <tr>\n",
       "      <th>16535</th>\n",
       "      <td>Happy Feet Two</td>\n",
       "      <td>DS</td>\n",
       "      <td>NaN</td>\n",
       "      <td>Action</td>\n",
       "      <td>Warner Bros. Interactive Entertainment</td>\n",
       "      <td>0.09</td>\n",
       "      <td>0.02</td>\n",
       "      <td>0.0</td>\n",
       "      <td>0.01</td>\n",
       "      <td>0.12</td>\n",
       "    </tr>\n",
       "    <tr>\n",
       "      <th>16536</th>\n",
       "      <td>Happy Feet Two</td>\n",
       "      <td>PS3</td>\n",
       "      <td>NaN</td>\n",
       "      <td>Action</td>\n",
       "      <td>Warner Bros. Interactive Entertainment</td>\n",
       "      <td>0.09</td>\n",
       "      <td>0.01</td>\n",
       "      <td>0.0</td>\n",
       "      <td>0.01</td>\n",
       "      <td>0.10</td>\n",
       "    </tr>\n",
       "    <tr>\n",
       "      <th>16537</th>\n",
       "      <td>Happy Feet Two</td>\n",
       "      <td>X360</td>\n",
       "      <td>NaN</td>\n",
       "      <td>Action</td>\n",
       "      <td>Warner Bros. Interactive Entertainment</td>\n",
       "      <td>0.08</td>\n",
       "      <td>0.01</td>\n",
       "      <td>0.0</td>\n",
       "      <td>0.01</td>\n",
       "      <td>0.10</td>\n",
       "    </tr>\n",
       "    <tr>\n",
       "      <th>16538</th>\n",
       "      <td>Happy Feet Two</td>\n",
       "      <td>Wii</td>\n",
       "      <td>NaN</td>\n",
       "      <td>Action</td>\n",
       "      <td>Warner Bros. Interactive Entertainment</td>\n",
       "      <td>0.07</td>\n",
       "      <td>0.01</td>\n",
       "      <td>0.0</td>\n",
       "      <td>0.01</td>\n",
       "      <td>0.09</td>\n",
       "    </tr>\n",
       "  </tbody>\n",
       "</table>\n",
       "<p>16539 rows × 10 columns</p>\n",
       "</div>"
      ],
      "text/plain": [
       "                               Name Platform    Year     Genre  \\\n",
       "0                           Kaboom!     2600  1980.0      Misc   \n",
       "1                            Boxing     2600  1980.0  Fighting   \n",
       "2                        Ice Hockey     2600  1980.0    Sports   \n",
       "3                           Freeway     2600  1980.0    Action   \n",
       "4                            Bridge     2600  1980.0      Misc   \n",
       "...                             ...      ...     ...       ...   \n",
       "16534  LEGO Harry Potter: Years 5-7       PC     NaN    Action   \n",
       "16535                Happy Feet Two       DS     NaN    Action   \n",
       "16536                Happy Feet Two      PS3     NaN    Action   \n",
       "16537                Happy Feet Two     X360     NaN    Action   \n",
       "16538                Happy Feet Two      Wii     NaN    Action   \n",
       "\n",
       "                                    Publisher  NA_Sales  EU_Sales  JP_Sales  \\\n",
       "0                                  Activision      1.07      0.07       0.0   \n",
       "1                                  Activision      0.72      0.04       0.0   \n",
       "2                                  Activision      0.46      0.03       0.0   \n",
       "3                                  Activision      0.32      0.02       0.0   \n",
       "4                                  Activision      0.25      0.02       0.0   \n",
       "...                                       ...       ...       ...       ...   \n",
       "16534  Warner Bros. Interactive Entertainment      0.05      0.14       0.0   \n",
       "16535  Warner Bros. Interactive Entertainment      0.09      0.02       0.0   \n",
       "16536  Warner Bros. Interactive Entertainment      0.09      0.01       0.0   \n",
       "16537  Warner Bros. Interactive Entertainment      0.08      0.01       0.0   \n",
       "16538  Warner Bros. Interactive Entertainment      0.07      0.01       0.0   \n",
       "\n",
       "       Other_Sales  Global_Sales  \n",
       "0             0.01          1.15  \n",
       "1             0.01          0.77  \n",
       "2             0.01          0.49  \n",
       "3             0.00          0.34  \n",
       "4             0.00          0.27  \n",
       "...            ...           ...  \n",
       "16534         0.03          0.22  \n",
       "16535         0.01          0.12  \n",
       "16536         0.01          0.10  \n",
       "16537         0.01          0.10  \n",
       "16538         0.01          0.09  \n",
       "\n",
       "[16539 rows x 10 columns]"
      ]
     },
     "execution_count": 3,
     "metadata": {},
     "output_type": "execute_result"
    }
   ],
   "source": [
    "videogames_data"
   ]
  },
  {
   "cell_type": "markdown",
   "id": "37097b50-d468-433f-87f0-ef8dbc6655ee",
   "metadata": {
    "id": "37097b50-d468-433f-87f0-ef8dbc6655ee"
   },
   "source": [
    "---\n",
    "#### Using this method we have effictive read the csv file and now have it in a dataframe which is a common way of reading data.\n",
    "#### Let's see by printing the data type."
   ]
  },
  {
   "cell_type": "code",
   "execution_count": 4,
   "id": "d6e20684-2b3f-4a66-96b5-f94250d5a698",
   "metadata": {
    "id": "d6e20684-2b3f-4a66-96b5-f94250d5a698",
    "outputId": "46bf5c14-38b6-4198-b11b-c9fb09f4e0d7"
   },
   "outputs": [
    {
     "data": {
      "text/plain": [
       "pandas.core.frame.DataFrame"
      ]
     },
     "execution_count": 4,
     "metadata": {},
     "output_type": "execute_result"
    }
   ],
   "source": [
    "type(videogames_data)"
   ]
  },
  {
   "cell_type": "markdown",
   "id": "e1c84be6-800c-45be-9812-1f815fa3fcf1",
   "metadata": {
    "id": "e1c84be6-800c-45be-9812-1f815fa3fcf1"
   },
   "source": [
    "---\n",
    "#### We can also get the data types of all the columns present in our dataframe"
   ]
  },
  {
   "cell_type": "code",
   "execution_count": 5,
   "id": "11aac3ce-c5a7-42e9-8fda-347eb355b3bd",
   "metadata": {
    "id": "11aac3ce-c5a7-42e9-8fda-347eb355b3bd",
    "outputId": "a4871b1b-c55b-4a18-ebbd-992176f03309"
   },
   "outputs": [
    {
     "data": {
      "text/plain": [
       "Name             object\n",
       "Platform         object\n",
       "Year            float64\n",
       "Genre            object\n",
       "Publisher        object\n",
       "NA_Sales        float64\n",
       "EU_Sales        float64\n",
       "JP_Sales        float64\n",
       "Other_Sales     float64\n",
       "Global_Sales    float64\n",
       "dtype: object"
      ]
     },
     "execution_count": 5,
     "metadata": {},
     "output_type": "execute_result"
    }
   ],
   "source": [
    "videogames_data.dtypes"
   ]
  },
  {
   "cell_type": "markdown",
   "id": "8511176f-3f74-435d-8a9b-6ced1d6b5344",
   "metadata": {
    "id": "8511176f-3f74-435d-8a9b-6ced1d6b5344"
   },
   "source": [
    "#### The 'int64' and 'float64' can explain themselves by their names and a thing that should be noted is that they are quantive values\n",
    "#### The 'object' type are mostly strings that are qualitive values"
   ]
  },
  {
   "cell_type": "markdown",
   "id": "86b018d3-59dc-42ef-b134-9fdd92263136",
   "metadata": {
    "id": "86b018d3-59dc-42ef-b134-9fdd92263136"
   },
   "source": [
    "---\n",
    "#### We can get a better understanding of the dataframe using the inbuilt function in Pandas called '.info()'"
   ]
  },
  {
   "cell_type": "code",
   "execution_count": 6,
   "id": "fa5a1871-ccfe-4d40-854a-99aa1ac90edb",
   "metadata": {
    "id": "fa5a1871-ccfe-4d40-854a-99aa1ac90edb",
    "outputId": "285622d3-27ae-4ba2-b8e7-382d37ee1ab9"
   },
   "outputs": [
    {
     "name": "stdout",
     "output_type": "stream",
     "text": [
      "<class 'pandas.core.frame.DataFrame'>\n",
      "RangeIndex: 16539 entries, 0 to 16538\n",
      "Data columns (total 10 columns):\n",
      " #   Column        Non-Null Count  Dtype  \n",
      "---  ------        --------------  -----  \n",
      " 0   Name          16539 non-null  object \n",
      " 1   Platform      16539 non-null  object \n",
      " 2   Year          16290 non-null  float64\n",
      " 3   Genre         16539 non-null  object \n",
      " 4   Publisher     16539 non-null  object \n",
      " 5   NA_Sales      16539 non-null  float64\n",
      " 6   EU_Sales      16539 non-null  float64\n",
      " 7   JP_Sales      16539 non-null  float64\n",
      " 8   Other_Sales   16539 non-null  float64\n",
      " 9   Global_Sales  16539 non-null  float64\n",
      "dtypes: float64(6), object(4)\n",
      "memory usage: 1.3+ MB\n"
     ]
    }
   ],
   "source": [
    "videogames_data.info()"
   ]
  },
  {
   "cell_type": "markdown",
   "id": "79585705-df4d-4cbc-8e6f-b242bba4c63b",
   "metadata": {
    "id": "79585705-df4d-4cbc-8e6f-b242bba4c63b"
   },
   "source": [
    "#### We can read the total entries at the top with how many data entries are filled with non-null values\n",
    "#### As we saw before we can also see the list of all the data types used in this dataframe."
   ]
  },
  {
   "cell_type": "markdown",
   "id": "5eaa373c-a6e3-445c-a2ac-c378ba180d4c",
   "metadata": {
    "id": "5eaa373c-a6e3-445c-a2ac-c378ba180d4c"
   },
   "source": [
    "---\n",
    "#### WE can read the top 5 rows of the dataframe using '.head()'"
   ]
  },
  {
   "cell_type": "code",
   "execution_count": 7,
   "id": "37ca0f6e-264f-4252-af0b-c55a4286b303",
   "metadata": {
    "id": "37ca0f6e-264f-4252-af0b-c55a4286b303",
    "outputId": "cf387c26-8dce-438a-a699-9c59cf72ee89"
   },
   "outputs": [
    {
     "data": {
      "text/html": [
       "<div>\n",
       "<style scoped>\n",
       "    .dataframe tbody tr th:only-of-type {\n",
       "        vertical-align: middle;\n",
       "    }\n",
       "\n",
       "    .dataframe tbody tr th {\n",
       "        vertical-align: top;\n",
       "    }\n",
       "\n",
       "    .dataframe thead th {\n",
       "        text-align: right;\n",
       "    }\n",
       "</style>\n",
       "<table border=\"1\" class=\"dataframe\">\n",
       "  <thead>\n",
       "    <tr style=\"text-align: right;\">\n",
       "      <th></th>\n",
       "      <th>Name</th>\n",
       "      <th>Platform</th>\n",
       "      <th>Year</th>\n",
       "      <th>Genre</th>\n",
       "      <th>Publisher</th>\n",
       "      <th>NA_Sales</th>\n",
       "      <th>EU_Sales</th>\n",
       "      <th>JP_Sales</th>\n",
       "      <th>Other_Sales</th>\n",
       "      <th>Global_Sales</th>\n",
       "    </tr>\n",
       "  </thead>\n",
       "  <tbody>\n",
       "    <tr>\n",
       "      <th>0</th>\n",
       "      <td>Kaboom!</td>\n",
       "      <td>2600</td>\n",
       "      <td>1980.0</td>\n",
       "      <td>Misc</td>\n",
       "      <td>Activision</td>\n",
       "      <td>1.07</td>\n",
       "      <td>0.07</td>\n",
       "      <td>0.0</td>\n",
       "      <td>0.01</td>\n",
       "      <td>1.15</td>\n",
       "    </tr>\n",
       "    <tr>\n",
       "      <th>1</th>\n",
       "      <td>Boxing</td>\n",
       "      <td>2600</td>\n",
       "      <td>1980.0</td>\n",
       "      <td>Fighting</td>\n",
       "      <td>Activision</td>\n",
       "      <td>0.72</td>\n",
       "      <td>0.04</td>\n",
       "      <td>0.0</td>\n",
       "      <td>0.01</td>\n",
       "      <td>0.77</td>\n",
       "    </tr>\n",
       "    <tr>\n",
       "      <th>2</th>\n",
       "      <td>Ice Hockey</td>\n",
       "      <td>2600</td>\n",
       "      <td>1980.0</td>\n",
       "      <td>Sports</td>\n",
       "      <td>Activision</td>\n",
       "      <td>0.46</td>\n",
       "      <td>0.03</td>\n",
       "      <td>0.0</td>\n",
       "      <td>0.01</td>\n",
       "      <td>0.49</td>\n",
       "    </tr>\n",
       "    <tr>\n",
       "      <th>3</th>\n",
       "      <td>Freeway</td>\n",
       "      <td>2600</td>\n",
       "      <td>1980.0</td>\n",
       "      <td>Action</td>\n",
       "      <td>Activision</td>\n",
       "      <td>0.32</td>\n",
       "      <td>0.02</td>\n",
       "      <td>0.0</td>\n",
       "      <td>0.00</td>\n",
       "      <td>0.34</td>\n",
       "    </tr>\n",
       "    <tr>\n",
       "      <th>4</th>\n",
       "      <td>Bridge</td>\n",
       "      <td>2600</td>\n",
       "      <td>1980.0</td>\n",
       "      <td>Misc</td>\n",
       "      <td>Activision</td>\n",
       "      <td>0.25</td>\n",
       "      <td>0.02</td>\n",
       "      <td>0.0</td>\n",
       "      <td>0.00</td>\n",
       "      <td>0.27</td>\n",
       "    </tr>\n",
       "  </tbody>\n",
       "</table>\n",
       "</div>"
      ],
      "text/plain": [
       "         Name Platform    Year     Genre   Publisher  NA_Sales  EU_Sales  \\\n",
       "0     Kaboom!     2600  1980.0      Misc  Activision      1.07      0.07   \n",
       "1      Boxing     2600  1980.0  Fighting  Activision      0.72      0.04   \n",
       "2  Ice Hockey     2600  1980.0    Sports  Activision      0.46      0.03   \n",
       "3     Freeway     2600  1980.0    Action  Activision      0.32      0.02   \n",
       "4      Bridge     2600  1980.0      Misc  Activision      0.25      0.02   \n",
       "\n",
       "   JP_Sales  Other_Sales  Global_Sales  \n",
       "0       0.0         0.01          1.15  \n",
       "1       0.0         0.01          0.77  \n",
       "2       0.0         0.01          0.49  \n",
       "3       0.0         0.00          0.34  \n",
       "4       0.0         0.00          0.27  "
      ]
     },
     "execution_count": 7,
     "metadata": {},
     "output_type": "execute_result"
    }
   ],
   "source": [
    "videogames_data.head()"
   ]
  },
  {
   "cell_type": "markdown",
   "id": "8659f8fc-5d23-409c-b976-3dc7fab2f8ed",
   "metadata": {
    "id": "8659f8fc-5d23-409c-b976-3dc7fab2f8ed"
   },
   "source": [
    "---\n",
    "#### And the last 5 rows of the dataframe using '.tail()'"
   ]
  },
  {
   "cell_type": "code",
   "execution_count": 8,
   "id": "acdf5341-e834-462c-853c-b8ba1b5267af",
   "metadata": {
    "id": "acdf5341-e834-462c-853c-b8ba1b5267af",
    "outputId": "b2dc3ac1-a249-4a55-f27b-a7c52d27bcb4"
   },
   "outputs": [
    {
     "data": {
      "text/html": [
       "<div>\n",
       "<style scoped>\n",
       "    .dataframe tbody tr th:only-of-type {\n",
       "        vertical-align: middle;\n",
       "    }\n",
       "\n",
       "    .dataframe tbody tr th {\n",
       "        vertical-align: top;\n",
       "    }\n",
       "\n",
       "    .dataframe thead th {\n",
       "        text-align: right;\n",
       "    }\n",
       "</style>\n",
       "<table border=\"1\" class=\"dataframe\">\n",
       "  <thead>\n",
       "    <tr style=\"text-align: right;\">\n",
       "      <th></th>\n",
       "      <th>Name</th>\n",
       "      <th>Platform</th>\n",
       "      <th>Year</th>\n",
       "      <th>Genre</th>\n",
       "      <th>Publisher</th>\n",
       "      <th>NA_Sales</th>\n",
       "      <th>EU_Sales</th>\n",
       "      <th>JP_Sales</th>\n",
       "      <th>Other_Sales</th>\n",
       "      <th>Global_Sales</th>\n",
       "    </tr>\n",
       "  </thead>\n",
       "  <tbody>\n",
       "    <tr>\n",
       "      <th>16534</th>\n",
       "      <td>LEGO Harry Potter: Years 5-7</td>\n",
       "      <td>PC</td>\n",
       "      <td>NaN</td>\n",
       "      <td>Action</td>\n",
       "      <td>Warner Bros. Interactive Entertainment</td>\n",
       "      <td>0.05</td>\n",
       "      <td>0.14</td>\n",
       "      <td>0.0</td>\n",
       "      <td>0.03</td>\n",
       "      <td>0.22</td>\n",
       "    </tr>\n",
       "    <tr>\n",
       "      <th>16535</th>\n",
       "      <td>Happy Feet Two</td>\n",
       "      <td>DS</td>\n",
       "      <td>NaN</td>\n",
       "      <td>Action</td>\n",
       "      <td>Warner Bros. Interactive Entertainment</td>\n",
       "      <td>0.09</td>\n",
       "      <td>0.02</td>\n",
       "      <td>0.0</td>\n",
       "      <td>0.01</td>\n",
       "      <td>0.12</td>\n",
       "    </tr>\n",
       "    <tr>\n",
       "      <th>16536</th>\n",
       "      <td>Happy Feet Two</td>\n",
       "      <td>PS3</td>\n",
       "      <td>NaN</td>\n",
       "      <td>Action</td>\n",
       "      <td>Warner Bros. Interactive Entertainment</td>\n",
       "      <td>0.09</td>\n",
       "      <td>0.01</td>\n",
       "      <td>0.0</td>\n",
       "      <td>0.01</td>\n",
       "      <td>0.10</td>\n",
       "    </tr>\n",
       "    <tr>\n",
       "      <th>16537</th>\n",
       "      <td>Happy Feet Two</td>\n",
       "      <td>X360</td>\n",
       "      <td>NaN</td>\n",
       "      <td>Action</td>\n",
       "      <td>Warner Bros. Interactive Entertainment</td>\n",
       "      <td>0.08</td>\n",
       "      <td>0.01</td>\n",
       "      <td>0.0</td>\n",
       "      <td>0.01</td>\n",
       "      <td>0.10</td>\n",
       "    </tr>\n",
       "    <tr>\n",
       "      <th>16538</th>\n",
       "      <td>Happy Feet Two</td>\n",
       "      <td>Wii</td>\n",
       "      <td>NaN</td>\n",
       "      <td>Action</td>\n",
       "      <td>Warner Bros. Interactive Entertainment</td>\n",
       "      <td>0.07</td>\n",
       "      <td>0.01</td>\n",
       "      <td>0.0</td>\n",
       "      <td>0.01</td>\n",
       "      <td>0.09</td>\n",
       "    </tr>\n",
       "  </tbody>\n",
       "</table>\n",
       "</div>"
      ],
      "text/plain": [
       "                               Name Platform  Year   Genre  \\\n",
       "16534  LEGO Harry Potter: Years 5-7       PC   NaN  Action   \n",
       "16535                Happy Feet Two       DS   NaN  Action   \n",
       "16536                Happy Feet Two      PS3   NaN  Action   \n",
       "16537                Happy Feet Two     X360   NaN  Action   \n",
       "16538                Happy Feet Two      Wii   NaN  Action   \n",
       "\n",
       "                                    Publisher  NA_Sales  EU_Sales  JP_Sales  \\\n",
       "16534  Warner Bros. Interactive Entertainment      0.05      0.14       0.0   \n",
       "16535  Warner Bros. Interactive Entertainment      0.09      0.02       0.0   \n",
       "16536  Warner Bros. Interactive Entertainment      0.09      0.01       0.0   \n",
       "16537  Warner Bros. Interactive Entertainment      0.08      0.01       0.0   \n",
       "16538  Warner Bros. Interactive Entertainment      0.07      0.01       0.0   \n",
       "\n",
       "       Other_Sales  Global_Sales  \n",
       "16534         0.03          0.22  \n",
       "16535         0.01          0.12  \n",
       "16536         0.01          0.10  \n",
       "16537         0.01          0.10  \n",
       "16538         0.01          0.09  "
      ]
     },
     "execution_count": 8,
     "metadata": {},
     "output_type": "execute_result"
    }
   ],
   "source": [
    "videogames_data.tail()"
   ]
  },
  {
   "cell_type": "markdown",
   "id": "958c33c8-c0a6-499a-94ca-d2e8a743dc25",
   "metadata": {
    "id": "958c33c8-c0a6-499a-94ca-d2e8a743dc25"
   },
   "source": [
    "---\n",
    "#### If your require to get all the column names of the dataframe just do the following:"
   ]
  },
  {
   "cell_type": "code",
   "execution_count": 9,
   "id": "228be38c-544a-4ae7-ab61-9641ab8fabee",
   "metadata": {
    "id": "228be38c-544a-4ae7-ab61-9641ab8fabee",
    "outputId": "85eae44a-aee3-4b29-c7f1-ff8fded3e21f"
   },
   "outputs": [
    {
     "data": {
      "text/plain": [
       "Index(['Name', 'Platform', 'Year', 'Genre', 'Publisher', 'NA_Sales',\n",
       "       'EU_Sales', 'JP_Sales', 'Other_Sales', 'Global_Sales'],\n",
       "      dtype='object')"
      ]
     },
     "execution_count": 9,
     "metadata": {},
     "output_type": "execute_result"
    }
   ],
   "source": [
    "videogames_data.columns"
   ]
  },
  {
   "cell_type": "markdown",
   "id": "c94c051c-e68b-4b09-9a86-03807cb8c1e7",
   "metadata": {
    "id": "c94c051c-e68b-4b09-9a86-03807cb8c1e7"
   },
   "source": [
    "---\n",
    "### To get the better understanding of the numerical values of quantive we '.describe()'"
   ]
  },
  {
   "cell_type": "code",
   "execution_count": 10,
   "id": "2fecf612-ecbc-4065-b295-31d17b3b549d",
   "metadata": {
    "id": "2fecf612-ecbc-4065-b295-31d17b3b549d",
    "outputId": "1be9de77-3205-4a01-fce1-5a080bf4eeae"
   },
   "outputs": [
    {
     "data": {
      "text/html": [
       "<div>\n",
       "<style scoped>\n",
       "    .dataframe tbody tr th:only-of-type {\n",
       "        vertical-align: middle;\n",
       "    }\n",
       "\n",
       "    .dataframe tbody tr th {\n",
       "        vertical-align: top;\n",
       "    }\n",
       "\n",
       "    .dataframe thead th {\n",
       "        text-align: right;\n",
       "    }\n",
       "</style>\n",
       "<table border=\"1\" class=\"dataframe\">\n",
       "  <thead>\n",
       "    <tr style=\"text-align: right;\">\n",
       "      <th></th>\n",
       "      <th>Year</th>\n",
       "      <th>NA_Sales</th>\n",
       "      <th>EU_Sales</th>\n",
       "      <th>JP_Sales</th>\n",
       "      <th>Other_Sales</th>\n",
       "      <th>Global_Sales</th>\n",
       "    </tr>\n",
       "  </thead>\n",
       "  <tbody>\n",
       "    <tr>\n",
       "      <th>count</th>\n",
       "      <td>16290.000000</td>\n",
       "      <td>16539.000000</td>\n",
       "      <td>16539.000000</td>\n",
       "      <td>16539.000000</td>\n",
       "      <td>16539.000000</td>\n",
       "      <td>16539.000000</td>\n",
       "    </tr>\n",
       "    <tr>\n",
       "      <th>mean</th>\n",
       "      <td>2006.404727</td>\n",
       "      <td>0.265079</td>\n",
       "      <td>0.146892</td>\n",
       "      <td>0.078003</td>\n",
       "      <td>0.048193</td>\n",
       "      <td>0.538441</td>\n",
       "    </tr>\n",
       "    <tr>\n",
       "      <th>std</th>\n",
       "      <td>5.831618</td>\n",
       "      <td>0.817953</td>\n",
       "      <td>0.506143</td>\n",
       "      <td>0.309809</td>\n",
       "      <td>0.188884</td>\n",
       "      <td>1.557470</td>\n",
       "    </tr>\n",
       "    <tr>\n",
       "      <th>min</th>\n",
       "      <td>1980.000000</td>\n",
       "      <td>0.000000</td>\n",
       "      <td>0.000000</td>\n",
       "      <td>0.000000</td>\n",
       "      <td>0.000000</td>\n",
       "      <td>0.010000</td>\n",
       "    </tr>\n",
       "    <tr>\n",
       "      <th>25%</th>\n",
       "      <td>2003.000000</td>\n",
       "      <td>0.000000</td>\n",
       "      <td>0.000000</td>\n",
       "      <td>0.000000</td>\n",
       "      <td>0.000000</td>\n",
       "      <td>0.060000</td>\n",
       "    </tr>\n",
       "    <tr>\n",
       "      <th>50%</th>\n",
       "      <td>2007.000000</td>\n",
       "      <td>0.080000</td>\n",
       "      <td>0.020000</td>\n",
       "      <td>0.000000</td>\n",
       "      <td>0.010000</td>\n",
       "      <td>0.170000</td>\n",
       "    </tr>\n",
       "    <tr>\n",
       "      <th>75%</th>\n",
       "      <td>2010.000000</td>\n",
       "      <td>0.240000</td>\n",
       "      <td>0.110000</td>\n",
       "      <td>0.040000</td>\n",
       "      <td>0.040000</td>\n",
       "      <td>0.480000</td>\n",
       "    </tr>\n",
       "    <tr>\n",
       "      <th>max</th>\n",
       "      <td>2017.000000</td>\n",
       "      <td>41.490000</td>\n",
       "      <td>29.020000</td>\n",
       "      <td>10.220000</td>\n",
       "      <td>10.570000</td>\n",
       "      <td>82.740000</td>\n",
       "    </tr>\n",
       "  </tbody>\n",
       "</table>\n",
       "</div>"
      ],
      "text/plain": [
       "               Year      NA_Sales      EU_Sales      JP_Sales   Other_Sales  \\\n",
       "count  16290.000000  16539.000000  16539.000000  16539.000000  16539.000000   \n",
       "mean    2006.404727      0.265079      0.146892      0.078003      0.048193   \n",
       "std        5.831618      0.817953      0.506143      0.309809      0.188884   \n",
       "min     1980.000000      0.000000      0.000000      0.000000      0.000000   \n",
       "25%     2003.000000      0.000000      0.000000      0.000000      0.000000   \n",
       "50%     2007.000000      0.080000      0.020000      0.000000      0.010000   \n",
       "75%     2010.000000      0.240000      0.110000      0.040000      0.040000   \n",
       "max     2017.000000     41.490000     29.020000     10.220000     10.570000   \n",
       "\n",
       "       Global_Sales  \n",
       "count  16539.000000  \n",
       "mean       0.538441  \n",
       "std        1.557470  \n",
       "min        0.010000  \n",
       "25%        0.060000  \n",
       "50%        0.170000  \n",
       "75%        0.480000  \n",
       "max       82.740000  "
      ]
     },
     "execution_count": 10,
     "metadata": {},
     "output_type": "execute_result"
    }
   ],
   "source": [
    "videogames_data.describe()"
   ]
  },
  {
   "cell_type": "markdown",
   "id": "eecfc287-ecaf-4991-b452-86df10983fa9",
   "metadata": {
    "id": "eecfc287-ecaf-4991-b452-86df10983fa9"
   },
   "source": [
    "#### We get the total count of the rows, average of all rows, std, 25%, 50%, 75%, minimum and maximum values from this function."
   ]
  },
  {
   "cell_type": "markdown",
   "id": "8c805dd0-8744-4c76-b83a-3f11f76beb48",
   "metadata": {
    "id": "8c805dd0-8744-4c76-b83a-3f11f76beb48"
   },
   "source": [
    "---\n",
    "#### Lastly you can use '.unique()' for distinct answers."
   ]
  },
  {
   "cell_type": "code",
   "execution_count": 11,
   "id": "85b61d1d-214f-4f53-8708-3b625f99c878",
   "metadata": {
    "id": "85b61d1d-214f-4f53-8708-3b625f99c878",
    "outputId": "3d9b951f-efa7-474f-ecd0-32d500ab08af"
   },
   "outputs": [
    {
     "data": {
      "text/plain": [
       "array(['2600', 'NES', 'PC', 'DS', 'GB', 'SNES', 'GEN', 'GG', 'SCD', 'NG',\n",
       "       'SAT', 'PS', '3DO', 'TG16', 'N64', 'PCFX', 'DC', 'WS', 'PS2',\n",
       "       'GBA', 'XB', 'GC', 'PSP', 'X360', 'PS3', 'Wii', '3DS', 'PSV',\n",
       "       'WiiU', 'PS4', 'XOne'], dtype=object)"
      ]
     },
     "execution_count": 11,
     "metadata": {},
     "output_type": "execute_result"
    }
   ],
   "source": [
    "videogames_data['Platform'].unique()"
   ]
  },
  {
   "cell_type": "markdown",
   "id": "4f24abfd-e281-46b0-81c4-f88016711a69",
   "metadata": {
    "id": "4f24abfd-e281-46b0-81c4-f88016711a69"
   },
   "source": [
    "---\n",
    "## Q. Create your own dataframe and showcase it"
   ]
  },
  {
   "cell_type": "code",
   "execution_count": 12,
   "id": "345e8236-449f-40f5-aec9-d6342fb2cb6a",
   "metadata": {
    "id": "345e8236-449f-40f5-aec9-d6342fb2cb6a"
   },
   "outputs": [],
   "source": [
    "profiles = {\n",
    "    'Name': ['Shivani', 'Shreyas', 'Shrushti', 'Soha', 'Sonu', 'Swaraj', 'Tushar', 'Vigneshmurali', 'Abhishek', 'Harsheet'],\n",
    "    'Hobbies': ['Geocaching', 'Origami', 'Birdwatching', 'Homebrewing', 'Rock Climbing', 'Astrophotography', 'Foraging', 'Vintage Car Restoration', 'Ceramics', 'Kombucha Brewing']\n",
    "}\n",
    "profiles_frame = pd.DataFrame(profiles)"
   ]
  },
  {
   "cell_type": "code",
   "execution_count": 13,
   "id": "619cbf17-f25d-4052-9856-fbb8b04c0a00",
   "metadata": {
    "id": "619cbf17-f25d-4052-9856-fbb8b04c0a00",
    "outputId": "a7ebc801-bbb8-4015-c81d-67889ed37ea5"
   },
   "outputs": [
    {
     "data": {
      "text/html": [
       "<div>\n",
       "<style scoped>\n",
       "    .dataframe tbody tr th:only-of-type {\n",
       "        vertical-align: middle;\n",
       "    }\n",
       "\n",
       "    .dataframe tbody tr th {\n",
       "        vertical-align: top;\n",
       "    }\n",
       "\n",
       "    .dataframe thead th {\n",
       "        text-align: right;\n",
       "    }\n",
       "</style>\n",
       "<table border=\"1\" class=\"dataframe\">\n",
       "  <thead>\n",
       "    <tr style=\"text-align: right;\">\n",
       "      <th></th>\n",
       "      <th>Name</th>\n",
       "      <th>Hobbies</th>\n",
       "    </tr>\n",
       "  </thead>\n",
       "  <tbody>\n",
       "    <tr>\n",
       "      <th>0</th>\n",
       "      <td>Shivani</td>\n",
       "      <td>Geocaching</td>\n",
       "    </tr>\n",
       "    <tr>\n",
       "      <th>1</th>\n",
       "      <td>Shreyas</td>\n",
       "      <td>Origami</td>\n",
       "    </tr>\n",
       "    <tr>\n",
       "      <th>2</th>\n",
       "      <td>Shrushti</td>\n",
       "      <td>Birdwatching</td>\n",
       "    </tr>\n",
       "    <tr>\n",
       "      <th>3</th>\n",
       "      <td>Soha</td>\n",
       "      <td>Homebrewing</td>\n",
       "    </tr>\n",
       "    <tr>\n",
       "      <th>4</th>\n",
       "      <td>Sonu</td>\n",
       "      <td>Rock Climbing</td>\n",
       "    </tr>\n",
       "    <tr>\n",
       "      <th>5</th>\n",
       "      <td>Swaraj</td>\n",
       "      <td>Astrophotography</td>\n",
       "    </tr>\n",
       "    <tr>\n",
       "      <th>6</th>\n",
       "      <td>Tushar</td>\n",
       "      <td>Foraging</td>\n",
       "    </tr>\n",
       "    <tr>\n",
       "      <th>7</th>\n",
       "      <td>Vigneshmurali</td>\n",
       "      <td>Vintage Car Restoration</td>\n",
       "    </tr>\n",
       "    <tr>\n",
       "      <th>8</th>\n",
       "      <td>Abhishek</td>\n",
       "      <td>Ceramics</td>\n",
       "    </tr>\n",
       "    <tr>\n",
       "      <th>9</th>\n",
       "      <td>Harsheet</td>\n",
       "      <td>Kombucha Brewing</td>\n",
       "    </tr>\n",
       "  </tbody>\n",
       "</table>\n",
       "</div>"
      ],
      "text/plain": [
       "            Name                  Hobbies\n",
       "0        Shivani               Geocaching\n",
       "1        Shreyas                  Origami\n",
       "2       Shrushti             Birdwatching\n",
       "3           Soha              Homebrewing\n",
       "4           Sonu            Rock Climbing\n",
       "5         Swaraj         Astrophotography\n",
       "6         Tushar                 Foraging\n",
       "7  Vigneshmurali  Vintage Car Restoration\n",
       "8       Abhishek                 Ceramics\n",
       "9       Harsheet         Kombucha Brewing"
      ]
     },
     "execution_count": 13,
     "metadata": {},
     "output_type": "execute_result"
    }
   ],
   "source": [
    "profiles_frame"
   ]
  },
  {
   "cell_type": "markdown",
   "id": "7c6e5ea4-b4ec-4bf7-b979-7f117538d7aa",
   "metadata": {
    "id": "7c6e5ea4-b4ec-4bf7-b979-7f117538d7aa"
   },
   "source": [
    "# The End"
   ]
  }
 ],
 "metadata": {
  "colab": {
   "provenance": []
  },
  "kernelspec": {
   "display_name": "Python 3 (ipykernel)",
   "language": "python",
   "name": "python3"
  },
  "language_info": {
   "codemirror_mode": {
    "name": "ipython",
    "version": 3
   },
   "file_extension": ".py",
   "mimetype": "text/x-python",
   "name": "python",
   "nbconvert_exporter": "python",
   "pygments_lexer": "ipython3",
   "version": "3.12.4"
  }
 },
 "nbformat": 4,
 "nbformat_minor": 5
}
