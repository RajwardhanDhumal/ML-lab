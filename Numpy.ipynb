{
 "cells": [
  {
   "cell_type": "code",
   "execution_count": 1,
   "id": "ff3d6061-3882-4c21-86d3-0eaa62031903",
   "metadata": {
    "id": "ff3d6061-3882-4c21-86d3-0eaa62031903"
   },
   "outputs": [],
   "source": [
    "import numpy as np"
   ]
  },
  {
   "cell_type": "markdown",
   "id": "901f76f5-caea-4d93-9869-f9fe3bbb7ba9",
   "metadata": {
    "id": "901f76f5-caea-4d93-9869-f9fe3bbb7ba9"
   },
   "source": [
    "### What are the properties of a matrix?\n",
    "##### The properties of matrices are in:\n",
    "- Matrix Addition\n",
    "- Scalar Multiplication of Matrix\n",
    "- Matrix Multiplication\n",
    "- Transponse Matrix\n",
    "- And many more"
   ]
  },
  {
   "cell_type": "markdown",
   "id": "64000f4c-e6f9-4b1b-99cf-10b976097f83",
   "metadata": {
    "id": "64000f4c-e6f9-4b1b-99cf-10b976097f83"
   },
   "source": [
    "***\n",
    "### We'll be now reading about the basics of a popular library in Python named 'NumPy'.\n",
    "#### The most common thing we'll end up doing using 'NumPy' is using arrays\n",
    "#### We create arrays in NumPy by following method:\n",
    "***"
   ]
  },
  {
   "cell_type": "code",
   "execution_count": 2,
   "id": "dea754ff-ed94-4af9-ad7e-d9dd38ad77ec",
   "metadata": {
    "id": "dea754ff-ed94-4af9-ad7e-d9dd38ad77ec"
   },
   "outputs": [],
   "source": [
    "a = np.array([1, 2])"
   ]
  },
  {
   "cell_type": "code",
   "execution_count": 3,
   "id": "ca8229b2-eaa9-4e26-816f-c6f5d6a15f87",
   "metadata": {
    "id": "ca8229b2-eaa9-4e26-816f-c6f5d6a15f87",
    "outputId": "538dd32d-4371-444f-955c-3db0aac39a9a"
   },
   "outputs": [
    {
     "data": {
      "text/plain": [
       "array([1, 2])"
      ]
     },
     "execution_count": 3,
     "metadata": {},
     "output_type": "execute_result"
    }
   ],
   "source": [
    "a"
   ]
  },
  {
   "cell_type": "markdown",
   "id": "2fa7a416-e3f0-4ecc-80ff-bd45360f3d83",
   "metadata": {
    "id": "2fa7a416-e3f0-4ecc-80ff-bd45360f3d83"
   },
   "source": [
    "---\n",
    "#### We can check it's type."
   ]
  },
  {
   "cell_type": "code",
   "execution_count": 4,
   "id": "cadf5182-11d3-408d-9d7d-e76695ed67e1",
   "metadata": {
    "id": "cadf5182-11d3-408d-9d7d-e76695ed67e1",
    "outputId": "40d2676d-465a-485b-e42e-e04f1868dfb9"
   },
   "outputs": [
    {
     "data": {
      "text/plain": [
       "numpy.ndarray"
      ]
     },
     "execution_count": 4,
     "metadata": {},
     "output_type": "execute_result"
    }
   ],
   "source": [
    "type(a)"
   ]
  },
  {
   "cell_type": "markdown",
   "id": "a14cd16b-df05-4c8c-83ba-82e7d68df006",
   "metadata": {
    "id": "a14cd16b-df05-4c8c-83ba-82e7d68df006"
   },
   "source": [
    "---\n",
    "#### But using dtype we get to know what kind of data does it holds."
   ]
  },
  {
   "cell_type": "code",
   "execution_count": 5,
   "id": "8988c5cc-37ea-4820-b35c-fa59f5045334",
   "metadata": {
    "id": "8988c5cc-37ea-4820-b35c-fa59f5045334",
    "outputId": "d3fa85f7-41b0-4fb3-9eb6-b99dd84efa2f"
   },
   "outputs": [
    {
     "data": {
      "text/plain": [
       "dtype('int32')"
      ]
     },
     "execution_count": 5,
     "metadata": {},
     "output_type": "execute_result"
    }
   ],
   "source": [
    "a.dtype"
   ]
  },
  {
   "cell_type": "markdown",
   "id": "b2f2a7fa-c8c7-449d-9c01-47a84ba6cdca",
   "metadata": {
    "id": "b2f2a7fa-c8c7-449d-9c01-47a84ba6cdca"
   },
   "source": [
    "---\n",
    "#### We can also get the amount of values we have stored in an array."
   ]
  },
  {
   "cell_type": "code",
   "execution_count": 6,
   "id": "598dedc5-6f42-4101-8832-5739f6fc8b68",
   "metadata": {
    "id": "598dedc5-6f42-4101-8832-5739f6fc8b68",
    "outputId": "57c1a69c-f3e9-4e5a-dd1e-07facf20c60f"
   },
   "outputs": [
    {
     "data": {
      "text/plain": [
       "2"
      ]
     },
     "execution_count": 6,
     "metadata": {},
     "output_type": "execute_result"
    }
   ],
   "source": [
    "a.size"
   ]
  },
  {
   "cell_type": "markdown",
   "id": "3c715bb3-1ecc-4793-9dbf-6785f33023de",
   "metadata": {
    "id": "3c715bb3-1ecc-4793-9dbf-6785f33023de"
   },
   "source": [
    "#### Since we only had two values in it we displayed '2'."
   ]
  },
  {
   "cell_type": "markdown",
   "id": "f09a3c9a-7e7d-4bd7-abe5-488d01fd6423",
   "metadata": {
    "id": "f09a3c9a-7e7d-4bd7-abe5-488d01fd6423"
   },
   "source": [
    "---\n",
    "#### We can also we the shape of the array"
   ]
  },
  {
   "cell_type": "code",
   "execution_count": 7,
   "id": "e2cb0657-c962-44d5-98db-3d82d7c5929c",
   "metadata": {
    "id": "e2cb0657-c962-44d5-98db-3d82d7c5929c",
    "outputId": "0122aee8-6262-47f4-ee99-cf00d89b6c4d"
   },
   "outputs": [
    {
     "data": {
      "text/plain": [
       "(2,)"
      ]
     },
     "execution_count": 7,
     "metadata": {},
     "output_type": "execute_result"
    }
   ],
   "source": [
    "a.shape"
   ]
  },
  {
   "cell_type": "markdown",
   "id": "ee1348bd-6d98-4848-9e98-6b7d9211cefc",
   "metadata": {
    "id": "ee1348bd-6d98-4848-9e98-6b7d9211cefc"
   },
   "source": [
    "#### Here the 2 before the comma represents the x demension of the array as it is only a single demensional array.\n",
    "##### Note: We'll look into this fuction with multiple demensions later on."
   ]
  },
  {
   "cell_type": "markdown",
   "id": "f9054113-b39e-44d5-9d00-d963f3913bb7",
   "metadata": {
    "id": "f9054113-b39e-44d5-9d00-d963f3913bb7"
   },
   "source": [
    "---\n",
    "#### A better way to understand this is by using '.ndim' inbuilt function."
   ]
  },
  {
   "cell_type": "code",
   "execution_count": 8,
   "id": "c1b58824-7b87-4075-a021-e5c755a2c7c5",
   "metadata": {
    "id": "c1b58824-7b87-4075-a021-e5c755a2c7c5",
    "outputId": "40f9c5fb-df88-413c-9109-6e03cd712e73"
   },
   "outputs": [
    {
     "data": {
      "text/plain": [
       "1"
      ]
     },
     "execution_count": 8,
     "metadata": {},
     "output_type": "execute_result"
    }
   ],
   "source": [
    "a.ndim"
   ]
  },
  {
   "cell_type": "markdown",
   "id": "c5444daf-90fb-48e8-892b-39229fc73c97",
   "metadata": {
    "id": "c5444daf-90fb-48e8-892b-39229fc73c97"
   },
   "source": [
    "#### Just one singular demension\n",
    "\n",
    "---\n",
    "## Let's now experiment we two demensional arrays"
   ]
  },
  {
   "cell_type": "code",
   "execution_count": 9,
   "id": "ca4b9b82-eca0-489b-880e-661d170281d5",
   "metadata": {
    "id": "ca4b9b82-eca0-489b-880e-661d170281d5"
   },
   "outputs": [],
   "source": [
    "b = np.array([[1, 2, 3],\n",
    "              [4, 5, 6],\n",
    "              [7, 8, 9]], dtype='int')"
   ]
  },
  {
   "cell_type": "code",
   "execution_count": 10,
   "id": "04ad242e-ffe3-4682-9f27-a3caa7be2e05",
   "metadata": {
    "id": "04ad242e-ffe3-4682-9f27-a3caa7be2e05",
    "outputId": "658d883c-dad6-432e-d553-90c9dfd02e50"
   },
   "outputs": [
    {
     "data": {
      "text/plain": [
       "array([[1, 2, 3],\n",
       "       [4, 5, 6],\n",
       "       [7, 8, 9]])"
      ]
     },
     "execution_count": 10,
     "metadata": {},
     "output_type": "execute_result"
    }
   ],
   "source": [
    "b"
   ]
  },
  {
   "cell_type": "markdown",
   "id": "202ccaa5-d0b2-4dd8-bb6d-d0c1912064e9",
   "metadata": {
    "id": "202ccaa5-d0b2-4dd8-bb6d-d0c1912064e9"
   },
   "source": [
    "---\n",
    "#### We can use the same functions that we used in above for this two demensional array too."
   ]
  },
  {
   "cell_type": "code",
   "execution_count": 11,
   "id": "95013880-f353-4e86-a3b0-f1345c6aa5d9",
   "metadata": {
    "id": "95013880-f353-4e86-a3b0-f1345c6aa5d9",
    "outputId": "75340d75-1ea4-4407-b676-f424578d29dd"
   },
   "outputs": [
    {
     "name": "stdout",
     "output_type": "stream",
     "text": [
      "<class 'numpy.ndarray'>\n"
     ]
    }
   ],
   "source": [
    "print(type(b))"
   ]
  },
  {
   "cell_type": "code",
   "execution_count": 12,
   "id": "9d579660-6d08-4be3-bccd-e2da0a5c4c4c",
   "metadata": {
    "id": "9d579660-6d08-4be3-bccd-e2da0a5c4c4c",
    "outputId": "4a2c8c42-03ee-4bec-c8c5-af607aedfa43"
   },
   "outputs": [
    {
     "data": {
      "text/plain": [
       "dtype('int32')"
      ]
     },
     "execution_count": 12,
     "metadata": {},
     "output_type": "execute_result"
    }
   ],
   "source": [
    "b.dtype"
   ]
  },
  {
   "cell_type": "code",
   "execution_count": 13,
   "id": "47b2a887-e3ac-4ec5-a655-f710b6c5a5a6",
   "metadata": {
    "id": "47b2a887-e3ac-4ec5-a655-f710b6c5a5a6",
    "outputId": "ce168e2f-4b9e-4af7-a292-48a56a5fe4fc"
   },
   "outputs": [
    {
     "data": {
      "text/plain": [
       "(3, 3)"
      ]
     },
     "execution_count": 13,
     "metadata": {},
     "output_type": "execute_result"
    }
   ],
   "source": [
    "b.shape"
   ]
  },
  {
   "cell_type": "markdown",
   "id": "f6b67eea-3275-4c9f-a62f-604461ac02d5",
   "metadata": {
    "id": "f6b67eea-3275-4c9f-a62f-604461ac02d5"
   },
   "source": [
    "#### WE can see that the shape now has 'x' and 'y' demensions to display."
   ]
  },
  {
   "cell_type": "code",
   "execution_count": 14,
   "id": "37e51747-4795-4a66-bbae-ba00bd864853",
   "metadata": {
    "id": "37e51747-4795-4a66-bbae-ba00bd864853",
    "outputId": "79d6dcca-2335-46f6-fe92-d22b7a342511"
   },
   "outputs": [
    {
     "data": {
      "text/plain": [
       "9"
      ]
     },
     "execution_count": 14,
     "metadata": {},
     "output_type": "execute_result"
    }
   ],
   "source": [
    "b.size"
   ]
  },
  {
   "cell_type": "code",
   "execution_count": 15,
   "id": "f7b12cbc-15f3-4811-a04e-bacdb5bc0a7f",
   "metadata": {
    "id": "f7b12cbc-15f3-4811-a04e-bacdb5bc0a7f",
    "outputId": "2553b937-ea89-4a63-f70a-2aff3a7d068a"
   },
   "outputs": [
    {
     "data": {
      "text/plain": [
       "2"
      ]
     },
     "execution_count": 15,
     "metadata": {},
     "output_type": "execute_result"
    }
   ],
   "source": [
    "b.ndim"
   ]
  },
  {
   "cell_type": "markdown",
   "id": "6f43255b-2297-4fd3-9110-4cf7484b860a",
   "metadata": {
    "id": "6f43255b-2297-4fd3-9110-4cf7484b860a"
   },
   "source": [
    "---\n",
    "## Let's now experiment we three demensional arrays"
   ]
  },
  {
   "cell_type": "code",
   "execution_count": 16,
   "id": "70a8e349-7161-484a-9f55-ee6f2a75b913",
   "metadata": {
    "id": "70a8e349-7161-484a-9f55-ee6f2a75b913"
   },
   "outputs": [],
   "source": [
    "c = np.array([[[ 1,  2,  3],\n",
    "                [4, 5, 6],\n",
    "                [7, 8, 9]],\n",
    "               [[10, 11, 12],\n",
    "                [13, 14, 15],\n",
    "                [16, 17, 18]],\n",
    "               [[19, 20, 21],\n",
    "                [22, 23, 24],\n",
    "                [25, 26, 27]]])"
   ]
  },
  {
   "cell_type": "code",
   "execution_count": 17,
   "id": "1fb7a68b-a347-4f76-8414-305f793798b6",
   "metadata": {
    "id": "1fb7a68b-a347-4f76-8414-305f793798b6",
    "outputId": "424ac309-7321-43ef-d6eb-d2d2a95a75cf"
   },
   "outputs": [
    {
     "data": {
      "text/plain": [
       "array([[[ 1,  2,  3],\n",
       "        [ 4,  5,  6],\n",
       "        [ 7,  8,  9]],\n",
       "\n",
       "       [[10, 11, 12],\n",
       "        [13, 14, 15],\n",
       "        [16, 17, 18]],\n",
       "\n",
       "       [[19, 20, 21],\n",
       "        [22, 23, 24],\n",
       "        [25, 26, 27]]])"
      ]
     },
     "execution_count": 17,
     "metadata": {},
     "output_type": "execute_result"
    }
   ],
   "source": [
    "c"
   ]
  },
  {
   "cell_type": "markdown",
   "id": "ddf0cd62-1d02-48f3-970b-896e3e61d85e",
   "metadata": {
    "id": "ddf0cd62-1d02-48f3-970b-896e3e61d85e"
   },
   "source": [
    "#### Again we can use the above used functions for three demensional arrays too."
   ]
  },
  {
   "cell_type": "code",
   "execution_count": 18,
   "id": "88def265-d67a-4195-88fe-0f182d4a06b1",
   "metadata": {
    "id": "88def265-d67a-4195-88fe-0f182d4a06b1",
    "outputId": "1330cec7-7fc2-4233-9b04-34098a0523b3"
   },
   "outputs": [
    {
     "data": {
      "text/plain": [
       "(3, 3, 3)"
      ]
     },
     "execution_count": 18,
     "metadata": {},
     "output_type": "execute_result"
    }
   ],
   "source": [
    "c.shape"
   ]
  },
  {
   "cell_type": "code",
   "execution_count": 19,
   "id": "e5e50808-a1de-4121-a58e-3f86450d50b8",
   "metadata": {
    "id": "e5e50808-a1de-4121-a58e-3f86450d50b8",
    "outputId": "9c0ad30b-9211-4a9d-f5d0-957fa69472a3"
   },
   "outputs": [
    {
     "data": {
      "text/plain": [
       "27"
      ]
     },
     "execution_count": 19,
     "metadata": {},
     "output_type": "execute_result"
    }
   ],
   "source": [
    "c.size"
   ]
  },
  {
   "cell_type": "code",
   "execution_count": 20,
   "id": "6f3bdc96-e60f-4074-b65b-8d8ca5120ffe",
   "metadata": {
    "id": "6f3bdc96-e60f-4074-b65b-8d8ca5120ffe",
    "outputId": "6678af9b-1c70-4d9d-dae4-1a007662df52"
   },
   "outputs": [
    {
     "data": {
      "text/plain": [
       "3"
      ]
     },
     "execution_count": 20,
     "metadata": {},
     "output_type": "execute_result"
    }
   ],
   "source": [
    "c.ndim"
   ]
  },
  {
   "cell_type": "markdown",
   "id": "675ed612-a0f1-48ac-bc9c-0055e4d13212",
   "metadata": {
    "id": "675ed612-a0f1-48ac-bc9c-0055e4d13212"
   },
   "source": [
    "---\n",
    "## Surprise Test\n",
    "### Q. Make an three demensional array of shape '(4, 2, 2)'"
   ]
  },
  {
   "cell_type": "code",
   "execution_count": 21,
   "id": "65a2bd50-13c5-4703-8f95-5575990eb11f",
   "metadata": {
    "id": "65a2bd50-13c5-4703-8f95-5575990eb11f"
   },
   "outputs": [],
   "source": [
    "d = np.array([[[1, 2],\n",
    "               [3, 4]],\n",
    "              [[5, 6],\n",
    "                [7, 8]],\n",
    "              [[9, 10],\n",
    "               [11, 12]],\n",
    "              [[13, 14],\n",
    "               [15, 16]]])"
   ]
  },
  {
   "cell_type": "code",
   "execution_count": 22,
   "id": "b124f687-ba47-4cf4-bb2b-be63761e1d3d",
   "metadata": {
    "id": "b124f687-ba47-4cf4-bb2b-be63761e1d3d",
    "outputId": "ae316919-3d88-4337-da60-d314564304fa"
   },
   "outputs": [
    {
     "data": {
      "text/plain": [
       "(4, 2, 2)"
      ]
     },
     "execution_count": 22,
     "metadata": {},
     "output_type": "execute_result"
    }
   ],
   "source": [
    "d.shape"
   ]
  },
  {
   "cell_type": "markdown",
   "id": "5bbe5243-82f8-4770-bf3a-b759931daaa8",
   "metadata": {
    "id": "5bbe5243-82f8-4770-bf3a-b759931daaa8"
   },
   "source": [
    "---\n",
    "## Let's look into different functions\n",
    "---\n",
    "\n",
    "#### One can use the 'NumPy' function called 'np.ones()' to generate a matrix filled with ones as per the shape the user wants"
   ]
  },
  {
   "cell_type": "code",
   "execution_count": 23,
   "id": "e609a244-5c9b-4967-9f73-9c25b49cfe60",
   "metadata": {
    "id": "e609a244-5c9b-4967-9f73-9c25b49cfe60",
    "outputId": "91680792-00e6-4eb8-aea0-9668b598ad7b"
   },
   "outputs": [
    {
     "data": {
      "text/plain": [
       "array([[[1., 1., 1., 1., 1., 1., 1., 1.],\n",
       "        [1., 1., 1., 1., 1., 1., 1., 1.],\n",
       "        [1., 1., 1., 1., 1., 1., 1., 1.],\n",
       "        [1., 1., 1., 1., 1., 1., 1., 1.],\n",
       "        [1., 1., 1., 1., 1., 1., 1., 1.],\n",
       "        [1., 1., 1., 1., 1., 1., 1., 1.]],\n",
       "\n",
       "       [[1., 1., 1., 1., 1., 1., 1., 1.],\n",
       "        [1., 1., 1., 1., 1., 1., 1., 1.],\n",
       "        [1., 1., 1., 1., 1., 1., 1., 1.],\n",
       "        [1., 1., 1., 1., 1., 1., 1., 1.],\n",
       "        [1., 1., 1., 1., 1., 1., 1., 1.],\n",
       "        [1., 1., 1., 1., 1., 1., 1., 1.]],\n",
       "\n",
       "       [[1., 1., 1., 1., 1., 1., 1., 1.],\n",
       "        [1., 1., 1., 1., 1., 1., 1., 1.],\n",
       "        [1., 1., 1., 1., 1., 1., 1., 1.],\n",
       "        [1., 1., 1., 1., 1., 1., 1., 1.],\n",
       "        [1., 1., 1., 1., 1., 1., 1., 1.],\n",
       "        [1., 1., 1., 1., 1., 1., 1., 1.]],\n",
       "\n",
       "       [[1., 1., 1., 1., 1., 1., 1., 1.],\n",
       "        [1., 1., 1., 1., 1., 1., 1., 1.],\n",
       "        [1., 1., 1., 1., 1., 1., 1., 1.],\n",
       "        [1., 1., 1., 1., 1., 1., 1., 1.],\n",
       "        [1., 1., 1., 1., 1., 1., 1., 1.],\n",
       "        [1., 1., 1., 1., 1., 1., 1., 1.]]])"
      ]
     },
     "execution_count": 23,
     "metadata": {},
     "output_type": "execute_result"
    }
   ],
   "source": [
    "np.ones((4, 6, 8))"
   ]
  },
  {
   "cell_type": "markdown",
   "id": "1031b52e-1372-40dc-89ba-1e39cf144c30",
   "metadata": {
    "id": "1031b52e-1372-40dc-89ba-1e39cf144c30"
   },
   "source": [
    "#### One can also use the 'np.full()' function to get a matrix of the shape the user wants with a particular value filled in insted of ones."
   ]
  },
  {
   "cell_type": "code",
   "execution_count": 24,
   "id": "a781d126-b1e9-48dd-a902-07bdc058dd9f",
   "metadata": {
    "id": "a781d126-b1e9-48dd-a902-07bdc058dd9f",
    "outputId": "fae7197a-507b-4f79-d114-f6d41fd389e7"
   },
   "outputs": [
    {
     "data": {
      "text/plain": [
       "array([[69, 69, 69, 69, 69, 69],\n",
       "       [69, 69, 69, 69, 69, 69],\n",
       "       [69, 69, 69, 69, 69, 69],\n",
       "       [69, 69, 69, 69, 69, 69],\n",
       "       [69, 69, 69, 69, 69, 69],\n",
       "       [69, 69, 69, 69, 69, 69],\n",
       "       [69, 69, 69, 69, 69, 69],\n",
       "       [69, 69, 69, 69, 69, 69],\n",
       "       [69, 69, 69, 69, 69, 69]])"
      ]
     },
     "execution_count": 24,
     "metadata": {},
     "output_type": "execute_result"
    }
   ],
   "source": [
    "np.full(shape = (9, 6), fill_value = 69)"
   ]
  },
  {
   "cell_type": "markdown",
   "id": "cf10144b-3706-4c5c-80c0-24f7eaeb5294",
   "metadata": {
    "id": "cf10144b-3706-4c5c-80c0-24f7eaeb5294"
   },
   "source": [
    "#### One can make a identity matrix with function 'np.identity()'."
   ]
  },
  {
   "cell_type": "code",
   "execution_count": 25,
   "id": "8dcc8402-5a8b-44d6-948b-8100a687597a",
   "metadata": {
    "id": "8dcc8402-5a8b-44d6-948b-8100a687597a",
    "outputId": "c9ba72a7-aa5c-435e-a79c-6c4b7da434f3"
   },
   "outputs": [
    {
     "data": {
      "text/plain": [
       "array([[1., 0., 0., 0., 0., 0., 0.],\n",
       "       [0., 1., 0., 0., 0., 0., 0.],\n",
       "       [0., 0., 1., 0., 0., 0., 0.],\n",
       "       [0., 0., 0., 1., 0., 0., 0.],\n",
       "       [0., 0., 0., 0., 1., 0., 0.],\n",
       "       [0., 0., 0., 0., 0., 1., 0.],\n",
       "       [0., 0., 0., 0., 0., 0., 1.]])"
      ]
     },
     "execution_count": 25,
     "metadata": {},
     "output_type": "execute_result"
    }
   ],
   "source": [
    "np.identity(7)"
   ]
  },
  {
   "cell_type": "markdown",
   "id": "8c494534-fd35-4e4c-89ef-4530d2bbce80",
   "metadata": {
    "id": "8c494534-fd35-4e4c-89ef-4530d2bbce80"
   },
   "source": [
    "#### Make random numbers whenever you need out of thin air using 'np.random()'"
   ]
  },
  {
   "cell_type": "code",
   "execution_count": 26,
   "id": "2eb99dad-0c3e-455e-9051-65991be44267",
   "metadata": {
    "id": "2eb99dad-0c3e-455e-9051-65991be44267",
    "outputId": "52379cf8-ae16-40dd-954b-7cc57676fa19"
   },
   "outputs": [
    {
     "data": {
      "text/plain": [
       "array([[0.5511427 , 0.56162515, 0.42927796, 0.84213541, 0.51292174],\n",
       "       [0.5072341 , 0.13868395, 0.73341813, 0.9864562 , 0.70370145],\n",
       "       [0.73712098, 0.83314903, 0.66842604, 0.09355899, 0.87444372],\n",
       "       [0.3149812 , 0.99028965, 0.50139574, 0.0444585 , 0.90620749]])"
      ]
     },
     "execution_count": 26,
     "metadata": {},
     "output_type": "execute_result"
    }
   ],
   "source": [
    "np.random.rand(4,5)"
   ]
  },
  {
   "cell_type": "markdown",
   "id": "af99aa9f-87e6-4b66-9539-37d79cf2b289",
   "metadata": {
    "id": "af99aa9f-87e6-4b66-9539-37d79cf2b289"
   },
   "source": [
    "#### Usually it returns floats but you can also assign it to only return integers within a specified range"
   ]
  },
  {
   "cell_type": "code",
   "execution_count": 27,
   "id": "9d1f9da1-c559-447a-9562-f3373954fd71",
   "metadata": {
    "id": "9d1f9da1-c559-447a-9562-f3373954fd71",
    "outputId": "aa57b77b-065d-4496-b757-4057c21b1fb0"
   },
   "outputs": [
    {
     "data": {
      "text/plain": [
       "array([[ 2,  2, 10,  9, 13],\n",
       "       [10,  1, 11,  5,  7],\n",
       "       [ 9,  5,  8,  1, 11],\n",
       "       [ 7,  2, 10, 13,  1],\n",
       "       [10,  9, 13,  5,  9]])"
      ]
     },
     "execution_count": 27,
     "metadata": {},
     "output_type": "execute_result"
    }
   ],
   "source": [
    "np.random.randint(1, 14, size = (5, 5))"
   ]
  },
  {
   "cell_type": "markdown",
   "id": "427615b6-b8fe-42e3-b5fb-1e677a7e545b",
   "metadata": {
    "id": "427615b6-b8fe-42e3-b5fb-1e677a7e545b"
   },
   "source": [
    "#### If you are tired of constanly getting random numbers you can also seed the random fuction to always return a particular random generation."
   ]
  },
  {
   "cell_type": "code",
   "execution_count": 28,
   "id": "0b47ade3-2d21-474d-9759-36c770d38f3e",
   "metadata": {
    "id": "0b47ade3-2d21-474d-9759-36c770d38f3e",
    "outputId": "8d5f3e95-8ef3-49e3-93cc-d40e76fbfeb1"
   },
   "outputs": [
    {
     "data": {
      "text/plain": [
       "array([-0.61912682, -0.69934479,  0.28098204, -0.21230185, -0.73133961,\n",
       "        0.91127451, -0.31879833])"
      ]
     },
     "execution_count": 28,
     "metadata": {},
     "output_type": "execute_result"
    }
   ],
   "source": [
    "np.random.seed(2132004)\n",
    "set_seed = np.random.randn(7,)\n",
    "set_seed"
   ]
  },
  {
   "cell_type": "markdown",
   "id": "a4e7cb42-4042-492f-8742-cf6760e3b1ea",
   "metadata": {
    "id": "a4e7cb42-4042-492f-8742-cf6760e3b1ea"
   },
   "source": [
    "## Slicing Task / Homework\n",
    "#### Q. Generate a matrix of shape (3, 3) with only integres where you later on slice the matrix in such a way that it only prints each of it's quadrants"
   ]
  },
  {
   "cell_type": "code",
   "execution_count": 29,
   "id": "fa04d978-68d4-44a3-a7bd-59d3242528ab",
   "metadata": {
    "id": "fa04d978-68d4-44a3-a7bd-59d3242528ab",
    "outputId": "2e4a702c-8f03-4cfc-b784-b0cfb443364f"
   },
   "outputs": [
    {
     "data": {
      "text/plain": [
       "array([[ 2, 19,  6],\n",
       "       [20, 18,  9],\n",
       "       [ 7, 12,  1]])"
      ]
     },
     "execution_count": 29,
     "metadata": {},
     "output_type": "execute_result"
    }
   ],
   "source": [
    "e = np.random.randint(1, 21, size = (3, 3))\n",
    "e"
   ]
  },
  {
   "cell_type": "code",
   "execution_count": 30,
   "id": "b758ad21-47ab-4bc6-b6a6-96af0d0dd654",
   "metadata": {
    "id": "b758ad21-47ab-4bc6-b6a6-96af0d0dd654",
    "outputId": "671a81bb-6d98-4678-a537-f7de6a1550a5"
   },
   "outputs": [
    {
     "name": "stdout",
     "output_type": "stream",
     "text": [
      "First quadrant: \n",
      "[[ 2 19]\n",
      " [20 18]]\n",
      "\n",
      "Second quadrant: \n",
      "[[19  6]\n",
      " [18  9]]\n",
      "\n",
      "Third quadrant: \n",
      "[[20 18]\n",
      " [ 7 12]]\n",
      "\n",
      "Fourth quadrant: \n",
      "[[18  9]\n",
      " [12  1]]\n"
     ]
    }
   ],
   "source": [
    "print(f'First quadrant: \\n{e[:2, :2]}\\n')\n",
    "print(f'Second quadrant: \\n{e[:2, 1:3]}\\n')\n",
    "print(f'Third quadrant: \\n{e[1:, :2]}\\n')\n",
    "print(f'Fourth quadrant: \\n{e[1:, 1:3]}')"
   ]
  },
  {
   "cell_type": "markdown",
   "id": "a3186bf5-10c4-412e-93b2-c2b75f74a648",
   "metadata": {
    "id": "a3186bf5-10c4-412e-93b2-c2b75f74a648"
   },
   "source": [
    "# The End"
   ]
  }
 ],
 "metadata": {
  "colab": {
   "provenance": []
  },
  "kernelspec": {
   "display_name": "Python 3 (ipykernel)",
   "language": "python",
   "name": "python3"
  },
  "language_info": {
   "codemirror_mode": {
    "name": "ipython",
    "version": 3
   },
   "file_extension": ".py",
   "mimetype": "text/x-python",
   "name": "python",
   "nbconvert_exporter": "python",
   "pygments_lexer": "ipython3",
   "version": "3.12.4"
  }
 },
 "nbformat": 4,
 "nbformat_minor": 5
}
