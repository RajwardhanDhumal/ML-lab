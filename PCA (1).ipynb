{
 "cells": [
  {
   "cell_type": "markdown",
   "id": "71e30a03-410c-483b-ad9e-d8f83cf11664",
   "metadata": {},
   "source": [
    "Name:-Rajwardhan Sujit Dhumal<br>Class:-TY-IT-CORE<br>Batch:-CORE - 2 <br> Enrolment No.:-MITU22BTIT0063"
   ]
  },
  {
   "cell_type": "markdown",
   "id": "ca921dba",
   "metadata": {
    "id": "ca921dba"
   },
   "source": [
    "## Dataset Information\n",
    "\n",
    "\n",
    "The data scientists at BigMart have collected 2013 sales data for 1559 products across 10 stores in different cities. Also, certain attributes of each product and store have been defined. The aim is to build a predictive model and find out the sales of each product at a particular store.\n",
    "\n",
    "Using this model, BigMart will try to understand the properties of products and stores which play a key role in increasing sales.\n",
    "\n",
    "\n",
    "Variable | Description\n",
    "----------|--------------\n",
    "Item_Identifier | Unique product ID\n",
    "Item_Weight | Weight of product\n",
    "Item_Fat_Content | Whether the product is low fat or not\n",
    "Item_Visibility | The % of total display area of all products in a    store allocated to the particular product\n",
    "Item_Type | The category to which the product belongs\n",
    "Item_MRP | Maximum Retail Price (list price) of the product\n",
    "Outlet_Identifier | Unique store ID\n",
    "Outlet_Establishment_Year | The year in which store was established\n",
    "Outlet_Size | The size of the store in terms of ground area covered\n",
    "Outlet_Location_Type | The type of city in which the store is located\n",
    "Outlet_Type | Whether the outlet is just a grocery store or some sort of supermarket\n",
    "Item_Outlet_Sales | Sales of the product in the particulat store. This is the outcome variable to be predicted."
   ]
  },
  {
   "cell_type": "code",
   "execution_count": 1,
   "id": "050c8670-4a39-49eb-ac50-e381e0cd370b",
   "metadata": {
    "id": "050c8670-4a39-49eb-ac50-e381e0cd370b"
   },
   "outputs": [],
   "source": [
    "## Required libraries\n",
    "import numpy as np\n",
    "import pandas as pd"
   ]
  },
  {
   "cell_type": "code",
   "execution_count": 2,
   "id": "321531cd-85b2-4a48-abf0-39d45def28b3",
   "metadata": {
    "id": "321531cd-85b2-4a48-abf0-39d45def28b3"
   },
   "outputs": [],
   "source": [
    "data=pd.read_csv(\"train.csv\")"
   ]
  },
  {
   "cell_type": "code",
   "execution_count": 3,
   "id": "2cd187c4-c593-4120-883e-7bfeaa0ca116",
   "metadata": {
    "id": "2cd187c4-c593-4120-883e-7bfeaa0ca116",
    "outputId": "08595206-125f-407f-8d72-4762cfa1a6d6"
   },
   "outputs": [
    {
     "data": {
      "text/html": [
       "<div>\n",
       "<style scoped>\n",
       "    .dataframe tbody tr th:only-of-type {\n",
       "        vertical-align: middle;\n",
       "    }\n",
       "\n",
       "    .dataframe tbody tr th {\n",
       "        vertical-align: top;\n",
       "    }\n",
       "\n",
       "    .dataframe thead th {\n",
       "        text-align: right;\n",
       "    }\n",
       "</style>\n",
       "<table border=\"1\" class=\"dataframe\">\n",
       "  <thead>\n",
       "    <tr style=\"text-align: right;\">\n",
       "      <th></th>\n",
       "      <th>Item_Identifier</th>\n",
       "      <th>Item_Weight</th>\n",
       "      <th>Item_Fat_Content</th>\n",
       "      <th>Item_Visibility</th>\n",
       "      <th>Item_Type</th>\n",
       "      <th>Item_MRP</th>\n",
       "      <th>Outlet_Identifier</th>\n",
       "      <th>Outlet_Establishment_Year</th>\n",
       "      <th>Outlet_Size</th>\n",
       "      <th>Outlet_Location_Type</th>\n",
       "      <th>Outlet_Type</th>\n",
       "      <th>Item_Outlet_Sales</th>\n",
       "    </tr>\n",
       "  </thead>\n",
       "  <tbody>\n",
       "    <tr>\n",
       "      <th>0</th>\n",
       "      <td>FDA15</td>\n",
       "      <td>9.30</td>\n",
       "      <td>Low Fat</td>\n",
       "      <td>0.016047</td>\n",
       "      <td>Dairy</td>\n",
       "      <td>249.8092</td>\n",
       "      <td>OUT049</td>\n",
       "      <td>1999</td>\n",
       "      <td>Medium</td>\n",
       "      <td>Tier 1</td>\n",
       "      <td>Supermarket Type1</td>\n",
       "      <td>3735.1380</td>\n",
       "    </tr>\n",
       "    <tr>\n",
       "      <th>1</th>\n",
       "      <td>DRC01</td>\n",
       "      <td>5.92</td>\n",
       "      <td>Regular</td>\n",
       "      <td>0.019278</td>\n",
       "      <td>Soft Drinks</td>\n",
       "      <td>48.2692</td>\n",
       "      <td>OUT018</td>\n",
       "      <td>2009</td>\n",
       "      <td>Medium</td>\n",
       "      <td>Tier 3</td>\n",
       "      <td>Supermarket Type2</td>\n",
       "      <td>443.4228</td>\n",
       "    </tr>\n",
       "    <tr>\n",
       "      <th>2</th>\n",
       "      <td>FDN15</td>\n",
       "      <td>17.50</td>\n",
       "      <td>Low Fat</td>\n",
       "      <td>0.016760</td>\n",
       "      <td>Meat</td>\n",
       "      <td>141.6180</td>\n",
       "      <td>OUT049</td>\n",
       "      <td>1999</td>\n",
       "      <td>Medium</td>\n",
       "      <td>Tier 1</td>\n",
       "      <td>Supermarket Type1</td>\n",
       "      <td>2097.2700</td>\n",
       "    </tr>\n",
       "    <tr>\n",
       "      <th>3</th>\n",
       "      <td>FDX07</td>\n",
       "      <td>19.20</td>\n",
       "      <td>Regular</td>\n",
       "      <td>0.000000</td>\n",
       "      <td>Fruits and Vegetables</td>\n",
       "      <td>182.0950</td>\n",
       "      <td>OUT010</td>\n",
       "      <td>1998</td>\n",
       "      <td>NaN</td>\n",
       "      <td>Tier 3</td>\n",
       "      <td>Grocery Store</td>\n",
       "      <td>732.3800</td>\n",
       "    </tr>\n",
       "    <tr>\n",
       "      <th>4</th>\n",
       "      <td>NCD19</td>\n",
       "      <td>8.93</td>\n",
       "      <td>Low Fat</td>\n",
       "      <td>0.000000</td>\n",
       "      <td>Household</td>\n",
       "      <td>53.8614</td>\n",
       "      <td>OUT013</td>\n",
       "      <td>1987</td>\n",
       "      <td>High</td>\n",
       "      <td>Tier 3</td>\n",
       "      <td>Supermarket Type1</td>\n",
       "      <td>994.7052</td>\n",
       "    </tr>\n",
       "  </tbody>\n",
       "</table>\n",
       "</div>"
      ],
      "text/plain": [
       "  Item_Identifier  Item_Weight Item_Fat_Content  Item_Visibility  \\\n",
       "0           FDA15         9.30          Low Fat         0.016047   \n",
       "1           DRC01         5.92          Regular         0.019278   \n",
       "2           FDN15        17.50          Low Fat         0.016760   \n",
       "3           FDX07        19.20          Regular         0.000000   \n",
       "4           NCD19         8.93          Low Fat         0.000000   \n",
       "\n",
       "               Item_Type  Item_MRP Outlet_Identifier  \\\n",
       "0                  Dairy  249.8092            OUT049   \n",
       "1            Soft Drinks   48.2692            OUT018   \n",
       "2                   Meat  141.6180            OUT049   \n",
       "3  Fruits and Vegetables  182.0950            OUT010   \n",
       "4              Household   53.8614            OUT013   \n",
       "\n",
       "   Outlet_Establishment_Year Outlet_Size Outlet_Location_Type  \\\n",
       "0                       1999      Medium               Tier 1   \n",
       "1                       2009      Medium               Tier 3   \n",
       "2                       1999      Medium               Tier 1   \n",
       "3                       1998         NaN               Tier 3   \n",
       "4                       1987        High               Tier 3   \n",
       "\n",
       "         Outlet_Type  Item_Outlet_Sales  \n",
       "0  Supermarket Type1          3735.1380  \n",
       "1  Supermarket Type2           443.4228  \n",
       "2  Supermarket Type1          2097.2700  \n",
       "3      Grocery Store           732.3800  \n",
       "4  Supermarket Type1           994.7052  "
      ]
     },
     "execution_count": 3,
     "metadata": {},
     "output_type": "execute_result"
    }
   ],
   "source": [
    "data.head()"
   ]
  },
  {
   "cell_type": "code",
   "execution_count": 4,
   "id": "517ea9d7-cade-45c6-b238-9566637d44b6",
   "metadata": {
    "id": "517ea9d7-cade-45c6-b238-9566637d44b6",
    "outputId": "a804057b-f9d3-4215-80a1-077b99e704d4"
   },
   "outputs": [
    {
     "data": {
      "text/html": [
       "<div>\n",
       "<style scoped>\n",
       "    .dataframe tbody tr th:only-of-type {\n",
       "        vertical-align: middle;\n",
       "    }\n",
       "\n",
       "    .dataframe tbody tr th {\n",
       "        vertical-align: top;\n",
       "    }\n",
       "\n",
       "    .dataframe thead th {\n",
       "        text-align: right;\n",
       "    }\n",
       "</style>\n",
       "<table border=\"1\" class=\"dataframe\">\n",
       "  <thead>\n",
       "    <tr style=\"text-align: right;\">\n",
       "      <th></th>\n",
       "      <th>Item_Identifier</th>\n",
       "      <th>Item_Weight</th>\n",
       "      <th>Item_Fat_Content</th>\n",
       "      <th>Item_Visibility</th>\n",
       "      <th>Item_Type</th>\n",
       "      <th>Item_MRP</th>\n",
       "      <th>Outlet_Identifier</th>\n",
       "      <th>Outlet_Establishment_Year</th>\n",
       "      <th>Outlet_Size</th>\n",
       "      <th>Outlet_Location_Type</th>\n",
       "      <th>Outlet_Type</th>\n",
       "      <th>Item_Outlet_Sales</th>\n",
       "    </tr>\n",
       "  </thead>\n",
       "  <tbody>\n",
       "    <tr>\n",
       "      <th>8518</th>\n",
       "      <td>FDF22</td>\n",
       "      <td>6.865</td>\n",
       "      <td>Low Fat</td>\n",
       "      <td>0.056783</td>\n",
       "      <td>Snack Foods</td>\n",
       "      <td>214.5218</td>\n",
       "      <td>OUT013</td>\n",
       "      <td>1987</td>\n",
       "      <td>High</td>\n",
       "      <td>Tier 3</td>\n",
       "      <td>Supermarket Type1</td>\n",
       "      <td>2778.3834</td>\n",
       "    </tr>\n",
       "    <tr>\n",
       "      <th>8519</th>\n",
       "      <td>FDS36</td>\n",
       "      <td>8.380</td>\n",
       "      <td>Regular</td>\n",
       "      <td>0.046982</td>\n",
       "      <td>Baking Goods</td>\n",
       "      <td>108.1570</td>\n",
       "      <td>OUT045</td>\n",
       "      <td>2002</td>\n",
       "      <td>NaN</td>\n",
       "      <td>Tier 2</td>\n",
       "      <td>Supermarket Type1</td>\n",
       "      <td>549.2850</td>\n",
       "    </tr>\n",
       "    <tr>\n",
       "      <th>8520</th>\n",
       "      <td>NCJ29</td>\n",
       "      <td>10.600</td>\n",
       "      <td>Low Fat</td>\n",
       "      <td>0.035186</td>\n",
       "      <td>Health and Hygiene</td>\n",
       "      <td>85.1224</td>\n",
       "      <td>OUT035</td>\n",
       "      <td>2004</td>\n",
       "      <td>Small</td>\n",
       "      <td>Tier 2</td>\n",
       "      <td>Supermarket Type1</td>\n",
       "      <td>1193.1136</td>\n",
       "    </tr>\n",
       "    <tr>\n",
       "      <th>8521</th>\n",
       "      <td>FDN46</td>\n",
       "      <td>7.210</td>\n",
       "      <td>Regular</td>\n",
       "      <td>0.145221</td>\n",
       "      <td>Snack Foods</td>\n",
       "      <td>103.1332</td>\n",
       "      <td>OUT018</td>\n",
       "      <td>2009</td>\n",
       "      <td>Medium</td>\n",
       "      <td>Tier 3</td>\n",
       "      <td>Supermarket Type2</td>\n",
       "      <td>1845.5976</td>\n",
       "    </tr>\n",
       "    <tr>\n",
       "      <th>8522</th>\n",
       "      <td>DRG01</td>\n",
       "      <td>14.800</td>\n",
       "      <td>Low Fat</td>\n",
       "      <td>0.044878</td>\n",
       "      <td>Soft Drinks</td>\n",
       "      <td>75.4670</td>\n",
       "      <td>OUT046</td>\n",
       "      <td>1997</td>\n",
       "      <td>Small</td>\n",
       "      <td>Tier 1</td>\n",
       "      <td>Supermarket Type1</td>\n",
       "      <td>765.6700</td>\n",
       "    </tr>\n",
       "  </tbody>\n",
       "</table>\n",
       "</div>"
      ],
      "text/plain": [
       "     Item_Identifier  Item_Weight Item_Fat_Content  Item_Visibility  \\\n",
       "8518           FDF22        6.865          Low Fat         0.056783   \n",
       "8519           FDS36        8.380          Regular         0.046982   \n",
       "8520           NCJ29       10.600          Low Fat         0.035186   \n",
       "8521           FDN46        7.210          Regular         0.145221   \n",
       "8522           DRG01       14.800          Low Fat         0.044878   \n",
       "\n",
       "               Item_Type  Item_MRP Outlet_Identifier  \\\n",
       "8518         Snack Foods  214.5218            OUT013   \n",
       "8519        Baking Goods  108.1570            OUT045   \n",
       "8520  Health and Hygiene   85.1224            OUT035   \n",
       "8521         Snack Foods  103.1332            OUT018   \n",
       "8522         Soft Drinks   75.4670            OUT046   \n",
       "\n",
       "      Outlet_Establishment_Year Outlet_Size Outlet_Location_Type  \\\n",
       "8518                       1987        High               Tier 3   \n",
       "8519                       2002         NaN               Tier 2   \n",
       "8520                       2004       Small               Tier 2   \n",
       "8521                       2009      Medium               Tier 3   \n",
       "8522                       1997       Small               Tier 1   \n",
       "\n",
       "            Outlet_Type  Item_Outlet_Sales  \n",
       "8518  Supermarket Type1          2778.3834  \n",
       "8519  Supermarket Type1           549.2850  \n",
       "8520  Supermarket Type1          1193.1136  \n",
       "8521  Supermarket Type2          1845.5976  \n",
       "8522  Supermarket Type1           765.6700  "
      ]
     },
     "execution_count": 4,
     "metadata": {},
     "output_type": "execute_result"
    }
   ],
   "source": [
    "data.tail()"
   ]
  },
  {
   "cell_type": "code",
   "execution_count": 5,
   "id": "83897bf0-6f29-4952-b58d-a408e85acd7f",
   "metadata": {
    "id": "83897bf0-6f29-4952-b58d-a408e85acd7f",
    "outputId": "5f3eea3c-7342-416a-d4d6-10cd828a2bd7"
   },
   "outputs": [
    {
     "name": "stdout",
     "output_type": "stream",
     "text": [
      "<class 'pandas.core.frame.DataFrame'>\n",
      "RangeIndex: 8523 entries, 0 to 8522\n",
      "Data columns (total 12 columns):\n",
      " #   Column                     Non-Null Count  Dtype  \n",
      "---  ------                     --------------  -----  \n",
      " 0   Item_Identifier            8523 non-null   object \n",
      " 1   Item_Weight                7060 non-null   float64\n",
      " 2   Item_Fat_Content           8523 non-null   object \n",
      " 3   Item_Visibility            8523 non-null   float64\n",
      " 4   Item_Type                  8523 non-null   object \n",
      " 5   Item_MRP                   8523 non-null   float64\n",
      " 6   Outlet_Identifier          8523 non-null   object \n",
      " 7   Outlet_Establishment_Year  8523 non-null   int64  \n",
      " 8   Outlet_Size                6113 non-null   object \n",
      " 9   Outlet_Location_Type       8523 non-null   object \n",
      " 10  Outlet_Type                8523 non-null   object \n",
      " 11  Item_Outlet_Sales          8523 non-null   float64\n",
      "dtypes: float64(4), int64(1), object(7)\n",
      "memory usage: 799.2+ KB\n"
     ]
    }
   ],
   "source": [
    "data.info() #it tells range  of index, total columns ,names of columns, Non-Null will give how many entries are there in column\n",
    "#data imputation is a process where we clean the data and do some operations like min,max"
   ]
  },
  {
   "cell_type": "code",
   "execution_count": 6,
   "id": "322b800a-5df1-4740-80a9-126b85f42bd1",
   "metadata": {
    "id": "322b800a-5df1-4740-80a9-126b85f42bd1",
    "outputId": "3485670d-aa70-401c-feb4-b3ed65d7fd84"
   },
   "outputs": [
    {
     "data": {
      "text/html": [
       "<div>\n",
       "<style scoped>\n",
       "    .dataframe tbody tr th:only-of-type {\n",
       "        vertical-align: middle;\n",
       "    }\n",
       "\n",
       "    .dataframe tbody tr th {\n",
       "        vertical-align: top;\n",
       "    }\n",
       "\n",
       "    .dataframe thead th {\n",
       "        text-align: right;\n",
       "    }\n",
       "</style>\n",
       "<table border=\"1\" class=\"dataframe\">\n",
       "  <thead>\n",
       "    <tr style=\"text-align: right;\">\n",
       "      <th></th>\n",
       "      <th>Item_Weight</th>\n",
       "      <th>Item_Visibility</th>\n",
       "      <th>Item_MRP</th>\n",
       "      <th>Outlet_Establishment_Year</th>\n",
       "      <th>Item_Outlet_Sales</th>\n",
       "    </tr>\n",
       "  </thead>\n",
       "  <tbody>\n",
       "    <tr>\n",
       "      <th>count</th>\n",
       "      <td>7060.000000</td>\n",
       "      <td>8523.000000</td>\n",
       "      <td>8523.000000</td>\n",
       "      <td>8523.000000</td>\n",
       "      <td>8523.000000</td>\n",
       "    </tr>\n",
       "    <tr>\n",
       "      <th>mean</th>\n",
       "      <td>12.857645</td>\n",
       "      <td>0.066132</td>\n",
       "      <td>140.992782</td>\n",
       "      <td>1997.831867</td>\n",
       "      <td>2181.288914</td>\n",
       "    </tr>\n",
       "    <tr>\n",
       "      <th>std</th>\n",
       "      <td>4.643456</td>\n",
       "      <td>0.051598</td>\n",
       "      <td>62.275067</td>\n",
       "      <td>8.371760</td>\n",
       "      <td>1706.499616</td>\n",
       "    </tr>\n",
       "    <tr>\n",
       "      <th>min</th>\n",
       "      <td>4.555000</td>\n",
       "      <td>0.000000</td>\n",
       "      <td>31.290000</td>\n",
       "      <td>1985.000000</td>\n",
       "      <td>33.290000</td>\n",
       "    </tr>\n",
       "    <tr>\n",
       "      <th>25%</th>\n",
       "      <td>8.773750</td>\n",
       "      <td>0.026989</td>\n",
       "      <td>93.826500</td>\n",
       "      <td>1987.000000</td>\n",
       "      <td>834.247400</td>\n",
       "    </tr>\n",
       "    <tr>\n",
       "      <th>50%</th>\n",
       "      <td>12.600000</td>\n",
       "      <td>0.053931</td>\n",
       "      <td>143.012800</td>\n",
       "      <td>1999.000000</td>\n",
       "      <td>1794.331000</td>\n",
       "    </tr>\n",
       "    <tr>\n",
       "      <th>75%</th>\n",
       "      <td>16.850000</td>\n",
       "      <td>0.094585</td>\n",
       "      <td>185.643700</td>\n",
       "      <td>2004.000000</td>\n",
       "      <td>3101.296400</td>\n",
       "    </tr>\n",
       "    <tr>\n",
       "      <th>max</th>\n",
       "      <td>21.350000</td>\n",
       "      <td>0.328391</td>\n",
       "      <td>266.888400</td>\n",
       "      <td>2009.000000</td>\n",
       "      <td>13086.964800</td>\n",
       "    </tr>\n",
       "  </tbody>\n",
       "</table>\n",
       "</div>"
      ],
      "text/plain": [
       "       Item_Weight  Item_Visibility     Item_MRP  Outlet_Establishment_Year  \\\n",
       "count  7060.000000      8523.000000  8523.000000                8523.000000   \n",
       "mean     12.857645         0.066132   140.992782                1997.831867   \n",
       "std       4.643456         0.051598    62.275067                   8.371760   \n",
       "min       4.555000         0.000000    31.290000                1985.000000   \n",
       "25%       8.773750         0.026989    93.826500                1987.000000   \n",
       "50%      12.600000         0.053931   143.012800                1999.000000   \n",
       "75%      16.850000         0.094585   185.643700                2004.000000   \n",
       "max      21.350000         0.328391   266.888400                2009.000000   \n",
       "\n",
       "       Item_Outlet_Sales  \n",
       "count        8523.000000  \n",
       "mean         2181.288914  \n",
       "std          1706.499616  \n",
       "min            33.290000  \n",
       "25%           834.247400  \n",
       "50%          1794.331000  \n",
       "75%          3101.296400  \n",
       "max         13086.964800  "
      ]
     },
     "execution_count": 6,
     "metadata": {},
     "output_type": "execute_result"
    }
   ],
   "source": [
    "data.describe()#it gives only float,int types description and not the object means char type"
   ]
  },
  {
   "cell_type": "markdown",
   "id": "ff06457d-b055-437c-a9c1-c5a1fef12eb0",
   "metadata": {
    "id": "ff06457d-b055-437c-a9c1-c5a1fef12eb0"
   },
   "source": [
    "__first task is to adjust empty values__"
   ]
  },
  {
   "cell_type": "code",
   "execution_count": 7,
   "id": "e01a587a-2412-4342-af35-22ab81b47c20",
   "metadata": {
    "id": "e01a587a-2412-4342-af35-22ab81b47c20",
    "outputId": "28311827-10fb-4cec-d4f1-ae9518ea6e1b"
   },
   "outputs": [
    {
     "data": {
      "text/plain": [
       "Item_Identifier                 0\n",
       "Item_Weight                  1463\n",
       "Item_Fat_Content                0\n",
       "Item_Visibility                 0\n",
       "Item_Type                       0\n",
       "Item_MRP                        0\n",
       "Outlet_Identifier               0\n",
       "Outlet_Establishment_Year       0\n",
       "Outlet_Size                  2410\n",
       "Outlet_Location_Type            0\n",
       "Outlet_Type                     0\n",
       "Item_Outlet_Sales               0\n",
       "dtype: int64"
      ]
     },
     "execution_count": 7,
     "metadata": {},
     "output_type": "execute_result"
    }
   ],
   "source": [
    "data.isnull().sum()#it checks how many rows having null values"
   ]
  },
  {
   "cell_type": "code",
   "execution_count": 8,
   "id": "7afc062e-31e9-49a2-99ae-ca3b12bcd852",
   "metadata": {
    "id": "7afc062e-31e9-49a2-99ae-ca3b12bcd852",
    "outputId": "4f8e443d-a5e3-4d63-f407-3d516037ac5b"
   },
   "outputs": [
    {
     "data": {
      "text/plain": [
       "Index(['Item_Identifier', 'Item_Weight', 'Item_Fat_Content', 'Item_Visibility',\n",
       "       'Item_Type', 'Item_MRP', 'Outlet_Identifier',\n",
       "       'Outlet_Establishment_Year', 'Outlet_Size', 'Outlet_Location_Type',\n",
       "       'Outlet_Type', 'Item_Outlet_Sales'],\n",
       "      dtype='object')"
      ]
     },
     "execution_count": 8,
     "metadata": {},
     "output_type": "execute_result"
    }
   ],
   "source": [
    "data.columns"
   ]
  },
  {
   "cell_type": "code",
   "execution_count": 9,
   "id": "f69d7799-4e1b-471d-a7ed-4b7363ac28eb",
   "metadata": {
    "id": "f69d7799-4e1b-471d-a7ed-4b7363ac28eb",
    "outputId": "5edac903-da7f-4c4c-c062-acc5fc9a28a7"
   },
   "outputs": [
    {
     "data": {
      "text/plain": [
       "1559"
      ]
     },
     "execution_count": 9,
     "metadata": {},
     "output_type": "execute_result"
    }
   ],
   "source": [
    "#how to check how many items are there\n",
    "len(data.Item_Identifier.unique())#len gives no. of items,.unique() function gives all unique values"
   ]
  },
  {
   "cell_type": "code",
   "execution_count": 10,
   "id": "6b59ce49-3f53-4313-b024-0e81b01e3512",
   "metadata": {
    "id": "6b59ce49-3f53-4313-b024-0e81b01e3512",
    "outputId": "acc2071f-75ce-41bf-9375-40f558f8a6cb"
   },
   "outputs": [
    {
     "data": {
      "text/plain": [
       "0       FDA15\n",
       "1       DRC01\n",
       "2       FDN15\n",
       "3       FDX07\n",
       "4       NCD19\n",
       "        ...  \n",
       "8518    FDF22\n",
       "8519    FDS36\n",
       "8520    NCJ29\n",
       "8521    FDN46\n",
       "8522    DRG01\n",
       "Name: Item_Identifier, Length: 8523, dtype: object"
      ]
     },
     "execution_count": 10,
     "metadata": {},
     "output_type": "execute_result"
    }
   ],
   "source": [
    "data['Item_Identifier']#it gives series of products"
   ]
  },
  {
   "cell_type": "code",
   "execution_count": 11,
   "id": "3a5c048c-b0b0-42fc-8227-d174e1760dba",
   "metadata": {
    "id": "3a5c048c-b0b0-42fc-8227-d174e1760dba"
   },
   "outputs": [],
   "source": [
    "unique_values ={}"
   ]
  },
  {
   "cell_type": "code",
   "execution_count": 12,
   "id": "7676a39d-291e-406b-baeb-366c535185ff",
   "metadata": {
    "id": "7676a39d-291e-406b-baeb-366c535185ff",
    "outputId": "be784110-2371-4bbc-d688-a575858714a6"
   },
   "outputs": [
    {
     "data": {
      "text/plain": [
       "{'Item_Identifier': 1559,\n",
       " 'Item_Weight': 416,\n",
       " 'Item_Fat_Content': 5,\n",
       " 'Item_Visibility': 7880,\n",
       " 'Item_Type': 16,\n",
       " 'Item_MRP': 5938,\n",
       " 'Outlet_Identifier': 10,\n",
       " 'Outlet_Establishment_Year': 9,\n",
       " 'Outlet_Size': 4,\n",
       " 'Outlet_Location_Type': 3,\n",
       " 'Outlet_Type': 4,\n",
       " 'Item_Outlet_Sales': 3493}"
      ]
     },
     "execution_count": 12,
     "metadata": {},
     "output_type": "execute_result"
    }
   ],
   "source": [
    "for column in data.columns:\n",
    "    unique_values[column]=len(data[column].unique())\n",
    "unique_values#kiti unique values aahet pratek mdhe"
   ]
  },
  {
   "cell_type": "code",
   "execution_count": 13,
   "id": "9a7b10ab-e080-4a41-babc-e4ace9034c11",
   "metadata": {
    "id": "9a7b10ab-e080-4a41-babc-e4ace9034c11",
    "outputId": "1da967a0-6bef-48a7-8232-b88cf6538f56"
   },
   "outputs": [
    {
     "data": {
      "text/plain": [
       "Item_Identifier              1559\n",
       "Item_Weight                   416\n",
       "Item_Fat_Content                5\n",
       "Item_Visibility              7880\n",
       "Item_Type                      16\n",
       "Item_MRP                     5938\n",
       "Outlet_Identifier              10\n",
       "Outlet_Establishment_Year       9\n",
       "Outlet_Size                     4\n",
       "Outlet_Location_Type            3\n",
       "Outlet_Type                     4\n",
       "Item_Outlet_Sales            3493\n",
       "dtype: int64"
      ]
     },
     "execution_count": 13,
     "metadata": {},
     "output_type": "execute_result"
    }
   ],
   "source": [
    "data.apply(lambda x : len(x.unique())) #another method to check unique values"
   ]
  },
  {
   "cell_type": "code",
   "execution_count": 14,
   "id": "73494527-4760-4463-8fc2-106b5fc473a5",
   "metadata": {
    "id": "73494527-4760-4463-8fc2-106b5fc473a5",
    "outputId": "d8dc3f7e-0c0c-43a8-ea6b-a0e2ce7dfee9"
   },
   "outputs": [
    {
     "data": {
      "text/plain": [
       "array(['Low Fat', 'Regular', 'low fat', 'LF', 'reg'], dtype=object)"
      ]
     },
     "execution_count": 14,
     "metadata": {},
     "output_type": "execute_result"
    }
   ],
   "source": [
    "data.Item_Fat_Content.unique()"
   ]
  },
  {
   "cell_type": "code",
   "execution_count": 15,
   "id": "25a772a3-a47c-4067-ad04-e3ca8e13d047",
   "metadata": {
    "id": "25a772a3-a47c-4067-ad04-e3ca8e13d047"
   },
   "outputs": [],
   "source": [
    "data[\"Item_Fat_Content\"]=data[\"Item_Fat_Content\"].replace({'LF':'Low Fat','low fat':'Low Fat','reg':'Regular'})"
   ]
  },
  {
   "cell_type": "code",
   "execution_count": 16,
   "id": "b6720a85-503a-43cb-9c4a-0d3f75d22f7b",
   "metadata": {
    "id": "b6720a85-503a-43cb-9c4a-0d3f75d22f7b",
    "outputId": "f0c04daf-cef5-44f0-cee0-43b44fa2cfd8"
   },
   "outputs": [
    {
     "data": {
      "text/plain": [
       "array(['Low Fat', 'Regular'], dtype=object)"
      ]
     },
     "execution_count": 16,
     "metadata": {},
     "output_type": "execute_result"
    }
   ],
   "source": [
    "data.Item_Fat_Content.unique()"
   ]
  },
  {
   "cell_type": "code",
   "execution_count": 17,
   "id": "058866bc-a034-4a47-bc31-4ec6bc4be684",
   "metadata": {
    "id": "058866bc-a034-4a47-bc31-4ec6bc4be684"
   },
   "outputs": [],
   "source": [
    "# data.dropna()  #NA values will not be displayed or it will be deleted"
   ]
  },
  {
   "cell_type": "code",
   "execution_count": 18,
   "id": "9e6f937d-6298-4397-8bba-6952e05dc320",
   "metadata": {
    "id": "9e6f937d-6298-4397-8bba-6952e05dc320",
    "outputId": "b850728c-338f-417a-88f2-506a010d3bb7"
   },
   "outputs": [
    {
     "data": {
      "text/plain": [
       "0        9.300\n",
       "1        5.920\n",
       "2       17.500\n",
       "3       19.200\n",
       "4        8.930\n",
       "         ...  \n",
       "8518     6.865\n",
       "8519     8.380\n",
       "8520    10.600\n",
       "8521     7.210\n",
       "8522    14.800\n",
       "Name: Item_Weight, Length: 8523, dtype: float64"
      ]
     },
     "execution_count": 18,
     "metadata": {},
     "output_type": "execute_result"
    }
   ],
   "source": [
    "#to retrieve a single column\n",
    "data.Item_Weight\n",
    "# or we can also use\n",
    "data['Item_Weight']"
   ]
  },
  {
   "cell_type": "code",
   "execution_count": 19,
   "id": "690547ac-6c44-43d5-a822-45da2cc4f4cc",
   "metadata": {
    "id": "690547ac-6c44-43d5-a822-45da2cc4f4cc",
    "outputId": "2038da2b-5689-44ff-b8a9-cd31a65521ba"
   },
   "outputs": [
    {
     "data": {
      "text/html": [
       "<div>\n",
       "<style scoped>\n",
       "    .dataframe tbody tr th:only-of-type {\n",
       "        vertical-align: middle;\n",
       "    }\n",
       "\n",
       "    .dataframe tbody tr th {\n",
       "        vertical-align: top;\n",
       "    }\n",
       "\n",
       "    .dataframe thead th {\n",
       "        text-align: right;\n",
       "    }\n",
       "</style>\n",
       "<table border=\"1\" class=\"dataframe\">\n",
       "  <thead>\n",
       "    <tr style=\"text-align: right;\">\n",
       "      <th></th>\n",
       "      <th>Item_Identifier</th>\n",
       "      <th>Item_Weight</th>\n",
       "      <th>Item_Fat_Content</th>\n",
       "      <th>Item_Visibility</th>\n",
       "      <th>Item_Type</th>\n",
       "      <th>Item_MRP</th>\n",
       "      <th>Outlet_Identifier</th>\n",
       "      <th>Outlet_Establishment_Year</th>\n",
       "      <th>Outlet_Size</th>\n",
       "      <th>Outlet_Location_Type</th>\n",
       "      <th>Outlet_Type</th>\n",
       "      <th>Item_Outlet_Sales</th>\n",
       "    </tr>\n",
       "  </thead>\n",
       "  <tbody>\n",
       "    <tr>\n",
       "      <th>7</th>\n",
       "      <td>FDP10</td>\n",
       "      <td>NaN</td>\n",
       "      <td>Low Fat</td>\n",
       "      <td>0.127470</td>\n",
       "      <td>Snack Foods</td>\n",
       "      <td>107.7622</td>\n",
       "      <td>OUT027</td>\n",
       "      <td>1985</td>\n",
       "      <td>Medium</td>\n",
       "      <td>Tier 3</td>\n",
       "      <td>Supermarket Type3</td>\n",
       "      <td>4022.7636</td>\n",
       "    </tr>\n",
       "    <tr>\n",
       "      <th>18</th>\n",
       "      <td>DRI11</td>\n",
       "      <td>NaN</td>\n",
       "      <td>Low Fat</td>\n",
       "      <td>0.034238</td>\n",
       "      <td>Hard Drinks</td>\n",
       "      <td>113.2834</td>\n",
       "      <td>OUT027</td>\n",
       "      <td>1985</td>\n",
       "      <td>Medium</td>\n",
       "      <td>Tier 3</td>\n",
       "      <td>Supermarket Type3</td>\n",
       "      <td>2303.6680</td>\n",
       "    </tr>\n",
       "    <tr>\n",
       "      <th>21</th>\n",
       "      <td>FDW12</td>\n",
       "      <td>NaN</td>\n",
       "      <td>Regular</td>\n",
       "      <td>0.035400</td>\n",
       "      <td>Baking Goods</td>\n",
       "      <td>144.5444</td>\n",
       "      <td>OUT027</td>\n",
       "      <td>1985</td>\n",
       "      <td>Medium</td>\n",
       "      <td>Tier 3</td>\n",
       "      <td>Supermarket Type3</td>\n",
       "      <td>4064.0432</td>\n",
       "    </tr>\n",
       "    <tr>\n",
       "      <th>23</th>\n",
       "      <td>FDC37</td>\n",
       "      <td>NaN</td>\n",
       "      <td>Low Fat</td>\n",
       "      <td>0.057557</td>\n",
       "      <td>Baking Goods</td>\n",
       "      <td>107.6938</td>\n",
       "      <td>OUT019</td>\n",
       "      <td>1985</td>\n",
       "      <td>Small</td>\n",
       "      <td>Tier 1</td>\n",
       "      <td>Grocery Store</td>\n",
       "      <td>214.3876</td>\n",
       "    </tr>\n",
       "    <tr>\n",
       "      <th>29</th>\n",
       "      <td>FDC14</td>\n",
       "      <td>NaN</td>\n",
       "      <td>Regular</td>\n",
       "      <td>0.072222</td>\n",
       "      <td>Canned</td>\n",
       "      <td>43.6454</td>\n",
       "      <td>OUT019</td>\n",
       "      <td>1985</td>\n",
       "      <td>Small</td>\n",
       "      <td>Tier 1</td>\n",
       "      <td>Grocery Store</td>\n",
       "      <td>125.8362</td>\n",
       "    </tr>\n",
       "    <tr>\n",
       "      <th>...</th>\n",
       "      <td>...</td>\n",
       "      <td>...</td>\n",
       "      <td>...</td>\n",
       "      <td>...</td>\n",
       "      <td>...</td>\n",
       "      <td>...</td>\n",
       "      <td>...</td>\n",
       "      <td>...</td>\n",
       "      <td>...</td>\n",
       "      <td>...</td>\n",
       "      <td>...</td>\n",
       "      <td>...</td>\n",
       "    </tr>\n",
       "    <tr>\n",
       "      <th>8485</th>\n",
       "      <td>DRK37</td>\n",
       "      <td>NaN</td>\n",
       "      <td>Low Fat</td>\n",
       "      <td>0.043792</td>\n",
       "      <td>Soft Drinks</td>\n",
       "      <td>189.0530</td>\n",
       "      <td>OUT027</td>\n",
       "      <td>1985</td>\n",
       "      <td>Medium</td>\n",
       "      <td>Tier 3</td>\n",
       "      <td>Supermarket Type3</td>\n",
       "      <td>6261.8490</td>\n",
       "    </tr>\n",
       "    <tr>\n",
       "      <th>8487</th>\n",
       "      <td>DRG13</td>\n",
       "      <td>NaN</td>\n",
       "      <td>Low Fat</td>\n",
       "      <td>0.037006</td>\n",
       "      <td>Soft Drinks</td>\n",
       "      <td>164.7526</td>\n",
       "      <td>OUT027</td>\n",
       "      <td>1985</td>\n",
       "      <td>Medium</td>\n",
       "      <td>Tier 3</td>\n",
       "      <td>Supermarket Type3</td>\n",
       "      <td>4111.3150</td>\n",
       "    </tr>\n",
       "    <tr>\n",
       "      <th>8488</th>\n",
       "      <td>NCN14</td>\n",
       "      <td>NaN</td>\n",
       "      <td>Low Fat</td>\n",
       "      <td>0.091473</td>\n",
       "      <td>Others</td>\n",
       "      <td>184.6608</td>\n",
       "      <td>OUT027</td>\n",
       "      <td>1985</td>\n",
       "      <td>Medium</td>\n",
       "      <td>Tier 3</td>\n",
       "      <td>Supermarket Type3</td>\n",
       "      <td>2756.4120</td>\n",
       "    </tr>\n",
       "    <tr>\n",
       "      <th>8490</th>\n",
       "      <td>FDU44</td>\n",
       "      <td>NaN</td>\n",
       "      <td>Regular</td>\n",
       "      <td>0.102296</td>\n",
       "      <td>Fruits and Vegetables</td>\n",
       "      <td>162.3552</td>\n",
       "      <td>OUT019</td>\n",
       "      <td>1985</td>\n",
       "      <td>Small</td>\n",
       "      <td>Tier 1</td>\n",
       "      <td>Grocery Store</td>\n",
       "      <td>487.3656</td>\n",
       "    </tr>\n",
       "    <tr>\n",
       "      <th>8504</th>\n",
       "      <td>NCN18</td>\n",
       "      <td>NaN</td>\n",
       "      <td>Low Fat</td>\n",
       "      <td>0.124111</td>\n",
       "      <td>Household</td>\n",
       "      <td>111.7544</td>\n",
       "      <td>OUT027</td>\n",
       "      <td>1985</td>\n",
       "      <td>Medium</td>\n",
       "      <td>Tier 3</td>\n",
       "      <td>Supermarket Type3</td>\n",
       "      <td>4138.6128</td>\n",
       "    </tr>\n",
       "  </tbody>\n",
       "</table>\n",
       "<p>1463 rows × 12 columns</p>\n",
       "</div>"
      ],
      "text/plain": [
       "     Item_Identifier  Item_Weight Item_Fat_Content  Item_Visibility  \\\n",
       "7              FDP10          NaN          Low Fat         0.127470   \n",
       "18             DRI11          NaN          Low Fat         0.034238   \n",
       "21             FDW12          NaN          Regular         0.035400   \n",
       "23             FDC37          NaN          Low Fat         0.057557   \n",
       "29             FDC14          NaN          Regular         0.072222   \n",
       "...              ...          ...              ...              ...   \n",
       "8485           DRK37          NaN          Low Fat         0.043792   \n",
       "8487           DRG13          NaN          Low Fat         0.037006   \n",
       "8488           NCN14          NaN          Low Fat         0.091473   \n",
       "8490           FDU44          NaN          Regular         0.102296   \n",
       "8504           NCN18          NaN          Low Fat         0.124111   \n",
       "\n",
       "                  Item_Type  Item_MRP Outlet_Identifier  \\\n",
       "7               Snack Foods  107.7622            OUT027   \n",
       "18              Hard Drinks  113.2834            OUT027   \n",
       "21             Baking Goods  144.5444            OUT027   \n",
       "23             Baking Goods  107.6938            OUT019   \n",
       "29                   Canned   43.6454            OUT019   \n",
       "...                     ...       ...               ...   \n",
       "8485            Soft Drinks  189.0530            OUT027   \n",
       "8487            Soft Drinks  164.7526            OUT027   \n",
       "8488                 Others  184.6608            OUT027   \n",
       "8490  Fruits and Vegetables  162.3552            OUT019   \n",
       "8504              Household  111.7544            OUT027   \n",
       "\n",
       "      Outlet_Establishment_Year Outlet_Size Outlet_Location_Type  \\\n",
       "7                          1985      Medium               Tier 3   \n",
       "18                         1985      Medium               Tier 3   \n",
       "21                         1985      Medium               Tier 3   \n",
       "23                         1985       Small               Tier 1   \n",
       "29                         1985       Small               Tier 1   \n",
       "...                         ...         ...                  ...   \n",
       "8485                       1985      Medium               Tier 3   \n",
       "8487                       1985      Medium               Tier 3   \n",
       "8488                       1985      Medium               Tier 3   \n",
       "8490                       1985       Small               Tier 1   \n",
       "8504                       1985      Medium               Tier 3   \n",
       "\n",
       "            Outlet_Type  Item_Outlet_Sales  \n",
       "7     Supermarket Type3          4022.7636  \n",
       "18    Supermarket Type3          2303.6680  \n",
       "21    Supermarket Type3          4064.0432  \n",
       "23        Grocery Store           214.3876  \n",
       "29        Grocery Store           125.8362  \n",
       "...                 ...                ...  \n",
       "8485  Supermarket Type3          6261.8490  \n",
       "8487  Supermarket Type3          4111.3150  \n",
       "8488  Supermarket Type3          2756.4120  \n",
       "8490      Grocery Store           487.3656  \n",
       "8504  Supermarket Type3          4138.6128  \n",
       "\n",
       "[1463 rows x 12 columns]"
      ]
     },
     "execution_count": 19,
     "metadata": {},
     "output_type": "execute_result"
    }
   ],
   "source": [
    "# to retrieve NULL or NA values\n",
    "null_weight=data[data[\"Item_Weight\"].isnull()]\n",
    "null_weight"
   ]
  },
  {
   "cell_type": "markdown",
   "id": "71a6c79d-90d3-4caf-a79b-92a760309b0a",
   "metadata": {
    "id": "71a6c79d-90d3-4caf-a79b-92a760309b0a"
   },
   "source": [
    "### Will be applying pivoting"
   ]
  },
  {
   "cell_type": "markdown",
   "id": "a5ef2f90-ec05-4c2e-8284-998206bee4a9",
   "metadata": {
    "id": "a5ef2f90-ec05-4c2e-8284-998206bee4a9"
   },
   "source": [
    "### Pivot summarizes the data"
   ]
  },
  {
   "cell_type": "code",
   "execution_count": 20,
   "id": "36c2fa5c-7469-463e-b2f4-f6366b921698",
   "metadata": {
    "id": "36c2fa5c-7469-463e-b2f4-f6366b921698",
    "outputId": "e535db43-0ad7-4e33-ec7e-edb2eabb2890"
   },
   "outputs": [
    {
     "data": {
      "text/html": [
       "<div>\n",
       "<style scoped>\n",
       "    .dataframe tbody tr th:only-of-type {\n",
       "        vertical-align: middle;\n",
       "    }\n",
       "\n",
       "    .dataframe tbody tr th {\n",
       "        vertical-align: top;\n",
       "    }\n",
       "\n",
       "    .dataframe thead th {\n",
       "        text-align: right;\n",
       "    }\n",
       "</style>\n",
       "<table border=\"1\" class=\"dataframe\">\n",
       "  <thead>\n",
       "    <tr style=\"text-align: right;\">\n",
       "      <th></th>\n",
       "      <th>Item_Identifier</th>\n",
       "      <th>Item_Weight</th>\n",
       "    </tr>\n",
       "  </thead>\n",
       "  <tbody>\n",
       "    <tr>\n",
       "      <th>0</th>\n",
       "      <td>DRA12</td>\n",
       "      <td>11.600</td>\n",
       "    </tr>\n",
       "    <tr>\n",
       "      <th>1</th>\n",
       "      <td>DRA24</td>\n",
       "      <td>19.350</td>\n",
       "    </tr>\n",
       "    <tr>\n",
       "      <th>2</th>\n",
       "      <td>DRA59</td>\n",
       "      <td>8.270</td>\n",
       "    </tr>\n",
       "    <tr>\n",
       "      <th>3</th>\n",
       "      <td>DRB01</td>\n",
       "      <td>7.390</td>\n",
       "    </tr>\n",
       "    <tr>\n",
       "      <th>4</th>\n",
       "      <td>DRB13</td>\n",
       "      <td>6.115</td>\n",
       "    </tr>\n",
       "    <tr>\n",
       "      <th>...</th>\n",
       "      <td>...</td>\n",
       "      <td>...</td>\n",
       "    </tr>\n",
       "    <tr>\n",
       "      <th>1550</th>\n",
       "      <td>NCZ30</td>\n",
       "      <td>6.590</td>\n",
       "    </tr>\n",
       "    <tr>\n",
       "      <th>1551</th>\n",
       "      <td>NCZ41</td>\n",
       "      <td>19.850</td>\n",
       "    </tr>\n",
       "    <tr>\n",
       "      <th>1552</th>\n",
       "      <td>NCZ42</td>\n",
       "      <td>10.500</td>\n",
       "    </tr>\n",
       "    <tr>\n",
       "      <th>1553</th>\n",
       "      <td>NCZ53</td>\n",
       "      <td>9.600</td>\n",
       "    </tr>\n",
       "    <tr>\n",
       "      <th>1554</th>\n",
       "      <td>NCZ54</td>\n",
       "      <td>14.650</td>\n",
       "    </tr>\n",
       "  </tbody>\n",
       "</table>\n",
       "<p>1555 rows × 2 columns</p>\n",
       "</div>"
      ],
      "text/plain": [
       "     Item_Identifier  Item_Weight\n",
       "0              DRA12       11.600\n",
       "1              DRA24       19.350\n",
       "2              DRA59        8.270\n",
       "3              DRB01        7.390\n",
       "4              DRB13        6.115\n",
       "...              ...          ...\n",
       "1550           NCZ30        6.590\n",
       "1551           NCZ41       19.850\n",
       "1552           NCZ42       10.500\n",
       "1553           NCZ53        9.600\n",
       "1554           NCZ54       14.650\n",
       "\n",
       "[1555 rows x 2 columns]"
      ]
     },
     "execution_count": 20,
     "metadata": {},
     "output_type": "execute_result"
    }
   ],
   "source": [
    "#items out of 1559 which have some weight\n",
    "pivoted_data=data.pivot_table(values='Item_Weight',index='Item_Identifier')#index means on what basis we are doing this\n",
    "pivoted_data=pivoted_data.reset_index()\n",
    "pivoted_data\n",
    "#seeing the output we have 1555 product having associated weight"
   ]
  },
  {
   "cell_type": "markdown",
   "id": "7d12b0f1-bba2-4ca6-8810-137ab5e8fe7b",
   "metadata": {
    "id": "7d12b0f1-bba2-4ca6-8810-137ab5e8fe7b"
   },
   "source": [
    "## identifying and locating the missing values"
   ]
  },
  {
   "cell_type": "code",
   "execution_count": 21,
   "id": "78cfbc90-27c4-4f46-86da-61a2f01824dd",
   "metadata": {
    "id": "78cfbc90-27c4-4f46-86da-61a2f01824dd",
    "outputId": "bb1cb53e-160e-4820-f5f6-718b74022cf0"
   },
   "outputs": [
    {
     "data": {
      "text/plain": [
       "{'FDE52', 'FDK57', 'FDN52', 'FDQ60'}"
      ]
     },
     "execution_count": 21,
     "metadata": {},
     "output_type": "execute_result"
    }
   ],
   "source": [
    "invalid_data=set(data.Item_Identifier.to_list())-set(pivoted_data.Item_Identifier.to_list())\n",
    "invalid_data"
   ]
  },
  {
   "cell_type": "code",
   "execution_count": 22,
   "id": "fbbee387-906f-4477-8da2-c11943595ca2",
   "metadata": {
    "id": "fbbee387-906f-4477-8da2-c11943595ca2",
    "outputId": "35126013-1272-4aa2-ff38-b200e311078a"
   },
   "outputs": [
    {
     "data": {
      "text/html": [
       "<div>\n",
       "<style scoped>\n",
       "    .dataframe tbody tr th:only-of-type {\n",
       "        vertical-align: middle;\n",
       "    }\n",
       "\n",
       "    .dataframe tbody tr th {\n",
       "        vertical-align: top;\n",
       "    }\n",
       "\n",
       "    .dataframe thead th {\n",
       "        text-align: right;\n",
       "    }\n",
       "</style>\n",
       "<table border=\"1\" class=\"dataframe\">\n",
       "  <thead>\n",
       "    <tr style=\"text-align: right;\">\n",
       "      <th></th>\n",
       "      <th>Item_Identifier</th>\n",
       "      <th>Item_Weight</th>\n",
       "      <th>Item_Fat_Content</th>\n",
       "      <th>Item_Visibility</th>\n",
       "      <th>Item_Type</th>\n",
       "      <th>Item_MRP</th>\n",
       "      <th>Outlet_Identifier</th>\n",
       "      <th>Outlet_Establishment_Year</th>\n",
       "      <th>Outlet_Size</th>\n",
       "      <th>Outlet_Location_Type</th>\n",
       "      <th>Outlet_Type</th>\n",
       "      <th>Item_Outlet_Sales</th>\n",
       "    </tr>\n",
       "  </thead>\n",
       "  <tbody>\n",
       "    <tr>\n",
       "      <th>927</th>\n",
       "      <td>FDN52</td>\n",
       "      <td>NaN</td>\n",
       "      <td>Regular</td>\n",
       "      <td>0.130933</td>\n",
       "      <td>Frozen Foods</td>\n",
       "      <td>86.9198</td>\n",
       "      <td>OUT027</td>\n",
       "      <td>1985</td>\n",
       "      <td>Medium</td>\n",
       "      <td>Tier 3</td>\n",
       "      <td>Supermarket Type3</td>\n",
       "      <td>1569.9564</td>\n",
       "    </tr>\n",
       "  </tbody>\n",
       "</table>\n",
       "</div>"
      ],
      "text/plain": [
       "    Item_Identifier  Item_Weight Item_Fat_Content  Item_Visibility  \\\n",
       "927           FDN52          NaN          Regular         0.130933   \n",
       "\n",
       "        Item_Type  Item_MRP Outlet_Identifier  Outlet_Establishment_Year  \\\n",
       "927  Frozen Foods   86.9198            OUT027                       1985   \n",
       "\n",
       "    Outlet_Size Outlet_Location_Type        Outlet_Type  Item_Outlet_Sales  \n",
       "927      Medium               Tier 3  Supermarket Type3          1569.9564  "
      ]
     },
     "execution_count": 22,
     "metadata": {},
     "output_type": "execute_result"
    }
   ],
   "source": [
    "data.loc[data['Item_Identifier']=='FDN52']"
   ]
  },
  {
   "cell_type": "code",
   "execution_count": 23,
   "id": "43293445-539e-4e05-8cb2-203f904d6889",
   "metadata": {
    "id": "43293445-539e-4e05-8cb2-203f904d6889",
    "outputId": "b124165b-e581-4a9c-89c8-ba32a0f74972"
   },
   "outputs": [
    {
     "data": {
      "text/plain": [
       "{'FDE52', 'FDK57', 'FDN52', 'FDQ60'}"
      ]
     },
     "execution_count": 23,
     "metadata": {},
     "output_type": "execute_result"
    }
   ],
   "source": [
    "#there were 1559 values in all with 4 which were not found anywhere so display the 4\n",
    "#same as above\n",
    "set(data.Item_Identifier.to_list())-set(pivoted_data.Item_Identifier.to_list())"
   ]
  },
  {
   "cell_type": "code",
   "execution_count": 24,
   "id": "f7d883b3-691d-4c2e-b7bd-002af3ee4ccd",
   "metadata": {
    "id": "f7d883b3-691d-4c2e-b7bd-002af3ee4ccd",
    "outputId": "6f278112-2f80-4ab6-920a-019861625816"
   },
   "outputs": [
    {
     "name": "stdout",
     "output_type": "stream",
     "text": [
      "{'FDK57', 'FDN52', 'FDE52', 'FDQ60'}\n"
     ]
    }
   ],
   "source": [
    "set1=set(data.Item_Identifier)\n",
    "set2=set(pivoted_data.Item_Identifier)\n",
    "values_not_displayed_in_pivoted_data=set1-set2\n",
    "print(values_not_displayed_in_pivoted_data)"
   ]
  },
  {
   "cell_type": "code",
   "execution_count": 25,
   "id": "104b95f9-f321-4e59-b598-c1f557b346da",
   "metadata": {
    "id": "104b95f9-f321-4e59-b598-c1f557b346da",
    "outputId": "ff623b69-755c-4892-ced7-75c135305c54"
   },
   "outputs": [
    {
     "data": {
      "text/html": [
       "<div>\n",
       "<style scoped>\n",
       "    .dataframe tbody tr th:only-of-type {\n",
       "        vertical-align: middle;\n",
       "    }\n",
       "\n",
       "    .dataframe tbody tr th {\n",
       "        vertical-align: top;\n",
       "    }\n",
       "\n",
       "    .dataframe thead th {\n",
       "        text-align: right;\n",
       "    }\n",
       "</style>\n",
       "<table border=\"1\" class=\"dataframe\">\n",
       "  <thead>\n",
       "    <tr style=\"text-align: right;\">\n",
       "      <th></th>\n",
       "      <th>Item_Identifier</th>\n",
       "      <th>Item_Weight</th>\n",
       "      <th>Item_Fat_Content</th>\n",
       "      <th>Item_Visibility</th>\n",
       "      <th>Item_Type</th>\n",
       "      <th>Item_MRP</th>\n",
       "      <th>Outlet_Identifier</th>\n",
       "      <th>Outlet_Establishment_Year</th>\n",
       "      <th>Outlet_Size</th>\n",
       "      <th>Outlet_Location_Type</th>\n",
       "      <th>Outlet_Type</th>\n",
       "      <th>Item_Outlet_Sales</th>\n",
       "    </tr>\n",
       "  </thead>\n",
       "  <tbody>\n",
       "    <tr>\n",
       "      <th>927</th>\n",
       "      <td>FDN52</td>\n",
       "      <td>NaN</td>\n",
       "      <td>Regular</td>\n",
       "      <td>0.130933</td>\n",
       "      <td>Frozen Foods</td>\n",
       "      <td>86.9198</td>\n",
       "      <td>OUT027</td>\n",
       "      <td>1985</td>\n",
       "      <td>Medium</td>\n",
       "      <td>Tier 3</td>\n",
       "      <td>Supermarket Type3</td>\n",
       "      <td>1569.9564</td>\n",
       "    </tr>\n",
       "  </tbody>\n",
       "</table>\n",
       "</div>"
      ],
      "text/plain": [
       "    Item_Identifier  Item_Weight Item_Fat_Content  Item_Visibility  \\\n",
       "927           FDN52          NaN          Regular         0.130933   \n",
       "\n",
       "        Item_Type  Item_MRP Outlet_Identifier  Outlet_Establishment_Year  \\\n",
       "927  Frozen Foods   86.9198            OUT027                       1985   \n",
       "\n",
       "    Outlet_Size Outlet_Location_Type        Outlet_Type  Item_Outlet_Sales  \n",
       "927      Medium               Tier 3  Supermarket Type3          1569.9564  "
      ]
     },
     "execution_count": 25,
     "metadata": {},
     "output_type": "execute_result"
    }
   ],
   "source": [
    "data.loc[data['Item_Identifier']=='FDN52']"
   ]
  },
  {
   "cell_type": "markdown",
   "id": "dd3d358a-a1c7-46f2-bb07-d288ae7792a6",
   "metadata": {
    "id": "dd3d358a-a1c7-46f2-bb07-d288ae7792a6"
   },
   "source": [
    "## To display Qualitative(object) and Quantitative(int64 or float64)"
   ]
  },
  {
   "cell_type": "code",
   "execution_count": 26,
   "id": "ff2ecbc9-f05a-4812-a6b4-4c3be83f561c",
   "metadata": {
    "id": "ff2ecbc9-f05a-4812-a6b4-4c3be83f561c"
   },
   "outputs": [],
   "source": [
    "cat_data=[]  #cat=Qualitative(categorical)\n",
    "num_data=[]  #num=Quantitative(nuerical)\n",
    "for col in data.columns:\n",
    " if data.dtypes[col]==\"object\":\n",
    "    cat_data.append(col)\n",
    " else:\n",
    "     num_data.append(col)"
   ]
  },
  {
   "cell_type": "code",
   "execution_count": 27,
   "id": "b2e5849e-21f7-4177-b4ce-063f9e2a079b",
   "metadata": {
    "id": "b2e5849e-21f7-4177-b4ce-063f9e2a079b",
    "outputId": "a4117b47-d22f-45c3-e13b-408f4607d201"
   },
   "outputs": [
    {
     "data": {
      "text/plain": [
       "['Item_Identifier',\n",
       " 'Item_Fat_Content',\n",
       " 'Item_Type',\n",
       " 'Outlet_Identifier',\n",
       " 'Outlet_Size',\n",
       " 'Outlet_Location_Type',\n",
       " 'Outlet_Type']"
      ]
     },
     "execution_count": 27,
     "metadata": {},
     "output_type": "execute_result"
    }
   ],
   "source": [
    "cat_data"
   ]
  },
  {
   "cell_type": "code",
   "execution_count": 28,
   "id": "f9503021-437b-45ab-9477-a2b00278ca56",
   "metadata": {
    "id": "f9503021-437b-45ab-9477-a2b00278ca56",
    "outputId": "ae825015-41a3-4357-c319-ebe0b7585015"
   },
   "outputs": [
    {
     "data": {
      "text/plain": [
       "['Item_Weight',\n",
       " 'Item_Visibility',\n",
       " 'Item_MRP',\n",
       " 'Outlet_Establishment_Year',\n",
       " 'Item_Outlet_Sales']"
      ]
     },
     "execution_count": 28,
     "metadata": {},
     "output_type": "execute_result"
    }
   ],
   "source": [
    "num_data"
   ]
  },
  {
   "cell_type": "markdown",
   "id": "55d06f33-8352-4121-b197-f3541ba1a9ac",
   "metadata": {
    "id": "55d06f33-8352-4121-b197-f3541ba1a9ac"
   },
   "source": [
    "# create a dictionary  "
   ]
  },
  {
   "cell_type": "code",
   "execution_count": 29,
   "id": "2cae2d6c-53d2-4d23-891d-5f2538cddc18",
   "metadata": {
    "id": "2cae2d6c-53d2-4d23-891d-5f2538cddc18"
   },
   "outputs": [],
   "source": [
    "weight_dict=dict(zip(pivoted_data.Item_Identifier,pivoted_data.Item_Weight))"
   ]
  },
  {
   "cell_type": "code",
   "execution_count": 30,
   "id": "28fa3a1a-30ce-4755-8a1f-42f5a0dc9a0c",
   "metadata": {
    "id": "28fa3a1a-30ce-4755-8a1f-42f5a0dc9a0c",
    "outputId": "3ff89689-20bd-401f-dd93-fcc31048fe86"
   },
   "outputs": [
    {
     "data": {
      "text/plain": [
       "{'DRA12': 11.6,\n",
       " 'DRA24': 19.35,\n",
       " 'DRA59': 8.27,\n",
       " 'DRB01': 7.39,\n",
       " 'DRB13': 6.115,\n",
       " 'DRB24': 8.785,\n",
       " 'DRB25': 12.3,\n",
       " 'DRB48': 16.75,\n",
       " 'DRC01': 5.92,\n",
       " 'DRC12': 17.85,\n",
       " 'DRC13': 8.26,\n",
       " 'DRC24': 17.85,\n",
       " 'DRC25': 5.73,\n",
       " 'DRC27': 13.800000000000002,\n",
       " 'DRC36': 13.0,\n",
       " 'DRC49': 8.67,\n",
       " 'DRD01': 12.1,\n",
       " 'DRD12': 6.96,\n",
       " 'DRD13': 15.0,\n",
       " 'DRD15': 10.6,\n",
       " 'DRD24': 13.85,\n",
       " 'DRD25': 6.135000000000001,\n",
       " 'DRD27': 18.75,\n",
       " 'DRD37': 9.8,\n",
       " 'DRD49': 9.895,\n",
       " 'DRD60': 15.7,\n",
       " 'DRE01': 10.1,\n",
       " 'DRE03': 19.6,\n",
       " 'DRE12': 4.59,\n",
       " 'DRE13': 6.28,\n",
       " 'DRE15': 13.35,\n",
       " 'DRE25': 15.35,\n",
       " 'DRE27': 11.85,\n",
       " 'DRE37': 13.5,\n",
       " 'DRE48': 8.43,\n",
       " 'DRE49': 20.75,\n",
       " 'DRE60': 9.395,\n",
       " 'DRF01': 5.655,\n",
       " 'DRF03': 19.1,\n",
       " 'DRF13': 12.1,\n",
       " 'DRF15': 18.35,\n",
       " 'DRF23': 4.61,\n",
       " 'DRF25': 9.0,\n",
       " 'DRF27': 8.93,\n",
       " 'DRF36': 16.1,\n",
       " 'DRF37': 17.25,\n",
       " 'DRF48': 5.73,\n",
       " 'DRF49': 7.269999999999999,\n",
       " 'DRF51': 15.75,\n",
       " 'DRF60': 10.8,\n",
       " 'DRG01': 14.800000000000002,\n",
       " 'DRG03': 14.5,\n",
       " 'DRG11': 6.385,\n",
       " 'DRG13': 17.25,\n",
       " 'DRG15': 6.13,\n",
       " 'DRG23': 8.88,\n",
       " 'DRG25': 10.5,\n",
       " 'DRG27': 8.895,\n",
       " 'DRG36': 14.15,\n",
       " 'DRG37': 16.2,\n",
       " 'DRG39': 14.15,\n",
       " 'DRG48': 5.78,\n",
       " 'DRG49': 7.81,\n",
       " 'DRG51': 12.1,\n",
       " 'DRH01': 17.5,\n",
       " 'DRH03': 17.25,\n",
       " 'DRH11': 5.98,\n",
       " 'DRH13': 8.575,\n",
       " 'DRH15': 8.775,\n",
       " 'DRH23': 14.65,\n",
       " 'DRH25': 18.7,\n",
       " 'DRH36': 16.2,\n",
       " 'DRH37': 17.6,\n",
       " 'DRH39': 20.7,\n",
       " 'DRH49': 19.7,\n",
       " 'DRH51': 17.6,\n",
       " 'DRH59': 10.800000000000002,\n",
       " 'DRI01': 7.97,\n",
       " 'DRI03': 6.03,\n",
       " 'DRI11': 8.26,\n",
       " 'DRI13': 15.35,\n",
       " 'DRI23': 18.85,\n",
       " 'DRI25': 19.6,\n",
       " 'DRI37': 15.85,\n",
       " 'DRI39': 13.8,\n",
       " 'DRI47': 14.699999999999998,\n",
       " 'DRI49': 14.15,\n",
       " 'DRI51': 17.25,\n",
       " 'DRI59': 9.5,\n",
       " 'DRJ01': 6.135,\n",
       " 'DRJ11': 9.5,\n",
       " 'DRJ13': 12.65,\n",
       " 'DRJ23': 18.35,\n",
       " 'DRJ24': 11.8,\n",
       " 'DRJ25': 14.6,\n",
       " 'DRJ35': 10.1,\n",
       " 'DRJ37': 10.8,\n",
       " 'DRJ39': 20.25,\n",
       " 'DRJ47': 18.25,\n",
       " 'DRJ49': 6.865,\n",
       " 'DRJ51': 14.1,\n",
       " 'DRJ59': 11.65,\n",
       " 'DRK01': 7.63,\n",
       " 'DRK11': 8.21,\n",
       " 'DRK12': 9.5,\n",
       " 'DRK13': 11.8,\n",
       " 'DRK23': 8.395,\n",
       " 'DRK35': 8.365,\n",
       " 'DRK37': 5.0,\n",
       " 'DRK39': 7.02,\n",
       " 'DRK47': 7.904999999999999,\n",
       " 'DRK49': 14.15,\n",
       " 'DRK59': 8.895,\n",
       " 'DRL01': 19.5,\n",
       " 'DRL11': 10.5,\n",
       " 'DRL23': 18.35,\n",
       " 'DRL35': 15.699999999999998,\n",
       " 'DRL37': 15.5,\n",
       " 'DRL47': 19.7,\n",
       " 'DRL49': 13.15,\n",
       " 'DRL59': 16.75,\n",
       " 'DRL60': 8.52,\n",
       " 'DRM11': 6.57,\n",
       " 'DRM23': 16.6,\n",
       " 'DRM35': 9.695,\n",
       " 'DRM37': 15.35,\n",
       " 'DRM47': 9.3,\n",
       " 'DRM48': 15.199999999999998,\n",
       " 'DRM49': 6.11,\n",
       " 'DRM59': 5.88,\n",
       " 'DRN11': 7.85,\n",
       " 'DRN35': 8.01,\n",
       " 'DRN36': 15.199999999999998,\n",
       " 'DRN37': 9.6,\n",
       " 'DRN47': 12.1,\n",
       " 'DRN59': 15.0,\n",
       " 'DRO35': 13.85,\n",
       " 'DRO47': 10.195,\n",
       " 'DRO59': 11.800000000000002,\n",
       " 'DRP35': 18.85,\n",
       " 'DRP47': 15.75,\n",
       " 'DRQ35': 9.3,\n",
       " 'DRY23': 9.395,\n",
       " 'DRZ11': 8.85,\n",
       " 'DRZ24': 7.535,\n",
       " 'FDA01': 15.0,\n",
       " 'FDA02': 14.0,\n",
       " 'FDA03': 18.5,\n",
       " 'FDA04': 11.3,\n",
       " 'FDA07': 7.55,\n",
       " 'FDA08': 11.85,\n",
       " 'FDA09': 13.35,\n",
       " 'FDA10': 20.35,\n",
       " 'FDA11': 7.75,\n",
       " 'FDA13': 15.85,\n",
       " 'FDA14': 16.1,\n",
       " 'FDA15': 9.3,\n",
       " 'FDA16': 6.695,\n",
       " 'FDA19': 7.52,\n",
       " 'FDA20': 6.779999999999999,\n",
       " 'FDA21': 13.65,\n",
       " 'FDA22': 7.435,\n",
       " 'FDA23': 9.8,\n",
       " 'FDA25': 16.5,\n",
       " 'FDA26': 7.855,\n",
       " 'FDA27': 20.35,\n",
       " 'FDA28': 16.1,\n",
       " 'FDA31': 7.1,\n",
       " 'FDA32': 14.0,\n",
       " 'FDA33': 6.480000000000001,\n",
       " 'FDA34': 11.5,\n",
       " 'FDA35': 14.85,\n",
       " 'FDA36': 5.985,\n",
       " 'FDA37': 7.81,\n",
       " 'FDA38': 5.44,\n",
       " 'FDA39': 6.32,\n",
       " 'FDA40': 16.0,\n",
       " 'FDA43': 10.895,\n",
       " 'FDA44': 19.7,\n",
       " 'FDA45': 21.25,\n",
       " 'FDA46': 13.6,\n",
       " 'FDA47': 10.5,\n",
       " 'FDA48': 12.1,\n",
       " 'FDA49': 19.7,\n",
       " 'FDA50': 16.25,\n",
       " 'FDA51': 8.05,\n",
       " 'FDA52': 16.2,\n",
       " 'FDA55': 17.2,\n",
       " 'FDA56': 9.21,\n",
       " 'FDA57': 18.85,\n",
       " 'FDA58': 9.395,\n",
       " 'FDB02': 9.695,\n",
       " 'FDB03': 17.75,\n",
       " 'FDB04': 11.35,\n",
       " 'FDB05': 5.155,\n",
       " 'FDB08': 6.055,\n",
       " 'FDB09': 16.25,\n",
       " 'FDB10': 10.0,\n",
       " 'FDB11': 16.0,\n",
       " 'FDB12': 11.15,\n",
       " 'FDB14': 20.25,\n",
       " 'FDB15': 10.895,\n",
       " 'FDB16': 8.21,\n",
       " 'FDB17': 13.15,\n",
       " 'FDB20': 7.720000000000001,\n",
       " 'FDB21': 7.475,\n",
       " 'FDB22': 8.02,\n",
       " 'FDB23': 19.2,\n",
       " 'FDB26': 14.0,\n",
       " 'FDB27': 7.575,\n",
       " 'FDB28': 6.615,\n",
       " 'FDB29': 16.7,\n",
       " 'FDB32': 20.6,\n",
       " 'FDB33': 17.75,\n",
       " 'FDB34': 15.25,\n",
       " 'FDB35': 12.3,\n",
       " 'FDB36': 5.465,\n",
       " 'FDB37': 20.25,\n",
       " 'FDB38': 19.5,\n",
       " 'FDB39': 11.6,\n",
       " 'FDB40': 17.5,\n",
       " 'FDB41': 19.0,\n",
       " 'FDB44': 6.655,\n",
       " 'FDB45': 20.85,\n",
       " 'FDB46': 10.5,\n",
       " 'FDB47': 8.8,\n",
       " 'FDB49': 8.3,\n",
       " 'FDB50': 13.0,\n",
       " 'FDB51': 6.919999999999999,\n",
       " 'FDB52': 17.75,\n",
       " 'FDB53': 13.35,\n",
       " 'FDB56': 8.75,\n",
       " 'FDB57': 20.25,\n",
       " 'FDB58': 10.5,\n",
       " 'FDB59': 18.25,\n",
       " 'FDB60': 9.3,\n",
       " 'FDC02': 21.35,\n",
       " 'FDC03': 8.575,\n",
       " 'FDC04': 15.6,\n",
       " 'FDC05': 13.1,\n",
       " 'FDC08': 19.0,\n",
       " 'FDC09': 15.5,\n",
       " 'FDC10': 9.8,\n",
       " 'FDC11': 20.5,\n",
       " 'FDC14': 14.5,\n",
       " 'FDC15': 18.1,\n",
       " 'FDC16': 11.5,\n",
       " 'FDC17': 12.15,\n",
       " 'FDC20': 10.65,\n",
       " 'FDC21': 14.6,\n",
       " 'FDC22': 6.889999999999999,\n",
       " 'FDC23': 18.0,\n",
       " 'FDC26': 10.195,\n",
       " 'FDC28': 7.905,\n",
       " 'FDC29': 8.39,\n",
       " 'FDC32': 18.35,\n",
       " 'FDC33': 8.96,\n",
       " 'FDC34': 16.0,\n",
       " 'FDC35': 7.435,\n",
       " 'FDC37': 15.5,\n",
       " 'FDC38': 15.7,\n",
       " 'FDC39': 7.405,\n",
       " 'FDC40': 16.0,\n",
       " 'FDC41': 15.6,\n",
       " 'FDC44': 15.6,\n",
       " 'FDC45': 17.0,\n",
       " 'FDC46': 17.7,\n",
       " 'FDC47': 15.0,\n",
       " 'FDC48': 9.195,\n",
       " 'FDC50': 15.85,\n",
       " 'FDC51': 10.895,\n",
       " 'FDC52': 11.15,\n",
       " 'FDC53': 8.68,\n",
       " 'FDC56': 7.72,\n",
       " 'FDC57': 20.1,\n",
       " 'FDC58': 10.195,\n",
       " 'FDC59': 16.7,\n",
       " 'FDC60': 5.425,\n",
       " 'FDD02': 16.6,\n",
       " 'FDD03': 13.3,\n",
       " 'FDD04': 16.0,\n",
       " 'FDD05': 19.35,\n",
       " 'FDD08': 8.3,\n",
       " 'FDD09': 13.5,\n",
       " 'FDD10': 20.6,\n",
       " 'FDD11': 12.85,\n",
       " 'FDD14': 20.7,\n",
       " 'FDD16': 20.5,\n",
       " 'FDD17': 7.5,\n",
       " 'FDD20': 14.15,\n",
       " 'FDD21': 10.3,\n",
       " 'FDD22': 10.0,\n",
       " 'FDD23': 9.5,\n",
       " 'FDD26': 8.71,\n",
       " 'FDD28': 10.695,\n",
       " 'FDD29': 12.15,\n",
       " 'FDD32': 17.7,\n",
       " 'FDD33': 12.85,\n",
       " 'FDD34': 7.945,\n",
       " 'FDD35': 12.15,\n",
       " 'FDD36': 13.300000000000002,\n",
       " 'FDD38': 16.75,\n",
       " 'FDD39': 16.7,\n",
       " 'FDD40': 20.25,\n",
       " 'FDD41': 6.764999999999999,\n",
       " 'FDD44': 8.05,\n",
       " 'FDD45': 8.615,\n",
       " 'FDD46': 6.035,\n",
       " 'FDD47': 7.599999999999999,\n",
       " 'FDD48': 10.395,\n",
       " 'FDD50': 18.85,\n",
       " 'FDD51': 11.15,\n",
       " 'FDD52': 18.25,\n",
       " 'FDD53': 16.2,\n",
       " 'FDD56': 15.199999999999998,\n",
       " 'FDD57': 18.1,\n",
       " 'FDD58': 7.76,\n",
       " 'FDD59': 10.5,\n",
       " 'FDE02': 8.71,\n",
       " 'FDE04': 19.75,\n",
       " 'FDE05': 10.895,\n",
       " 'FDE08': 18.2,\n",
       " 'FDE09': 8.775,\n",
       " 'FDE10': 6.67,\n",
       " 'FDE11': 17.7,\n",
       " 'FDE14': 13.65,\n",
       " 'FDE16': 8.895,\n",
       " 'FDE17': 20.1,\n",
       " 'FDE20': 11.35,\n",
       " 'FDE21': 12.8,\n",
       " 'FDE22': 9.695,\n",
       " 'FDE23': 17.6,\n",
       " 'FDE24': 14.85,\n",
       " 'FDE26': 9.3,\n",
       " 'FDE28': 9.5,\n",
       " 'FDE29': 8.905,\n",
       " 'FDE32': 20.7,\n",
       " 'FDE33': 19.35,\n",
       " 'FDE34': 9.195,\n",
       " 'FDE35': 7.06,\n",
       " 'FDE36': 5.26,\n",
       " 'FDE38': 6.52,\n",
       " 'FDE39': 7.89,\n",
       " 'FDE40': 15.6,\n",
       " 'FDE41': 9.195,\n",
       " 'FDE44': 14.65,\n",
       " 'FDE45': 12.1,\n",
       " 'FDE46': 18.6,\n",
       " 'FDE47': 14.15,\n",
       " 'FDE50': 19.7,\n",
       " 'FDE51': 5.925,\n",
       " 'FDE53': 10.895,\n",
       " 'FDE56': 17.25,\n",
       " 'FDE57': 9.6,\n",
       " 'FDE58': 18.5,\n",
       " 'FDE59': 12.15,\n",
       " 'FDF02': 16.2,\n",
       " 'FDF04': 17.5,\n",
       " 'FDF05': 17.5,\n",
       " 'FDF08': 14.300000000000002,\n",
       " 'FDF09': 6.215,\n",
       " 'FDF10': 15.5,\n",
       " 'FDF11': 10.195,\n",
       " 'FDF12': 8.235,\n",
       " 'FDF14': 7.55,\n",
       " 'FDF16': 7.3,\n",
       " 'FDF17': 5.19,\n",
       " 'FDF20': 12.85,\n",
       " 'FDF21': 10.3,\n",
       " 'FDF22': 6.865,\n",
       " 'FDF24': 15.5,\n",
       " 'FDF26': 6.825,\n",
       " 'FDF28': 15.7,\n",
       " 'FDF29': 15.1,\n",
       " 'FDF32': 16.35,\n",
       " 'FDF33': 7.97,\n",
       " 'FDF34': 9.3,\n",
       " 'FDF35': 15.0,\n",
       " 'FDF38': 11.8,\n",
       " 'FDF39': 14.85,\n",
       " 'FDF40': 20.25,\n",
       " 'FDF41': 12.15,\n",
       " 'FDF44': 7.17,\n",
       " 'FDF45': 18.2,\n",
       " 'FDF46': 7.07,\n",
       " 'FDF47': 20.85,\n",
       " 'FDF50': 4.905,\n",
       " 'FDF52': 9.3,\n",
       " 'FDF53': 20.75,\n",
       " 'FDF56': 16.7,\n",
       " 'FDF57': 14.5,\n",
       " 'FDF58': 13.3,\n",
       " 'FDF59': 12.5,\n",
       " 'FDG02': 7.855,\n",
       " 'FDG04': 13.1,\n",
       " 'FDG05': 11.0,\n",
       " 'FDG08': 13.15,\n",
       " 'FDG09': 20.6,\n",
       " 'FDG10': 6.63,\n",
       " 'FDG12': 6.635,\n",
       " 'FDG14': 9.0,\n",
       " 'FDG16': 15.25,\n",
       " 'FDG17': 6.864999999999999,\n",
       " 'FDG20': 15.5,\n",
       " 'FDG21': 17.35,\n",
       " 'FDG22': 17.6,\n",
       " 'FDG24': 7.975,\n",
       " 'FDG26': 18.85,\n",
       " 'FDG28': 9.285,\n",
       " 'FDG29': 17.6,\n",
       " 'FDG31': 12.15,\n",
       " 'FDG32': 19.85,\n",
       " 'FDG33': 5.365,\n",
       " 'FDG34': 11.5,\n",
       " 'FDG35': 21.2,\n",
       " 'FDG38': 8.975,\n",
       " 'FDG40': 13.65,\n",
       " 'FDG41': 8.84,\n",
       " 'FDG44': 6.13,\n",
       " 'FDG45': 8.1,\n",
       " 'FDG46': 8.63,\n",
       " 'FDG47': 12.800000000000002,\n",
       " 'FDG50': 7.405,\n",
       " 'FDG52': 13.65,\n",
       " 'FDG53': 10.0,\n",
       " 'FDG56': 13.3,\n",
       " 'FDG57': 14.7,\n",
       " 'FDG58': 10.695,\n",
       " 'FDG59': 15.85,\n",
       " 'FDG60': 20.35,\n",
       " 'FDH02': 7.27,\n",
       " 'FDH04': 6.114999999999999,\n",
       " 'FDH05': 14.35,\n",
       " 'FDH08': 7.51,\n",
       " 'FDH09': 12.6,\n",
       " 'FDH10': 21.0,\n",
       " 'FDH12': 9.6,\n",
       " 'FDH14': 17.1,\n",
       " 'FDH16': 10.5,\n",
       " 'FDH17': 16.2,\n",
       " 'FDH19': 19.35,\n",
       " 'FDH20': 16.1,\n",
       " 'FDH21': 10.395,\n",
       " 'FDH22': 6.405,\n",
       " 'FDH24': 20.7,\n",
       " 'FDH26': 19.25,\n",
       " 'FDH27': 7.075,\n",
       " 'FDH28': 15.85,\n",
       " 'FDH31': 12.0,\n",
       " 'FDH32': 12.8,\n",
       " 'FDH33': 12.85,\n",
       " 'FDH34': 8.63,\n",
       " 'FDH35': 18.25,\n",
       " 'FDH38': 6.425,\n",
       " 'FDH40': 11.6,\n",
       " 'FDH41': 9.0,\n",
       " 'FDH44': 19.1,\n",
       " 'FDH45': 15.1,\n",
       " 'FDH46': 6.935,\n",
       " 'FDH47': 13.5,\n",
       " 'FDH48': 13.5,\n",
       " 'FDH50': 15.0,\n",
       " 'FDH52': 9.42,\n",
       " 'FDH53': 20.5,\n",
       " 'FDH56': 9.8,\n",
       " 'FDH57': 10.895000000000001,\n",
       " 'FDH58': 12.300000000000002,\n",
       " 'FDH60': 19.7,\n",
       " 'FDI02': 15.7,\n",
       " 'FDI04': 13.65,\n",
       " 'FDI05': 8.35,\n",
       " 'FDI07': 12.35,\n",
       " 'FDI08': 18.2,\n",
       " 'FDI09': 20.75,\n",
       " 'FDI10': 8.51,\n",
       " 'FDI12': 9.395,\n",
       " 'FDI14': 14.1,\n",
       " 'FDI15': 13.8,\n",
       " 'FDI16': 14.0,\n",
       " 'FDI19': 15.1,\n",
       " 'FDI20': 19.1,\n",
       " 'FDI21': 5.59,\n",
       " 'FDI22': 12.6,\n",
       " 'FDI24': 10.3,\n",
       " 'FDI26': 5.94,\n",
       " 'FDI27': 8.71,\n",
       " 'FDI28': 14.3,\n",
       " 'FDI32': 17.7,\n",
       " 'FDI33': 16.5,\n",
       " 'FDI34': 10.65,\n",
       " 'FDI35': 14.0,\n",
       " 'FDI36': 12.5,\n",
       " 'FDI38': 13.35,\n",
       " 'FDI40': 11.5,\n",
       " 'FDI41': 18.5,\n",
       " 'FDI44': 16.1,\n",
       " 'FDI45': 13.1,\n",
       " 'FDI46': 9.5,\n",
       " 'FDI48': 11.85,\n",
       " 'FDI50': 8.42,\n",
       " 'FDI52': 18.7,\n",
       " 'FDI53': 8.895,\n",
       " 'FDI56': 7.325,\n",
       " 'FDI57': 19.85,\n",
       " 'FDI58': 7.64,\n",
       " 'FDI60': 7.22,\n",
       " 'FDJ02': 17.2,\n",
       " 'FDJ03': 12.35,\n",
       " 'FDJ04': 18.0,\n",
       " 'FDJ07': 7.260000000000001,\n",
       " 'FDJ08': 11.1,\n",
       " 'FDJ09': 15.0,\n",
       " 'FDJ10': 5.095,\n",
       " 'FDJ12': 8.895,\n",
       " 'FDJ14': 10.3,\n",
       " 'FDJ15': 11.35,\n",
       " 'FDJ16': 9.195,\n",
       " 'FDJ20': 20.7,\n",
       " 'FDJ21': 16.7,\n",
       " 'FDJ22': 18.75,\n",
       " 'FDJ26': 15.3,\n",
       " 'FDJ27': 17.7,\n",
       " 'FDJ28': 12.300000000000002,\n",
       " 'FDJ32': 10.695,\n",
       " 'FDJ33': 8.895,\n",
       " 'FDJ34': 11.8,\n",
       " 'FDJ36': 14.5,\n",
       " 'FDJ38': 8.6,\n",
       " 'FDJ40': 13.6,\n",
       " 'FDJ41': 6.849999999999999,\n",
       " 'FDJ44': 12.3,\n",
       " 'FDJ45': 17.75,\n",
       " 'FDJ46': 11.1,\n",
       " 'FDJ48': 11.300000000000002,\n",
       " 'FDJ50': 8.645,\n",
       " 'FDJ52': 7.144999999999999,\n",
       " 'FDJ53': 10.5,\n",
       " 'FDJ55': 12.8,\n",
       " 'FDJ56': 8.985,\n",
       " 'FDJ57': 7.419999999999999,\n",
       " 'FDJ58': 15.6,\n",
       " 'FDJ60': 19.35,\n",
       " 'FDK02': 12.5,\n",
       " 'FDK03': 12.6,\n",
       " 'FDK04': 7.36,\n",
       " 'FDK08': 9.195,\n",
       " 'FDK09': 15.2,\n",
       " 'FDK10': 5.785,\n",
       " 'FDK14': 6.98,\n",
       " 'FDK15': 10.8,\n",
       " 'FDK16': 9.065,\n",
       " 'FDK20': 12.6,\n",
       " 'FDK21': 7.905,\n",
       " 'FDK22': 9.8,\n",
       " 'FDK24': 9.195,\n",
       " 'FDK25': 11.6,\n",
       " 'FDK26': 5.46,\n",
       " 'FDK27': 11.0,\n",
       " 'FDK28': 5.695,\n",
       " 'FDK32': 16.25,\n",
       " 'FDK33': 17.85,\n",
       " 'FDK34': 13.35,\n",
       " 'FDK36': 7.09,\n",
       " 'FDK38': 6.650000000000001,\n",
       " 'FDK40': 7.035,\n",
       " 'FDK41': 14.3,\n",
       " 'FDK43': 9.8,\n",
       " 'FDK44': 16.6,\n",
       " 'FDK45': 11.65,\n",
       " 'FDK46': 9.6,\n",
       " 'FDK48': 7.445,\n",
       " 'FDK50': 7.96,\n",
       " 'FDK51': 19.85,\n",
       " 'FDK52': 18.25,\n",
       " 'FDK55': 18.5,\n",
       " 'FDK56': 9.695,\n",
       " 'FDK58': 11.35,\n",
       " 'FDK60': 16.5,\n",
       " 'FDL02': 20.0,\n",
       " 'FDL03': 19.25,\n",
       " 'FDL04': 19.0,\n",
       " 'FDL08': 10.8,\n",
       " 'FDL09': 19.6,\n",
       " 'FDL10': 8.395,\n",
       " 'FDL12': 15.85,\n",
       " 'FDL13': 13.85,\n",
       " 'FDL14': 8.115,\n",
       " 'FDL15': 17.85,\n",
       " 'FDL16': 12.85,\n",
       " 'FDL20': 17.1,\n",
       " 'FDL21': 15.85,\n",
       " 'FDL22': 16.85,\n",
       " 'FDL24': 10.3,\n",
       " 'FDL25': 6.919999999999999,\n",
       " 'FDL26': 18.0,\n",
       " 'FDL27': 6.17,\n",
       " 'FDL28': 10.0,\n",
       " 'FDL32': 15.7,\n",
       " 'FDL33': 7.235000000000001,\n",
       " 'FDL34': 16.0,\n",
       " 'FDL36': 15.1,\n",
       " 'FDL38': 13.8,\n",
       " 'FDL39': 16.1,\n",
       " 'FDL40': 17.7,\n",
       " 'FDL43': 10.1,\n",
       " 'FDL44': 18.25,\n",
       " 'FDL45': 15.6,\n",
       " 'FDL46': 20.35,\n",
       " 'FDL48': 19.35,\n",
       " 'FDL50': 12.15,\n",
       " 'FDL51': 20.7,\n",
       " 'FDL52': 6.635,\n",
       " 'FDL56': 14.1,\n",
       " 'FDL57': 15.1,\n",
       " 'FDL58': 5.78,\n",
       " 'FDM01': 7.894999999999999,\n",
       " 'FDM02': 12.5,\n",
       " 'FDM03': 12.65,\n",
       " 'FDM04': 9.195,\n",
       " 'FDM08': 10.1,\n",
       " 'FDM09': 11.15,\n",
       " 'FDM10': 18.25,\n",
       " 'FDM12': 16.7,\n",
       " 'FDM13': 6.425,\n",
       " 'FDM14': 13.8,\n",
       " 'FDM15': 11.800000000000002,\n",
       " 'FDM16': 8.155,\n",
       " 'FDM20': 10.0,\n",
       " 'FDM21': 20.2,\n",
       " 'FDM22': 14.0,\n",
       " 'FDM24': 6.135,\n",
       " 'FDM25': 10.695,\n",
       " 'FDM27': 12.35,\n",
       " 'FDM28': 15.7,\n",
       " 'FDM32': 20.5,\n",
       " 'FDM33': 15.6,\n",
       " 'FDM34': 19.0,\n",
       " 'FDM36': 11.65,\n",
       " 'FDM38': 5.885,\n",
       " 'FDM39': 6.42,\n",
       " 'FDM40': 10.195,\n",
       " 'FDM44': 12.5,\n",
       " 'FDM45': 8.655,\n",
       " 'FDM46': 7.365,\n",
       " 'FDM50': 13.0,\n",
       " 'FDM51': 11.800000000000002,\n",
       " 'FDM52': 15.1,\n",
       " 'FDM56': 16.7,\n",
       " 'FDM57': 11.65,\n",
       " 'FDM58': 16.85,\n",
       " 'FDM60': 10.8,\n",
       " 'FDN01': 8.895,\n",
       " 'FDN02': 16.5,\n",
       " 'FDN03': 9.8,\n",
       " 'FDN04': 11.800000000000002,\n",
       " 'FDN08': 7.72,\n",
       " 'FDN09': 14.15,\n",
       " 'FDN10': 11.5,\n",
       " 'FDN12': 15.6,\n",
       " 'FDN13': 18.6,\n",
       " 'FDN15': 17.5,\n",
       " 'FDN16': 12.6,\n",
       " 'FDN20': 19.35,\n",
       " 'FDN21': 18.6,\n",
       " 'FDN22': 18.85,\n",
       " 'FDN23': 6.575,\n",
       " 'FDN24': 14.1,\n",
       " 'FDN25': 7.895,\n",
       " 'FDN27': 20.85,\n",
       " 'FDN28': 5.88,\n",
       " 'FDN31': 11.5,\n",
       " 'FDN32': 17.5,\n",
       " 'FDN33': 6.305,\n",
       " 'FDN34': 15.6,\n",
       " 'FDN38': 6.615,\n",
       " 'FDN39': 19.35,\n",
       " 'FDN40': 5.88,\n",
       " 'FDN44': 13.15,\n",
       " 'FDN45': 19.35,\n",
       " 'FDN46': 7.21,\n",
       " 'FDN48': 13.35,\n",
       " 'FDN49': 17.25,\n",
       " 'FDN50': 16.85,\n",
       " 'FDN51': 17.85,\n",
       " 'FDN56': 5.46,\n",
       " 'FDN57': 18.25,\n",
       " 'FDN58': 13.8,\n",
       " 'FDN60': 15.1,\n",
       " 'FDO01': 21.1,\n",
       " 'FDO03': 10.395,\n",
       " 'FDO04': 16.6,\n",
       " 'FDO08': 11.1,\n",
       " 'FDO09': 13.5,\n",
       " 'FDO10': 13.65,\n",
       " 'FDO11': 8.0,\n",
       " 'FDO12': 15.75,\n",
       " 'FDO13': 7.865,\n",
       " 'FDO15': 16.75,\n",
       " 'FDO16': 5.48,\n",
       " 'FDO19': 17.7,\n",
       " 'FDO20': 12.85,\n",
       " 'FDO21': 11.6,\n",
       " 'FDO22': 13.5,\n",
       " 'FDO23': 17.85,\n",
       " 'FDO24': 11.1,\n",
       " 'FDO25': 6.3,\n",
       " 'FDO27': 6.175,\n",
       " 'FDO28': 5.765,\n",
       " 'FDO31': 6.76,\n",
       " 'FDO32': 6.36,\n",
       " 'FDO33': 14.75,\n",
       " 'FDO34': 17.7,\n",
       " 'FDO36': 19.7,\n",
       " 'FDO37': 8.06,\n",
       " 'FDO38': 17.25,\n",
       " 'FDO39': 6.985000000000001,\n",
       " 'FDO40': 17.1,\n",
       " 'FDO44': 12.6,\n",
       " 'FDO45': 13.15,\n",
       " 'FDO46': 9.6,\n",
       " 'FDO48': 15.0,\n",
       " 'FDO49': 10.6,\n",
       " 'FDO50': 16.25,\n",
       " 'FDO51': 6.785,\n",
       " 'FDO52': 11.6,\n",
       " 'FDO56': 10.195,\n",
       " 'FDO57': 20.75,\n",
       " 'FDO58': 19.6,\n",
       " 'FDO60': 20.0,\n",
       " 'FDP01': 20.75,\n",
       " 'FDP03': 5.15,\n",
       " 'FDP04': 15.35,\n",
       " 'FDP07': 18.2,\n",
       " 'FDP08': 20.5,\n",
       " 'FDP09': 19.75,\n",
       " 'FDP10': 19.0,\n",
       " 'FDP11': 15.85,\n",
       " 'FDP12': 9.8,\n",
       " 'FDP13': 8.1,\n",
       " 'FDP15': 15.2,\n",
       " 'FDP16': 18.6,\n",
       " 'FDP19': 11.5,\n",
       " 'FDP20': 19.85,\n",
       " 'FDP21': 7.42,\n",
       " 'FDP22': 14.65,\n",
       " 'FDP23': 6.71,\n",
       " 'FDP24': 20.6,\n",
       " 'FDP25': 15.2,\n",
       " 'FDP26': 7.785,\n",
       " 'FDP27': 8.155,\n",
       " 'FDP28': 13.65,\n",
       " 'FDP31': 21.1,\n",
       " 'FDP32': 6.65,\n",
       " 'FDP33': 18.7,\n",
       " 'FDP34': 12.85,\n",
       " 'FDP36': 10.395,\n",
       " 'FDP37': 15.6,\n",
       " 'FDP38': 10.1,\n",
       " 'FDP39': 12.65,\n",
       " 'FDP40': 4.555,\n",
       " 'FDP44': 16.5,\n",
       " 'FDP45': 15.7,\n",
       " 'FDP46': 15.35,\n",
       " 'FDP48': 7.52,\n",
       " 'FDP49': 9.0,\n",
       " 'FDP51': 13.85,\n",
       " 'FDP52': 18.7,\n",
       " 'FDP56': 8.185,\n",
       " 'FDP57': 17.5,\n",
       " 'FDP58': 11.1,\n",
       " 'FDP59': 20.85,\n",
       " 'FDP60': 17.35,\n",
       " 'FDQ01': 19.7,\n",
       " 'FDQ03': 15.0,\n",
       " 'FDQ04': 6.4,\n",
       " 'FDQ07': 15.1,\n",
       " 'FDQ08': 15.7,\n",
       " 'FDQ09': 7.235000000000001,\n",
       " 'FDQ10': 12.85,\n",
       " 'FDQ11': 5.695,\n",
       " 'FDQ12': 12.65,\n",
       " 'FDQ13': 11.1,\n",
       " 'FDQ14': 9.27,\n",
       " 'FDQ15': 20.35,\n",
       " 'FDQ16': 19.7,\n",
       " 'FDQ19': 7.349999999999999,\n",
       " 'FDQ20': 8.325,\n",
       " 'FDQ21': 21.25,\n",
       " 'FDQ22': 16.75,\n",
       " 'FDQ23': 6.55,\n",
       " 'FDQ24': 15.7,\n",
       " 'FDQ25': 8.63,\n",
       " 'FDQ26': 13.5,\n",
       " 'FDQ27': 5.19,\n",
       " 'FDQ28': 14.0,\n",
       " 'FDQ31': 5.785,\n",
       " 'FDQ32': 17.85,\n",
       " 'FDQ33': 13.35,\n",
       " 'FDQ34': 10.85,\n",
       " 'FDQ36': 7.855,\n",
       " 'FDQ37': 20.75,\n",
       " 'FDQ39': 14.8,\n",
       " 'FDQ40': 11.1,\n",
       " 'FDQ44': 20.5,\n",
       " 'FDQ45': 9.5,\n",
       " 'FDQ46': 7.510000000000001,\n",
       " 'FDQ47': 7.154999999999999,\n",
       " 'FDQ48': 14.3,\n",
       " 'FDQ49': 20.2,\n",
       " 'FDQ51': 16.0,\n",
       " 'FDQ52': 17.0,\n",
       " 'FDQ55': 13.65,\n",
       " 'FDQ56': 6.59,\n",
       " 'FDQ57': 7.275,\n",
       " 'FDQ58': 7.315,\n",
       " 'FDQ59': 9.8,\n",
       " 'FDR01': 5.405,\n",
       " 'FDR02': 16.7,\n",
       " 'FDR03': 15.7,\n",
       " 'FDR04': 7.075,\n",
       " 'FDR07': 21.35,\n",
       " 'FDR08': 18.7,\n",
       " 'FDR09': 18.25,\n",
       " 'FDR10': 17.6,\n",
       " 'FDR11': 10.5,\n",
       " 'FDR12': 12.6,\n",
       " 'FDR13': 9.895,\n",
       " 'FDR14': 11.65,\n",
       " 'FDR15': 9.3,\n",
       " 'FDR16': 5.845,\n",
       " 'FDR19': 13.5,\n",
       " 'FDR20': 20.0,\n",
       " 'FDR21': 19.7,\n",
       " 'FDR22': 19.35,\n",
       " 'FDR23': 15.85,\n",
       " 'FDR24': 17.35,\n",
       " 'FDR25': 17.0,\n",
       " 'FDR26': 20.7,\n",
       " 'FDR27': 15.1,\n",
       " 'FDR28': 13.85,\n",
       " 'FDR31': 6.46,\n",
       " 'FDR32': 6.78,\n",
       " 'FDR33': 7.31,\n",
       " 'FDR34': 17.0,\n",
       " 'FDR35': 12.5,\n",
       " 'FDR36': 6.715000000000001,\n",
       " 'FDR37': 16.5,\n",
       " 'FDR39': 20.35,\n",
       " 'FDR40': 9.1,\n",
       " 'FDR43': 18.2,\n",
       " 'FDR44': 6.11,\n",
       " 'FDR45': 10.800000000000002,\n",
       " 'FDR46': 16.85,\n",
       " 'FDR47': 17.85,\n",
       " 'FDR48': 11.65,\n",
       " 'FDR49': 8.71,\n",
       " 'FDR51': 9.035,\n",
       " 'FDR52': 12.65,\n",
       " 'FDR55': 12.15,\n",
       " 'FDR56': 15.5,\n",
       " 'FDR57': 5.675,\n",
       " 'FDR58': 6.675,\n",
       " 'FDR59': 14.5,\n",
       " 'FDR60': 14.3,\n",
       " 'FDS01': 11.6,\n",
       " 'FDS02': 10.195,\n",
       " 'FDS03': 7.825,\n",
       " 'FDS04': 10.195000000000002,\n",
       " 'FDS07': 12.35,\n",
       " 'FDS08': 5.735,\n",
       " 'FDS09': 8.895,\n",
       " 'FDS10': 19.2,\n",
       " 'FDS11': 7.05,\n",
       " 'FDS12': 9.1,\n",
       " 'FDS13': 6.465,\n",
       " 'FDS14': 7.285,\n",
       " 'FDS15': 9.195,\n",
       " 'FDS16': 15.15,\n",
       " 'FDS19': 13.8,\n",
       " 'FDS20': 8.85,\n",
       " 'FDS21': 19.85,\n",
       " 'FDS22': 16.85,\n",
       " 'FDS23': 4.635,\n",
       " 'FDS24': 20.85,\n",
       " 'FDS25': 6.885,\n",
       " 'FDS26': 20.35,\n",
       " 'FDS27': 10.195,\n",
       " 'FDS28': 8.18,\n",
       " 'FDS31': 13.1,\n",
       " 'FDS32': 17.75,\n",
       " 'FDS33': 6.669999999999999,\n",
       " 'FDS34': 19.35,\n",
       " 'FDS35': 9.3,\n",
       " 'FDS36': 8.38,\n",
       " 'FDS37': 7.655,\n",
       " 'FDS39': 6.895,\n",
       " 'FDS40': 15.35,\n",
       " 'FDS43': 11.65,\n",
       " 'FDS44': 12.65,\n",
       " 'FDS45': 5.175,\n",
       " 'FDS46': 17.6,\n",
       " 'FDS47': 16.75,\n",
       " 'FDS48': 15.15,\n",
       " 'FDS49': 9.0,\n",
       " 'FDS50': 17.0,\n",
       " 'FDS51': 13.35,\n",
       " 'FDS52': 8.89,\n",
       " 'FDS55': 7.02,\n",
       " 'FDS56': 5.785,\n",
       " 'FDS57': 15.5,\n",
       " 'FDS58': 9.285,\n",
       " 'FDS59': 14.8,\n",
       " 'FDS60': 20.85,\n",
       " 'FDT01': 13.65,\n",
       " 'FDT02': 12.6,\n",
       " 'FDT03': 21.25,\n",
       " 'FDT04': 17.25,\n",
       " 'FDT07': 5.82,\n",
       " 'FDT08': 13.65,\n",
       " 'FDT09': 15.15,\n",
       " 'FDT10': 16.7,\n",
       " 'FDT11': 5.94,\n",
       " 'FDT12': 6.215,\n",
       " 'FDT13': 14.85,\n",
       " 'FDT14': 10.695,\n",
       " 'FDT15': 12.15,\n",
       " 'FDT16': 9.895,\n",
       " 'FDT19': 7.59,\n",
       " 'FDT20': 10.5,\n",
       " 'FDT21': 7.42,\n",
       " 'FDT22': 10.395,\n",
       " 'FDT23': 7.720000000000001,\n",
       " 'FDT24': 12.35,\n",
       " 'FDT25': 7.5,\n",
       " 'FDT26': 18.85,\n",
       " 'FDT27': 11.395,\n",
       " 'FDT28': 13.300000000000002,\n",
       " 'FDT31': 19.75,\n",
       " 'FDT32': 19.0,\n",
       " 'FDT33': 7.81,\n",
       " 'FDT34': 9.3,\n",
       " 'FDT35': 19.85,\n",
       " 'FDT36': 12.3,\n",
       " 'FDT37': 14.15,\n",
       " 'FDT38': 18.7,\n",
       " 'FDT39': 6.26,\n",
       " 'FDT40': 5.985,\n",
       " 'FDT43': 16.35,\n",
       " 'FDT44': 16.6,\n",
       " 'FDT45': 15.85,\n",
       " 'FDT46': 11.35,\n",
       " 'FDT47': 5.26,\n",
       " 'FDT48': 4.92,\n",
       " 'FDT49': 7.0,\n",
       " 'FDT50': 6.75,\n",
       " 'FDT51': 11.65,\n",
       " 'FDT52': 9.695,\n",
       " 'FDT55': 13.6,\n",
       " 'FDT56': 16.0,\n",
       " 'FDT57': 15.2,\n",
       " 'FDT58': 9.0,\n",
       " 'FDT59': 13.65,\n",
       " 'FDT60': 12.0,\n",
       " 'FDU01': 20.25,\n",
       " 'FDU02': 13.35,\n",
       " 'FDU03': 18.7,\n",
       " 'FDU04': 7.93,\n",
       " 'FDU07': 11.1,\n",
       " 'FDU08': 10.3,\n",
       " 'FDU09': 7.71,\n",
       " 'FDU10': 10.1,\n",
       " 'FDU11': 4.785,\n",
       " 'FDU12': 15.5,\n",
       " 'FDU13': 8.355,\n",
       " 'FDU14': 17.75,\n",
       " 'FDU15': 13.65,\n",
       " 'FDU16': 19.25,\n",
       " 'FDU19': 8.77,\n",
       " 'FDU20': 19.35,\n",
       " 'FDU21': 11.8,\n",
       " 'FDU22': 12.35,\n",
       " 'FDU23': 12.15,\n",
       " 'FDU24': 6.78,\n",
       " 'FDU25': 12.35,\n",
       " 'FDU26': 16.7,\n",
       " 'FDU27': 18.6,\n",
       " 'FDU28': 19.2,\n",
       " 'FDU31': 10.5,\n",
       " 'FDU32': 8.785,\n",
       " 'FDU33': 7.63,\n",
       " 'FDU34': 18.25,\n",
       " 'FDU35': 6.44,\n",
       " 'FDU36': 6.15,\n",
       " 'FDU37': 9.5,\n",
       " 'FDU38': 10.8,\n",
       " 'FDU39': 18.85,\n",
       " 'FDU40': 20.85,\n",
       " 'FDU43': 19.35,\n",
       " 'FDU44': 12.15,\n",
       " 'FDU45': 15.6,\n",
       " ...}"
      ]
     },
     "execution_count": 30,
     "metadata": {},
     "output_type": "execute_result"
    }
   ],
   "source": [
    "weight_dict"
   ]
  },
  {
   "cell_type": "code",
   "execution_count": 31,
   "id": "a7a3d5d1-035c-448a-a2a2-de071a31bb23",
   "metadata": {
    "id": "a7a3d5d1-035c-448a-a2a2-de071a31bb23"
   },
   "outputs": [],
   "source": [
    "new_data=data[~data['Item_Identifier'].isin(invalid_data)] #to exclude the 4 values ('~' allows u to exclude that values )"
   ]
  },
  {
   "cell_type": "markdown",
   "id": "63911c00-4059-4b5a-a1a5-0da75ac73753",
   "metadata": {
    "id": "63911c00-4059-4b5a-a1a5-0da75ac73753"
   },
   "source": [
    "# Item_Visibility\n",
    "#### Some Item's have visibility recorded as 0.0... or basically zero. We will be replacing it the mean of the of the whole field."
   ]
  },
  {
   "cell_type": "code",
   "execution_count": 32,
   "id": "2a679c9a-ce9d-466d-a573-d2e68bb9f771",
   "metadata": {
    "id": "2a679c9a-ce9d-466d-a573-d2e68bb9f771",
    "outputId": "61d979a1-6378-4859-a6a0-ed8d0710a842"
   },
   "outputs": [
    {
     "name": "stderr",
     "output_type": "stream",
     "text": [
      "C:\\Users\\Rajwardhan\\AppData\\Local\\Temp\\ipykernel_17644\\481141965.py:1: SettingWithCopyWarning: \n",
      "A value is trying to be set on a copy of a slice from a DataFrame.\n",
      "Try using .loc[row_indexer,col_indexer] = value instead\n",
      "\n",
      "See the caveats in the documentation: https://pandas.pydata.org/pandas-docs/stable/user_guide/indexing.html#returning-a-view-versus-a-copy\n",
      "  new_data['Item_Visibility']=new_data['Item_Visibility'].replace(0,new_data['Item_Visibility'].mean()) # there are some items which have item_visibility as '0' so we replace that 0 witht the mean value\n"
     ]
    }
   ],
   "source": [
    "new_data['Item_Visibility']=new_data['Item_Visibility'].replace(0,new_data['Item_Visibility'].mean()) # there are some items which have item_visibility as '0' so we replace that 0 witht the mean value"
   ]
  },
  {
   "cell_type": "code",
   "execution_count": 33,
   "id": "7e6403fe-34db-4ecf-9a0a-2f8feb287fb1",
   "metadata": {
    "id": "7e6403fe-34db-4ecf-9a0a-2f8feb287fb1"
   },
   "outputs": [],
   "source": [
    "#replace the item_weight wherever it is null and match the value in dictionary and apply the associated weight there\n",
    "if new_data.Item_Weight.isnull().any():\n",
    "    new_data.loc[new_data.Item_Weight.isnull(),'Item_Weight'] =new_data.loc[new_data.Item_Weight.isnull(),'Item_Identifier'].apply(lambda x:weight_dict[x])"
   ]
  },
  {
   "cell_type": "code",
   "execution_count": 34,
   "id": "5a14ac19-fea6-466e-9976-bacde3834217",
   "metadata": {
    "id": "5a14ac19-fea6-466e-9976-bacde3834217",
    "outputId": "70b8b287-4dd0-465b-bbbd-74cc012370d3"
   },
   "outputs": [
    {
     "data": {
      "text/html": [
       "<div>\n",
       "<style scoped>\n",
       "    .dataframe tbody tr th:only-of-type {\n",
       "        vertical-align: middle;\n",
       "    }\n",
       "\n",
       "    .dataframe tbody tr th {\n",
       "        vertical-align: top;\n",
       "    }\n",
       "\n",
       "    .dataframe thead th {\n",
       "        text-align: right;\n",
       "    }\n",
       "</style>\n",
       "<table border=\"1\" class=\"dataframe\">\n",
       "  <thead>\n",
       "    <tr style=\"text-align: right;\">\n",
       "      <th></th>\n",
       "      <th>Item_Identifier</th>\n",
       "      <th>Item_Weight</th>\n",
       "      <th>Item_Fat_Content</th>\n",
       "      <th>Item_Visibility</th>\n",
       "      <th>Item_Type</th>\n",
       "      <th>Item_MRP</th>\n",
       "      <th>Outlet_Identifier</th>\n",
       "      <th>Outlet_Establishment_Year</th>\n",
       "      <th>Outlet_Size</th>\n",
       "      <th>Outlet_Location_Type</th>\n",
       "      <th>Outlet_Type</th>\n",
       "      <th>Item_Outlet_Sales</th>\n",
       "    </tr>\n",
       "  </thead>\n",
       "  <tbody>\n",
       "    <tr>\n",
       "      <th>163</th>\n",
       "      <td>DRF49</td>\n",
       "      <td>7.27</td>\n",
       "      <td>Low Fat</td>\n",
       "      <td>0.071078</td>\n",
       "      <td>Soft Drinks</td>\n",
       "      <td>114.2518</td>\n",
       "      <td>OUT046</td>\n",
       "      <td>1997</td>\n",
       "      <td>Small</td>\n",
       "      <td>Tier 1</td>\n",
       "      <td>Supermarket Type1</td>\n",
       "      <td>2618.5914</td>\n",
       "    </tr>\n",
       "    <tr>\n",
       "      <th>290</th>\n",
       "      <td>DRF49</td>\n",
       "      <td>7.27</td>\n",
       "      <td>Low Fat</td>\n",
       "      <td>0.071222</td>\n",
       "      <td>Soft Drinks</td>\n",
       "      <td>113.5518</td>\n",
       "      <td>OUT045</td>\n",
       "      <td>2002</td>\n",
       "      <td>NaN</td>\n",
       "      <td>Tier 2</td>\n",
       "      <td>Supermarket Type1</td>\n",
       "      <td>569.2590</td>\n",
       "    </tr>\n",
       "    <tr>\n",
       "      <th>1844</th>\n",
       "      <td>DRF49</td>\n",
       "      <td>7.27</td>\n",
       "      <td>Low Fat</td>\n",
       "      <td>0.071188</td>\n",
       "      <td>Soft Drinks</td>\n",
       "      <td>111.9518</td>\n",
       "      <td>OUT049</td>\n",
       "      <td>1999</td>\n",
       "      <td>Medium</td>\n",
       "      <td>Tier 1</td>\n",
       "      <td>Supermarket Type1</td>\n",
       "      <td>1138.5180</td>\n",
       "    </tr>\n",
       "    <tr>\n",
       "      <th>4729</th>\n",
       "      <td>DRF49</td>\n",
       "      <td>7.27</td>\n",
       "      <td>Low Fat</td>\n",
       "      <td>0.071367</td>\n",
       "      <td>Soft Drinks</td>\n",
       "      <td>111.8518</td>\n",
       "      <td>OUT018</td>\n",
       "      <td>2009</td>\n",
       "      <td>Medium</td>\n",
       "      <td>Tier 3</td>\n",
       "      <td>Supermarket Type2</td>\n",
       "      <td>2277.0360</td>\n",
       "    </tr>\n",
       "    <tr>\n",
       "      <th>4861</th>\n",
       "      <td>DRF49</td>\n",
       "      <td>NaN</td>\n",
       "      <td>Low Fat</td>\n",
       "      <td>0.124448</td>\n",
       "      <td>Soft Drinks</td>\n",
       "      <td>112.0518</td>\n",
       "      <td>OUT019</td>\n",
       "      <td>1985</td>\n",
       "      <td>Small</td>\n",
       "      <td>Tier 1</td>\n",
       "      <td>Grocery Store</td>\n",
       "      <td>113.8518</td>\n",
       "    </tr>\n",
       "    <tr>\n",
       "      <th>6759</th>\n",
       "      <td>DRF49</td>\n",
       "      <td>7.27</td>\n",
       "      <td>Low Fat</td>\n",
       "      <td>0.071064</td>\n",
       "      <td>Soft Drinks</td>\n",
       "      <td>114.4518</td>\n",
       "      <td>OUT035</td>\n",
       "      <td>2004</td>\n",
       "      <td>Small</td>\n",
       "      <td>Tier 2</td>\n",
       "      <td>Supermarket Type1</td>\n",
       "      <td>1366.2216</td>\n",
       "    </tr>\n",
       "  </tbody>\n",
       "</table>\n",
       "</div>"
      ],
      "text/plain": [
       "     Item_Identifier  Item_Weight Item_Fat_Content  Item_Visibility  \\\n",
       "163            DRF49         7.27          Low Fat         0.071078   \n",
       "290            DRF49         7.27          Low Fat         0.071222   \n",
       "1844           DRF49         7.27          Low Fat         0.071188   \n",
       "4729           DRF49         7.27          Low Fat         0.071367   \n",
       "4861           DRF49          NaN          Low Fat         0.124448   \n",
       "6759           DRF49         7.27          Low Fat         0.071064   \n",
       "\n",
       "        Item_Type  Item_MRP Outlet_Identifier  Outlet_Establishment_Year  \\\n",
       "163   Soft Drinks  114.2518            OUT046                       1997   \n",
       "290   Soft Drinks  113.5518            OUT045                       2002   \n",
       "1844  Soft Drinks  111.9518            OUT049                       1999   \n",
       "4729  Soft Drinks  111.8518            OUT018                       2009   \n",
       "4861  Soft Drinks  112.0518            OUT019                       1985   \n",
       "6759  Soft Drinks  114.4518            OUT035                       2004   \n",
       "\n",
       "     Outlet_Size Outlet_Location_Type        Outlet_Type  Item_Outlet_Sales  \n",
       "163        Small               Tier 1  Supermarket Type1          2618.5914  \n",
       "290          NaN               Tier 2  Supermarket Type1           569.2590  \n",
       "1844      Medium               Tier 1  Supermarket Type1          1138.5180  \n",
       "4729      Medium               Tier 3  Supermarket Type2          2277.0360  \n",
       "4861       Small               Tier 1      Grocery Store           113.8518  \n",
       "6759       Small               Tier 2  Supermarket Type1          1366.2216  "
      ]
     },
     "execution_count": 34,
     "metadata": {},
     "output_type": "execute_result"
    }
   ],
   "source": [
    "data.loc[data['Item_Identifier']=='DRF49']"
   ]
  },
  {
   "cell_type": "code",
   "execution_count": 35,
   "id": "896dc1b5-2b9c-4638-ae24-32a98102cb45",
   "metadata": {
    "id": "896dc1b5-2b9c-4638-ae24-32a98102cb45",
    "outputId": "f0a6182a-be27-4172-dc63-941bf4f5b081"
   },
   "outputs": [
    {
     "name": "stdout",
     "output_type": "stream",
     "text": [
      "<class 'pandas.core.frame.DataFrame'>\n",
      "Index: 8519 entries, 0 to 8522\n",
      "Data columns (total 12 columns):\n",
      " #   Column                     Non-Null Count  Dtype  \n",
      "---  ------                     --------------  -----  \n",
      " 0   Item_Identifier            8519 non-null   object \n",
      " 1   Item_Weight                8519 non-null   float64\n",
      " 2   Item_Fat_Content           8519 non-null   object \n",
      " 3   Item_Visibility            8519 non-null   float64\n",
      " 4   Item_Type                  8519 non-null   object \n",
      " 5   Item_MRP                   8519 non-null   float64\n",
      " 6   Outlet_Identifier          8519 non-null   object \n",
      " 7   Outlet_Establishment_Year  8519 non-null   int64  \n",
      " 8   Outlet_Size                6109 non-null   object \n",
      " 9   Outlet_Location_Type       8519 non-null   object \n",
      " 10  Outlet_Type                8519 non-null   object \n",
      " 11  Item_Outlet_Sales          8519 non-null   float64\n",
      "dtypes: float64(4), int64(1), object(7)\n",
      "memory usage: 865.2+ KB\n"
     ]
    }
   ],
   "source": [
    "new_data.info()"
   ]
  },
  {
   "cell_type": "markdown",
   "id": "4017b66f-9df6-42ea-b64d-2af8276a0881",
   "metadata": {
    "id": "4017b66f-9df6-42ea-b64d-2af8276a0881"
   },
   "source": [
    "# To locate and replace null values of Outlet_Size\n",
    "__we have to find the highest or most recurring value(small,medium or high) for each type and consider it as associated value for that type__"
   ]
  },
  {
   "cell_type": "code",
   "execution_count": 36,
   "id": "a385e53a-d078-4a0e-88bd-7341a637576a",
   "metadata": {
    "id": "a385e53a-d078-4a0e-88bd-7341a637576a",
    "outputId": "a493f3a8-1155-4914-c18d-d3349f385598"
   },
   "outputs": [
    {
     "data": {
      "text/plain": [
       "Outlet_Type\n",
       "Supermarket Type1    5577\n",
       "Grocery Store        1082\n",
       "Supermarket Type3     932\n",
       "Supermarket Type2     928\n",
       "Name: count, dtype: int64"
      ]
     },
     "execution_count": 36,
     "metadata": {},
     "output_type": "execute_result"
    }
   ],
   "source": [
    "new_data.Outlet_Type.value_counts()"
   ]
  },
  {
   "cell_type": "markdown",
   "id": "637b45fe-94a4-4a26-9e7f-82914d301121",
   "metadata": {
    "id": "637b45fe-94a4-4a26-9e7f-82914d301121"
   },
   "source": [
    "-----------------------------------------------------------------------------------------------\n",
    "_For Supermarket type1_"
   ]
  },
  {
   "cell_type": "code",
   "execution_count": 37,
   "id": "a85c95ee-c057-4ce4-90e4-7c62d06fa4ee",
   "metadata": {
    "id": "a85c95ee-c057-4ce4-90e4-7c62d06fa4ee",
    "outputId": "b418b3aa-8c7f-4fc5-d148-9a25243ebea2"
   },
   "outputs": [
    {
     "data": {
      "text/plain": [
       "932"
      ]
     },
     "execution_count": 37,
     "metadata": {},
     "output_type": "execute_result"
    }
   ],
   "source": [
    "len(new_data[(new_data.Outlet_Type=='Supermarket Type1') & (new_data.Outlet_Size==\"High\")])"
   ]
  },
  {
   "cell_type": "code",
   "execution_count": 38,
   "id": "0e544c15-11b3-46ab-a9d3-79bf77a8b32a",
   "metadata": {
    "id": "0e544c15-11b3-46ab-a9d3-79bf77a8b32a",
    "outputId": "d718fef0-0569-4315-cbc9-d452173e18df"
   },
   "outputs": [
    {
     "data": {
      "text/plain": [
       "930"
      ]
     },
     "execution_count": 38,
     "metadata": {},
     "output_type": "execute_result"
    }
   ],
   "source": [
    "len(new_data[(new_data.Outlet_Type=='Supermarket Type1') & (new_data.Outlet_Size==\"Medium\")])"
   ]
  },
  {
   "cell_type": "code",
   "execution_count": 39,
   "id": "875e3760-104a-4381-8574-2e8b4f07a42d",
   "metadata": {
    "id": "875e3760-104a-4381-8574-2e8b4f07a42d",
    "outputId": "8fa399e5-2081-4dba-951d-580e90453733"
   },
   "outputs": [
    {
     "data": {
      "text/plain": [
       "1860"
      ]
     },
     "execution_count": 39,
     "metadata": {},
     "output_type": "execute_result"
    }
   ],
   "source": [
    "len(new_data[(new_data.Outlet_Type=='Supermarket Type1') & (new_data.Outlet_Size==\"Small\")])"
   ]
  },
  {
   "cell_type": "markdown",
   "id": "3647b5d8-8e44-4306-8b02-14e198c9529b",
   "metadata": {
    "id": "3647b5d8-8e44-4306-8b02-14e198c9529b"
   },
   "source": [
    "-----------------------------------------------------------------------------------------------\n",
    "_For Supermarket type2_"
   ]
  },
  {
   "cell_type": "code",
   "execution_count": 40,
   "id": "6bc43603-8676-4d6d-82db-39ede8dfe875",
   "metadata": {
    "id": "6bc43603-8676-4d6d-82db-39ede8dfe875",
    "outputId": "0952d62e-7c77-4ca6-aabd-7b4382194045"
   },
   "outputs": [
    {
     "data": {
      "text/plain": [
       "0"
      ]
     },
     "execution_count": 40,
     "metadata": {},
     "output_type": "execute_result"
    }
   ],
   "source": [
    "len(new_data[(new_data.Outlet_Type=='Supermarket Type2') & (new_data.Outlet_Size==\"High\")])"
   ]
  },
  {
   "cell_type": "code",
   "execution_count": 41,
   "id": "38e2ccd6-6e37-4ca5-8a9a-1f25710f870f",
   "metadata": {
    "id": "38e2ccd6-6e37-4ca5-8a9a-1f25710f870f",
    "outputId": "78c7e02a-5958-4dd2-c77d-64676ab5a982"
   },
   "outputs": [
    {
     "data": {
      "text/plain": [
       "928"
      ]
     },
     "execution_count": 41,
     "metadata": {},
     "output_type": "execute_result"
    }
   ],
   "source": [
    "len(new_data[(new_data.Outlet_Type=='Supermarket Type2') & (new_data.Outlet_Size==\"Medium\")])"
   ]
  },
  {
   "cell_type": "code",
   "execution_count": 42,
   "id": "8274b44c-e39e-4550-849d-cb28a679e02e",
   "metadata": {
    "id": "8274b44c-e39e-4550-849d-cb28a679e02e",
    "outputId": "25371e75-3d6b-4ddf-b0cb-028fcf6a1372"
   },
   "outputs": [
    {
     "data": {
      "text/plain": [
       "0"
      ]
     },
     "execution_count": 42,
     "metadata": {},
     "output_type": "execute_result"
    }
   ],
   "source": [
    "len(new_data[(new_data.Outlet_Type=='Supermarket Type2') & (new_data.Outlet_Size==\"Small\")])"
   ]
  },
  {
   "cell_type": "markdown",
   "id": "67c7c7d2-5c58-4871-b24d-fd875f4aa250",
   "metadata": {
    "id": "67c7c7d2-5c58-4871-b24d-fd875f4aa250"
   },
   "source": [
    "-----------------------------------------------------------------------------------------------\n",
    "_For Supermarket type3_"
   ]
  },
  {
   "cell_type": "code",
   "execution_count": 43,
   "id": "1f7ab702-5063-442b-8953-29a65087ab1d",
   "metadata": {
    "id": "1f7ab702-5063-442b-8953-29a65087ab1d",
    "outputId": "ba68a62f-ce83-448a-ec3b-d5868d916ac5"
   },
   "outputs": [
    {
     "data": {
      "text/plain": [
       "0"
      ]
     },
     "execution_count": 43,
     "metadata": {},
     "output_type": "execute_result"
    }
   ],
   "source": [
    "len(new_data[(new_data.Outlet_Type=='Supermarket Type3') & (new_data.Outlet_Size==\"High\")])"
   ]
  },
  {
   "cell_type": "code",
   "execution_count": 44,
   "id": "2eaf1348-6924-4728-a836-e31be8941087",
   "metadata": {
    "id": "2eaf1348-6924-4728-a836-e31be8941087",
    "outputId": "f94769ee-4a6f-4ab0-cdae-07aa0e9f5bb8"
   },
   "outputs": [
    {
     "data": {
      "text/plain": [
       "932"
      ]
     },
     "execution_count": 44,
     "metadata": {},
     "output_type": "execute_result"
    }
   ],
   "source": [
    "len(new_data[(new_data.Outlet_Type=='Supermarket Type3') & (new_data.Outlet_Size==\"Medium\")])"
   ]
  },
  {
   "cell_type": "code",
   "execution_count": 45,
   "id": "1e3b9ed2-8317-4a7a-9b8a-edd8232f0b95",
   "metadata": {
    "id": "1e3b9ed2-8317-4a7a-9b8a-edd8232f0b95",
    "outputId": "6377ec8c-45eb-4870-f879-64c1187875be"
   },
   "outputs": [
    {
     "data": {
      "text/plain": [
       "0"
      ]
     },
     "execution_count": 45,
     "metadata": {},
     "output_type": "execute_result"
    }
   ],
   "source": [
    "len(new_data[(new_data.Outlet_Type=='Supermarket Type3') & (new_data.Outlet_Size==\"Small\")])"
   ]
  },
  {
   "cell_type": "markdown",
   "id": "39650a77-ea94-4007-8ba1-dd33a2ce3664",
   "metadata": {
    "id": "39650a77-ea94-4007-8ba1-dd33a2ce3664"
   },
   "source": [
    "-----------------------------------------------------------------------------------------------\n",
    "_Overall for all 4 (finding mode i.e the most recurring type_"
   ]
  },
  {
   "cell_type": "markdown",
   "id": "bc3b0eaf-4fb2-48a4-b267-49d9fd1d094b",
   "metadata": {
    "id": "bc3b0eaf-4fb2-48a4-b267-49d9fd1d094b"
   },
   "source": [
    "#### Replace grocery store with smalls\n",
    "#### replace supermarket1, 2 and 3 with the mode (highest size type) in the place where there is nan."
   ]
  },
  {
   "cell_type": "code",
   "execution_count": 46,
   "id": "fa495f81-91a4-4740-bee1-1a012e2af910",
   "metadata": {
    "id": "fa495f81-91a4-4740-bee1-1a012e2af910",
    "outputId": "7eff3c80-5cc1-4248-ef23-649d53a44005"
   },
   "outputs": [
    {
     "data": {
      "text/html": [
       "<div>\n",
       "<style scoped>\n",
       "    .dataframe tbody tr th:only-of-type {\n",
       "        vertical-align: middle;\n",
       "    }\n",
       "\n",
       "    .dataframe tbody tr th {\n",
       "        vertical-align: top;\n",
       "    }\n",
       "\n",
       "    .dataframe thead th {\n",
       "        text-align: right;\n",
       "    }\n",
       "</style>\n",
       "<table border=\"1\" class=\"dataframe\">\n",
       "  <thead>\n",
       "    <tr style=\"text-align: right;\">\n",
       "      <th>Outlet_Type</th>\n",
       "      <th>Grocery Store</th>\n",
       "      <th>Supermarket Type1</th>\n",
       "      <th>Supermarket Type2</th>\n",
       "      <th>Supermarket Type3</th>\n",
       "    </tr>\n",
       "  </thead>\n",
       "  <tbody>\n",
       "    <tr>\n",
       "      <th>Outlet_Size</th>\n",
       "      <td>Small</td>\n",
       "      <td>Small</td>\n",
       "      <td>Medium</td>\n",
       "      <td>Medium</td>\n",
       "    </tr>\n",
       "  </tbody>\n",
       "</table>\n",
       "</div>"
      ],
      "text/plain": [
       "Outlet_Type Grocery Store Supermarket Type1 Supermarket Type2  \\\n",
       "Outlet_Size         Small             Small            Medium   \n",
       "\n",
       "Outlet_Type Supermarket Type3  \n",
       "Outlet_Size            Medium  "
      ]
     },
     "execution_count": 46,
     "metadata": {},
     "output_type": "execute_result"
    }
   ],
   "source": [
    "outlet_size_mode=new_data.pivot_table(values='Outlet_Size',columns=\"Outlet_Type\",aggfunc=(lambda x :x.mode()))\n",
    "outlet_size_mode"
   ]
  },
  {
   "cell_type": "code",
   "execution_count": 47,
   "id": "f8fc86c2-9ab5-4349-b914-7b24cd20e30a",
   "metadata": {
    "id": "f8fc86c2-9ab5-4349-b914-7b24cd20e30a",
    "outputId": "94ad8b35-fe4f-4b53-dccf-f02b86ffe5ad"
   },
   "outputs": [],
   "source": [
    "if new_data.Outlet_Size.isnull().any():\n",
    "    new_data.loc[new_data.Outlet_Size.isnull(),\"Outlet_Size\"]=new_data.loc[new_data.Outlet_Size.isnull(),'Outlet_Type'].apply(lambda x:outlet_size_mode[x])"
   ]
  },
  {
   "cell_type": "code",
   "execution_count": 48,
   "id": "4d1c5012-d9d8-4717-bd64-1bab0a20fff7",
   "metadata": {
    "id": "4d1c5012-d9d8-4717-bd64-1bab0a20fff7",
    "outputId": "c485e0aa-831c-4e1b-8a56-4b793d2236c6"
   },
   "outputs": [
    {
     "name": "stdout",
     "output_type": "stream",
     "text": [
      "<class 'pandas.core.frame.DataFrame'>\n",
      "Index: 8519 entries, 0 to 8522\n",
      "Data columns (total 12 columns):\n",
      " #   Column                     Non-Null Count  Dtype  \n",
      "---  ------                     --------------  -----  \n",
      " 0   Item_Identifier            8519 non-null   object \n",
      " 1   Item_Weight                8519 non-null   float64\n",
      " 2   Item_Fat_Content           8519 non-null   object \n",
      " 3   Item_Visibility            8519 non-null   float64\n",
      " 4   Item_Type                  8519 non-null   object \n",
      " 5   Item_MRP                   8519 non-null   float64\n",
      " 6   Outlet_Identifier          8519 non-null   object \n",
      " 7   Outlet_Establishment_Year  8519 non-null   int64  \n",
      " 8   Outlet_Size                8519 non-null   object \n",
      " 9   Outlet_Location_Type       8519 non-null   object \n",
      " 10  Outlet_Type                8519 non-null   object \n",
      " 11  Item_Outlet_Sales          8519 non-null   float64\n",
      "dtypes: float64(4), int64(1), object(7)\n",
      "memory usage: 865.2+ KB\n"
     ]
    }
   ],
   "source": [
    "new_data.info()"
   ]
  },
  {
   "cell_type": "code",
   "execution_count": 49,
   "id": "8e4fb624-84f2-4f16-976f-80dedcbae1b3",
   "metadata": {
    "id": "8e4fb624-84f2-4f16-976f-80dedcbae1b3",
    "outputId": "25336395-c698-4f47-820d-55df607ca612"
   },
   "outputs": [
    {
     "data": {
      "text/plain": [
       "Item_Identifier              0\n",
       "Item_Weight                  0\n",
       "Item_Fat_Content             0\n",
       "Item_Visibility              0\n",
       "Item_Type                    0\n",
       "Item_MRP                     0\n",
       "Outlet_Identifier            0\n",
       "Outlet_Establishment_Year    0\n",
       "Outlet_Size                  0\n",
       "Outlet_Location_Type         0\n",
       "Outlet_Type                  0\n",
       "Item_Outlet_Sales            0\n",
       "dtype: int64"
      ]
     },
     "execution_count": 49,
     "metadata": {},
     "output_type": "execute_result"
    }
   ],
   "source": [
    "new_data.isnull().sum()"
   ]
  },
  {
   "cell_type": "code",
   "execution_count": 50,
   "id": "8ead477f-cfee-4136-851e-b5bdde6cf867",
   "metadata": {
    "id": "8ead477f-cfee-4136-851e-b5bdde6cf867",
    "outputId": "54d94659-066c-4d04-eb97-4c8f98716c21"
   },
   "outputs": [
    {
     "data": {
      "text/plain": [
       "['Item_Identifier',\n",
       " 'Item_Fat_Content',\n",
       " 'Item_Type',\n",
       " 'Outlet_Identifier',\n",
       " 'Outlet_Size',\n",
       " 'Outlet_Location_Type',\n",
       " 'Outlet_Type']"
      ]
     },
     "execution_count": 50,
     "metadata": {},
     "output_type": "execute_result"
    }
   ],
   "source": [
    "cat_data"
   ]
  },
  {
   "cell_type": "code",
   "execution_count": 51,
   "id": "4b957fea-8561-4ac5-ac38-8ba6f13b5551",
   "metadata": {
    "id": "4b957fea-8561-4ac5-ac38-8ba6f13b5551"
   },
   "outputs": [],
   "source": [
    "cat_data.remove('Item_Identifier')\n",
    "cat_data.remove('Outlet_Identifier')"
   ]
  },
  {
   "cell_type": "code",
   "execution_count": 52,
   "id": "29848565-e73a-4143-ab9d-63042b7ac45f",
   "metadata": {
    "id": "29848565-e73a-4143-ab9d-63042b7ac45f",
    "outputId": "eaa924ad-3eb2-4676-92cf-0f1b986f8ada"
   },
   "outputs": [
    {
     "name": "stderr",
     "output_type": "stream",
     "text": [
      "C:\\Users\\Rajwardhan\\AppData\\Local\\Temp\\ipykernel_17644\\2644509695.py:4: SettingWithCopyWarning: \n",
      "A value is trying to be set on a copy of a slice from a DataFrame.\n",
      "Try using .loc[row_indexer,col_indexer] = value instead\n",
      "\n",
      "See the caveats in the documentation: https://pandas.pydata.org/pandas-docs/stable/user_guide/indexing.html#returning-a-view-versus-a-copy\n",
      "  new_data[col] = le.fit_transform(new_data[col])\n",
      "C:\\Users\\Rajwardhan\\AppData\\Local\\Temp\\ipykernel_17644\\2644509695.py:4: SettingWithCopyWarning: \n",
      "A value is trying to be set on a copy of a slice from a DataFrame.\n",
      "Try using .loc[row_indexer,col_indexer] = value instead\n",
      "\n",
      "See the caveats in the documentation: https://pandas.pydata.org/pandas-docs/stable/user_guide/indexing.html#returning-a-view-versus-a-copy\n",
      "  new_data[col] = le.fit_transform(new_data[col])\n",
      "C:\\Users\\Rajwardhan\\AppData\\Local\\Temp\\ipykernel_17644\\2644509695.py:4: SettingWithCopyWarning: \n",
      "A value is trying to be set on a copy of a slice from a DataFrame.\n",
      "Try using .loc[row_indexer,col_indexer] = value instead\n",
      "\n",
      "See the caveats in the documentation: https://pandas.pydata.org/pandas-docs/stable/user_guide/indexing.html#returning-a-view-versus-a-copy\n",
      "  new_data[col] = le.fit_transform(new_data[col])\n",
      "C:\\Users\\Rajwardhan\\AppData\\Local\\Temp\\ipykernel_17644\\2644509695.py:4: SettingWithCopyWarning: \n",
      "A value is trying to be set on a copy of a slice from a DataFrame.\n",
      "Try using .loc[row_indexer,col_indexer] = value instead\n",
      "\n",
      "See the caveats in the documentation: https://pandas.pydata.org/pandas-docs/stable/user_guide/indexing.html#returning-a-view-versus-a-copy\n",
      "  new_data[col] = le.fit_transform(new_data[col])\n",
      "C:\\Users\\Rajwardhan\\AppData\\Local\\Temp\\ipykernel_17644\\2644509695.py:4: SettingWithCopyWarning: \n",
      "A value is trying to be set on a copy of a slice from a DataFrame.\n",
      "Try using .loc[row_indexer,col_indexer] = value instead\n",
      "\n",
      "See the caveats in the documentation: https://pandas.pydata.org/pandas-docs/stable/user_guide/indexing.html#returning-a-view-versus-a-copy\n",
      "  new_data[col] = le.fit_transform(new_data[col])\n"
     ]
    }
   ],
   "source": [
    "from sklearn.preprocessing import LabelEncoder\n",
    "le = LabelEncoder()\n",
    "for col in cat_data:\n",
    "    new_data[col] = le.fit_transform(new_data[col])"
   ]
  },
  {
   "cell_type": "code",
   "execution_count": 53,
   "id": "e88a8622-ca98-433c-9a5e-a2be4e9b9c33",
   "metadata": {
    "id": "e88a8622-ca98-433c-9a5e-a2be4e9b9c33",
    "outputId": "b82db165-b8f1-4ff7-ce81-3f3a04c7c637"
   },
   "outputs": [
    {
     "name": "stdout",
     "output_type": "stream",
     "text": [
      "<class 'pandas.core.frame.DataFrame'>\n",
      "Index: 8519 entries, 0 to 8522\n",
      "Data columns (total 12 columns):\n",
      " #   Column                     Non-Null Count  Dtype  \n",
      "---  ------                     --------------  -----  \n",
      " 0   Item_Identifier            8519 non-null   object \n",
      " 1   Item_Weight                8519 non-null   float64\n",
      " 2   Item_Fat_Content           8519 non-null   int32  \n",
      " 3   Item_Visibility            8519 non-null   float64\n",
      " 4   Item_Type                  8519 non-null   int32  \n",
      " 5   Item_MRP                   8519 non-null   float64\n",
      " 6   Outlet_Identifier          8519 non-null   object \n",
      " 7   Outlet_Establishment_Year  8519 non-null   int64  \n",
      " 8   Outlet_Size                8519 non-null   int32  \n",
      " 9   Outlet_Location_Type       8519 non-null   int32  \n",
      " 10  Outlet_Type                8519 non-null   int32  \n",
      " 11  Item_Outlet_Sales          8519 non-null   float64\n",
      "dtypes: float64(4), int32(5), int64(1), object(2)\n",
      "memory usage: 698.8+ KB\n"
     ]
    }
   ],
   "source": [
    "new_data.info()"
   ]
  },
  {
   "cell_type": "markdown",
   "id": "223d71d2-224c-466f-bc5e-1608416af81c",
   "metadata": {
    "id": "223d71d2-224c-466f-bc5e-1608416af81c"
   },
   "source": [
    "#### Remove item identifier and outlet indentifier from the categorical array as they don't provide any good bases for the making of a model"
   ]
  },
  {
   "cell_type": "code",
   "execution_count": 54,
   "id": "61ecb0ea-cf20-4843-9bf1-846514317d7b",
   "metadata": {
    "id": "61ecb0ea-cf20-4843-9bf1-846514317d7b"
   },
   "outputs": [],
   "source": [
    "X = new_data.drop(columns = ['Item_Identifier','Outlet_Identifier', 'Item_Outlet_Sales','Outlet_Establishment_Year'])\n",
    "y = new_data['Item_Outlet_Sales']"
   ]
  },
  {
   "cell_type": "code",
   "execution_count": 55,
   "id": "48b3b4d2-cb20-4631-be75-8d72d98df321",
   "metadata": {
    "id": "48b3b4d2-cb20-4631-be75-8d72d98df321"
   },
   "outputs": [],
   "source": [
    "from sklearn.model_selection import train_test_split\n",
    "X_train,X_test,y_train,y_test = train_test_split(X,y,test_size = 0.2, random_state = 42)"
   ]
  },
  {
   "cell_type": "code",
   "execution_count": 56,
   "id": "e9cd2dcd-4c71-45f1-a5e9-e395bb4f4a5d",
   "metadata": {
    "id": "e9cd2dcd-4c71-45f1-a5e9-e395bb4f4a5d",
    "outputId": "feaa778a-a152-47b4-d700-fe2cc605d39d"
   },
   "outputs": [
    {
     "data": {
      "text/plain": [
       "((6815, 8), (1704, 8), (6815,), (1704,))"
      ]
     },
     "execution_count": 56,
     "metadata": {},
     "output_type": "execute_result"
    }
   ],
   "source": [
    "X_train.shape, X_test.shape,y_train.shape,y_test.shape"
   ]
  },
  {
   "cell_type": "code",
   "execution_count": 57,
   "id": "6e2c828a-cfb4-48e3-8a29-d4b6e5db4992",
   "metadata": {
    "id": "6e2c828a-cfb4-48e3-8a29-d4b6e5db4992"
   },
   "outputs": [],
   "source": [
    "from sklearn.linear_model import LinearRegression"
   ]
  },
  {
   "cell_type": "code",
   "execution_count": 58,
   "id": "45337ccd-0850-4063-b1af-732822b3cf9e",
   "metadata": {
    "id": "45337ccd-0850-4063-b1af-732822b3cf9e",
    "outputId": "13dc9602-c053-4593-a2b7-d340358ee0d2"
   },
   "outputs": [
    {
     "data": {
      "text/html": [
       "<style>#sk-container-id-1 {\n",
       "  /* Definition of color scheme common for light and dark mode */\n",
       "  --sklearn-color-text: black;\n",
       "  --sklearn-color-line: gray;\n",
       "  /* Definition of color scheme for unfitted estimators */\n",
       "  --sklearn-color-unfitted-level-0: #fff5e6;\n",
       "  --sklearn-color-unfitted-level-1: #f6e4d2;\n",
       "  --sklearn-color-unfitted-level-2: #ffe0b3;\n",
       "  --sklearn-color-unfitted-level-3: chocolate;\n",
       "  /* Definition of color scheme for fitted estimators */\n",
       "  --sklearn-color-fitted-level-0: #f0f8ff;\n",
       "  --sklearn-color-fitted-level-1: #d4ebff;\n",
       "  --sklearn-color-fitted-level-2: #b3dbfd;\n",
       "  --sklearn-color-fitted-level-3: cornflowerblue;\n",
       "\n",
       "  /* Specific color for light theme */\n",
       "  --sklearn-color-text-on-default-background: var(--sg-text-color, var(--theme-code-foreground, var(--jp-content-font-color1, black)));\n",
       "  --sklearn-color-background: var(--sg-background-color, var(--theme-background, var(--jp-layout-color0, white)));\n",
       "  --sklearn-color-border-box: var(--sg-text-color, var(--theme-code-foreground, var(--jp-content-font-color1, black)));\n",
       "  --sklearn-color-icon: #696969;\n",
       "\n",
       "  @media (prefers-color-scheme: dark) {\n",
       "    /* Redefinition of color scheme for dark theme */\n",
       "    --sklearn-color-text-on-default-background: var(--sg-text-color, var(--theme-code-foreground, var(--jp-content-font-color1, white)));\n",
       "    --sklearn-color-background: var(--sg-background-color, var(--theme-background, var(--jp-layout-color0, #111)));\n",
       "    --sklearn-color-border-box: var(--sg-text-color, var(--theme-code-foreground, var(--jp-content-font-color1, white)));\n",
       "    --sklearn-color-icon: #878787;\n",
       "  }\n",
       "}\n",
       "\n",
       "#sk-container-id-1 {\n",
       "  color: var(--sklearn-color-text);\n",
       "}\n",
       "\n",
       "#sk-container-id-1 pre {\n",
       "  padding: 0;\n",
       "}\n",
       "\n",
       "#sk-container-id-1 input.sk-hidden--visually {\n",
       "  border: 0;\n",
       "  clip: rect(1px 1px 1px 1px);\n",
       "  clip: rect(1px, 1px, 1px, 1px);\n",
       "  height: 1px;\n",
       "  margin: -1px;\n",
       "  overflow: hidden;\n",
       "  padding: 0;\n",
       "  position: absolute;\n",
       "  width: 1px;\n",
       "}\n",
       "\n",
       "#sk-container-id-1 div.sk-dashed-wrapped {\n",
       "  border: 1px dashed var(--sklearn-color-line);\n",
       "  margin: 0 0.4em 0.5em 0.4em;\n",
       "  box-sizing: border-box;\n",
       "  padding-bottom: 0.4em;\n",
       "  background-color: var(--sklearn-color-background);\n",
       "}\n",
       "\n",
       "#sk-container-id-1 div.sk-container {\n",
       "  /* jupyter's `normalize.less` sets `[hidden] { display: none; }`\n",
       "     but bootstrap.min.css set `[hidden] { display: none !important; }`\n",
       "     so we also need the `!important` here to be able to override the\n",
       "     default hidden behavior on the sphinx rendered scikit-learn.org.\n",
       "     See: https://github.com/scikit-learn/scikit-learn/issues/21755 */\n",
       "  display: inline-block !important;\n",
       "  position: relative;\n",
       "}\n",
       "\n",
       "#sk-container-id-1 div.sk-text-repr-fallback {\n",
       "  display: none;\n",
       "}\n",
       "\n",
       "div.sk-parallel-item,\n",
       "div.sk-serial,\n",
       "div.sk-item {\n",
       "  /* draw centered vertical line to link estimators */\n",
       "  background-image: linear-gradient(var(--sklearn-color-text-on-default-background), var(--sklearn-color-text-on-default-background));\n",
       "  background-size: 2px 100%;\n",
       "  background-repeat: no-repeat;\n",
       "  background-position: center center;\n",
       "}\n",
       "\n",
       "/* Parallel-specific style estimator block */\n",
       "\n",
       "#sk-container-id-1 div.sk-parallel-item::after {\n",
       "  content: \"\";\n",
       "  width: 100%;\n",
       "  border-bottom: 2px solid var(--sklearn-color-text-on-default-background);\n",
       "  flex-grow: 1;\n",
       "}\n",
       "\n",
       "#sk-container-id-1 div.sk-parallel {\n",
       "  display: flex;\n",
       "  align-items: stretch;\n",
       "  justify-content: center;\n",
       "  background-color: var(--sklearn-color-background);\n",
       "  position: relative;\n",
       "}\n",
       "\n",
       "#sk-container-id-1 div.sk-parallel-item {\n",
       "  display: flex;\n",
       "  flex-direction: column;\n",
       "}\n",
       "\n",
       "#sk-container-id-1 div.sk-parallel-item:first-child::after {\n",
       "  align-self: flex-end;\n",
       "  width: 50%;\n",
       "}\n",
       "\n",
       "#sk-container-id-1 div.sk-parallel-item:last-child::after {\n",
       "  align-self: flex-start;\n",
       "  width: 50%;\n",
       "}\n",
       "\n",
       "#sk-container-id-1 div.sk-parallel-item:only-child::after {\n",
       "  width: 0;\n",
       "}\n",
       "\n",
       "/* Serial-specific style estimator block */\n",
       "\n",
       "#sk-container-id-1 div.sk-serial {\n",
       "  display: flex;\n",
       "  flex-direction: column;\n",
       "  align-items: center;\n",
       "  background-color: var(--sklearn-color-background);\n",
       "  padding-right: 1em;\n",
       "  padding-left: 1em;\n",
       "}\n",
       "\n",
       "\n",
       "/* Toggleable style: style used for estimator/Pipeline/ColumnTransformer box that is\n",
       "clickable and can be expanded/collapsed.\n",
       "- Pipeline and ColumnTransformer use this feature and define the default style\n",
       "- Estimators will overwrite some part of the style using the `sk-estimator` class\n",
       "*/\n",
       "\n",
       "/* Pipeline and ColumnTransformer style (default) */\n",
       "\n",
       "#sk-container-id-1 div.sk-toggleable {\n",
       "  /* Default theme specific background. It is overwritten whether we have a\n",
       "  specific estimator or a Pipeline/ColumnTransformer */\n",
       "  background-color: var(--sklearn-color-background);\n",
       "}\n",
       "\n",
       "/* Toggleable label */\n",
       "#sk-container-id-1 label.sk-toggleable__label {\n",
       "  cursor: pointer;\n",
       "  display: block;\n",
       "  width: 100%;\n",
       "  margin-bottom: 0;\n",
       "  padding: 0.5em;\n",
       "  box-sizing: border-box;\n",
       "  text-align: center;\n",
       "}\n",
       "\n",
       "#sk-container-id-1 label.sk-toggleable__label-arrow:before {\n",
       "  /* Arrow on the left of the label */\n",
       "  content: \"▸\";\n",
       "  float: left;\n",
       "  margin-right: 0.25em;\n",
       "  color: var(--sklearn-color-icon);\n",
       "}\n",
       "\n",
       "#sk-container-id-1 label.sk-toggleable__label-arrow:hover:before {\n",
       "  color: var(--sklearn-color-text);\n",
       "}\n",
       "\n",
       "/* Toggleable content - dropdown */\n",
       "\n",
       "#sk-container-id-1 div.sk-toggleable__content {\n",
       "  max-height: 0;\n",
       "  max-width: 0;\n",
       "  overflow: hidden;\n",
       "  text-align: left;\n",
       "  /* unfitted */\n",
       "  background-color: var(--sklearn-color-unfitted-level-0);\n",
       "}\n",
       "\n",
       "#sk-container-id-1 div.sk-toggleable__content.fitted {\n",
       "  /* fitted */\n",
       "  background-color: var(--sklearn-color-fitted-level-0);\n",
       "}\n",
       "\n",
       "#sk-container-id-1 div.sk-toggleable__content pre {\n",
       "  margin: 0.2em;\n",
       "  border-radius: 0.25em;\n",
       "  color: var(--sklearn-color-text);\n",
       "  /* unfitted */\n",
       "  background-color: var(--sklearn-color-unfitted-level-0);\n",
       "}\n",
       "\n",
       "#sk-container-id-1 div.sk-toggleable__content.fitted pre {\n",
       "  /* unfitted */\n",
       "  background-color: var(--sklearn-color-fitted-level-0);\n",
       "}\n",
       "\n",
       "#sk-container-id-1 input.sk-toggleable__control:checked~div.sk-toggleable__content {\n",
       "  /* Expand drop-down */\n",
       "  max-height: 200px;\n",
       "  max-width: 100%;\n",
       "  overflow: auto;\n",
       "}\n",
       "\n",
       "#sk-container-id-1 input.sk-toggleable__control:checked~label.sk-toggleable__label-arrow:before {\n",
       "  content: \"▾\";\n",
       "}\n",
       "\n",
       "/* Pipeline/ColumnTransformer-specific style */\n",
       "\n",
       "#sk-container-id-1 div.sk-label input.sk-toggleable__control:checked~label.sk-toggleable__label {\n",
       "  color: var(--sklearn-color-text);\n",
       "  background-color: var(--sklearn-color-unfitted-level-2);\n",
       "}\n",
       "\n",
       "#sk-container-id-1 div.sk-label.fitted input.sk-toggleable__control:checked~label.sk-toggleable__label {\n",
       "  background-color: var(--sklearn-color-fitted-level-2);\n",
       "}\n",
       "\n",
       "/* Estimator-specific style */\n",
       "\n",
       "/* Colorize estimator box */\n",
       "#sk-container-id-1 div.sk-estimator input.sk-toggleable__control:checked~label.sk-toggleable__label {\n",
       "  /* unfitted */\n",
       "  background-color: var(--sklearn-color-unfitted-level-2);\n",
       "}\n",
       "\n",
       "#sk-container-id-1 div.sk-estimator.fitted input.sk-toggleable__control:checked~label.sk-toggleable__label {\n",
       "  /* fitted */\n",
       "  background-color: var(--sklearn-color-fitted-level-2);\n",
       "}\n",
       "\n",
       "#sk-container-id-1 div.sk-label label.sk-toggleable__label,\n",
       "#sk-container-id-1 div.sk-label label {\n",
       "  /* The background is the default theme color */\n",
       "  color: var(--sklearn-color-text-on-default-background);\n",
       "}\n",
       "\n",
       "/* On hover, darken the color of the background */\n",
       "#sk-container-id-1 div.sk-label:hover label.sk-toggleable__label {\n",
       "  color: var(--sklearn-color-text);\n",
       "  background-color: var(--sklearn-color-unfitted-level-2);\n",
       "}\n",
       "\n",
       "/* Label box, darken color on hover, fitted */\n",
       "#sk-container-id-1 div.sk-label.fitted:hover label.sk-toggleable__label.fitted {\n",
       "  color: var(--sklearn-color-text);\n",
       "  background-color: var(--sklearn-color-fitted-level-2);\n",
       "}\n",
       "\n",
       "/* Estimator label */\n",
       "\n",
       "#sk-container-id-1 div.sk-label label {\n",
       "  font-family: monospace;\n",
       "  font-weight: bold;\n",
       "  display: inline-block;\n",
       "  line-height: 1.2em;\n",
       "}\n",
       "\n",
       "#sk-container-id-1 div.sk-label-container {\n",
       "  text-align: center;\n",
       "}\n",
       "\n",
       "/* Estimator-specific */\n",
       "#sk-container-id-1 div.sk-estimator {\n",
       "  font-family: monospace;\n",
       "  border: 1px dotted var(--sklearn-color-border-box);\n",
       "  border-radius: 0.25em;\n",
       "  box-sizing: border-box;\n",
       "  margin-bottom: 0.5em;\n",
       "  /* unfitted */\n",
       "  background-color: var(--sklearn-color-unfitted-level-0);\n",
       "}\n",
       "\n",
       "#sk-container-id-1 div.sk-estimator.fitted {\n",
       "  /* fitted */\n",
       "  background-color: var(--sklearn-color-fitted-level-0);\n",
       "}\n",
       "\n",
       "/* on hover */\n",
       "#sk-container-id-1 div.sk-estimator:hover {\n",
       "  /* unfitted */\n",
       "  background-color: var(--sklearn-color-unfitted-level-2);\n",
       "}\n",
       "\n",
       "#sk-container-id-1 div.sk-estimator.fitted:hover {\n",
       "  /* fitted */\n",
       "  background-color: var(--sklearn-color-fitted-level-2);\n",
       "}\n",
       "\n",
       "/* Specification for estimator info (e.g. \"i\" and \"?\") */\n",
       "\n",
       "/* Common style for \"i\" and \"?\" */\n",
       "\n",
       ".sk-estimator-doc-link,\n",
       "a:link.sk-estimator-doc-link,\n",
       "a:visited.sk-estimator-doc-link {\n",
       "  float: right;\n",
       "  font-size: smaller;\n",
       "  line-height: 1em;\n",
       "  font-family: monospace;\n",
       "  background-color: var(--sklearn-color-background);\n",
       "  border-radius: 1em;\n",
       "  height: 1em;\n",
       "  width: 1em;\n",
       "  text-decoration: none !important;\n",
       "  margin-left: 1ex;\n",
       "  /* unfitted */\n",
       "  border: var(--sklearn-color-unfitted-level-1) 1pt solid;\n",
       "  color: var(--sklearn-color-unfitted-level-1);\n",
       "}\n",
       "\n",
       ".sk-estimator-doc-link.fitted,\n",
       "a:link.sk-estimator-doc-link.fitted,\n",
       "a:visited.sk-estimator-doc-link.fitted {\n",
       "  /* fitted */\n",
       "  border: var(--sklearn-color-fitted-level-1) 1pt solid;\n",
       "  color: var(--sklearn-color-fitted-level-1);\n",
       "}\n",
       "\n",
       "/* On hover */\n",
       "div.sk-estimator:hover .sk-estimator-doc-link:hover,\n",
       ".sk-estimator-doc-link:hover,\n",
       "div.sk-label-container:hover .sk-estimator-doc-link:hover,\n",
       ".sk-estimator-doc-link:hover {\n",
       "  /* unfitted */\n",
       "  background-color: var(--sklearn-color-unfitted-level-3);\n",
       "  color: var(--sklearn-color-background);\n",
       "  text-decoration: none;\n",
       "}\n",
       "\n",
       "div.sk-estimator.fitted:hover .sk-estimator-doc-link.fitted:hover,\n",
       ".sk-estimator-doc-link.fitted:hover,\n",
       "div.sk-label-container:hover .sk-estimator-doc-link.fitted:hover,\n",
       ".sk-estimator-doc-link.fitted:hover {\n",
       "  /* fitted */\n",
       "  background-color: var(--sklearn-color-fitted-level-3);\n",
       "  color: var(--sklearn-color-background);\n",
       "  text-decoration: none;\n",
       "}\n",
       "\n",
       "/* Span, style for the box shown on hovering the info icon */\n",
       ".sk-estimator-doc-link span {\n",
       "  display: none;\n",
       "  z-index: 9999;\n",
       "  position: relative;\n",
       "  font-weight: normal;\n",
       "  right: .2ex;\n",
       "  padding: .5ex;\n",
       "  margin: .5ex;\n",
       "  width: min-content;\n",
       "  min-width: 20ex;\n",
       "  max-width: 50ex;\n",
       "  color: var(--sklearn-color-text);\n",
       "  box-shadow: 2pt 2pt 4pt #999;\n",
       "  /* unfitted */\n",
       "  background: var(--sklearn-color-unfitted-level-0);\n",
       "  border: .5pt solid var(--sklearn-color-unfitted-level-3);\n",
       "}\n",
       "\n",
       ".sk-estimator-doc-link.fitted span {\n",
       "  /* fitted */\n",
       "  background: var(--sklearn-color-fitted-level-0);\n",
       "  border: var(--sklearn-color-fitted-level-3);\n",
       "}\n",
       "\n",
       ".sk-estimator-doc-link:hover span {\n",
       "  display: block;\n",
       "}\n",
       "\n",
       "/* \"?\"-specific style due to the `<a>` HTML tag */\n",
       "\n",
       "#sk-container-id-1 a.estimator_doc_link {\n",
       "  float: right;\n",
       "  font-size: 1rem;\n",
       "  line-height: 1em;\n",
       "  font-family: monospace;\n",
       "  background-color: var(--sklearn-color-background);\n",
       "  border-radius: 1rem;\n",
       "  height: 1rem;\n",
       "  width: 1rem;\n",
       "  text-decoration: none;\n",
       "  /* unfitted */\n",
       "  color: var(--sklearn-color-unfitted-level-1);\n",
       "  border: var(--sklearn-color-unfitted-level-1) 1pt solid;\n",
       "}\n",
       "\n",
       "#sk-container-id-1 a.estimator_doc_link.fitted {\n",
       "  /* fitted */\n",
       "  border: var(--sklearn-color-fitted-level-1) 1pt solid;\n",
       "  color: var(--sklearn-color-fitted-level-1);\n",
       "}\n",
       "\n",
       "/* On hover */\n",
       "#sk-container-id-1 a.estimator_doc_link:hover {\n",
       "  /* unfitted */\n",
       "  background-color: var(--sklearn-color-unfitted-level-3);\n",
       "  color: var(--sklearn-color-background);\n",
       "  text-decoration: none;\n",
       "}\n",
       "\n",
       "#sk-container-id-1 a.estimator_doc_link.fitted:hover {\n",
       "  /* fitted */\n",
       "  background-color: var(--sklearn-color-fitted-level-3);\n",
       "}\n",
       "</style><div id=\"sk-container-id-1\" class=\"sk-top-container\"><div class=\"sk-text-repr-fallback\"><pre>LinearRegression()</pre><b>In a Jupyter environment, please rerun this cell to show the HTML representation or trust the notebook. <br />On GitHub, the HTML representation is unable to render, please try loading this page with nbviewer.org.</b></div><div class=\"sk-container\" hidden><div class=\"sk-item\"><div class=\"sk-estimator fitted sk-toggleable\"><input class=\"sk-toggleable__control sk-hidden--visually\" id=\"sk-estimator-id-1\" type=\"checkbox\" checked><label for=\"sk-estimator-id-1\" class=\"sk-toggleable__label fitted sk-toggleable__label-arrow fitted\">&nbsp;&nbsp;LinearRegression<a class=\"sk-estimator-doc-link fitted\" rel=\"noreferrer\" target=\"_blank\" href=\"https://scikit-learn.org/1.4/modules/generated/sklearn.linear_model.LinearRegression.html\">?<span>Documentation for LinearRegression</span></a><span class=\"sk-estimator-doc-link fitted\">i<span>Fitted</span></span></label><div class=\"sk-toggleable__content fitted\"><pre>LinearRegression()</pre></div> </div></div></div></div>"
      ],
      "text/plain": [
       "LinearRegression()"
      ]
     },
     "execution_count": 58,
     "metadata": {},
     "output_type": "execute_result"
    }
   ],
   "source": [
    "model = LinearRegression()\n",
    "model.fit(X_train, y_train)"
   ]
  },
  {
   "cell_type": "code",
   "execution_count": 59,
   "id": "2e6ea403-40ec-4c48-9e88-62a28454a129",
   "metadata": {
    "id": "2e6ea403-40ec-4c48-9e88-62a28454a129",
    "outputId": "3f9861a6-4aab-484f-9f8e-7a5071112f34"
   },
   "outputs": [
    {
     "data": {
      "text/plain": [
       "array([ 734.44155863, 2945.82850895, 1857.25078157, ..., 1518.61548837,\n",
       "       1625.41694098, 1429.88553743])"
      ]
     },
     "execution_count": 59,
     "metadata": {},
     "output_type": "execute_result"
    }
   ],
   "source": [
    "model.predict(X_train)"
   ]
  },
  {
   "cell_type": "code",
   "execution_count": 60,
   "id": "207e6929-46aa-4fe8-99a2-212aff0425f5",
   "metadata": {
    "id": "207e6929-46aa-4fe8-99a2-212aff0425f5",
    "outputId": "217a1d72-f20f-438d-803f-1cce73303f70"
   },
   "outputs": [
    {
     "data": {
      "text/plain": [
       "array([1879.83815737, 1894.83991151,   44.51404273, ..., 1621.16183673,\n",
       "       1365.79583752, 2337.27210479])"
      ]
     },
     "execution_count": 60,
     "metadata": {},
     "output_type": "execute_result"
    }
   ],
   "source": [
    "model.predict(X_test)"
   ]
  },
  {
   "cell_type": "code",
   "execution_count": 61,
   "id": "df024ca5-2ce1-4f32-a410-2d0f6e8db839",
   "metadata": {
    "id": "df024ca5-2ce1-4f32-a410-2d0f6e8db839",
    "outputId": "d2f61cd1-ec9b-488e-a8da-ee64dde6194e"
   },
   "outputs": [
    {
     "name": "stdout",
     "output_type": "stream",
     "text": [
      "Mean Squared Error (Training):  1453781.1036005004\n",
      "Mean Squared Error (Testing):  1444082.31186945\n"
     ]
    }
   ],
   "source": [
    "y_train_pred = model.predict(X_train)\n",
    "y_test_pred = model.predict(X_test)\n",
    "from sklearn.metrics import mean_squared_error\n",
    "mse_train = mean_squared_error(y_train , y_train_pred)\n",
    "mse_test = mean_squared_error(y_test,y_test_pred)\n",
    "\n",
    "#Print the mean squared errors\n",
    "print(\"Mean Squared Error (Training): \",mse_train)\n",
    "print(\"Mean Squared Error (Testing): \",mse_test)"
   ]
  },
  {
   "cell_type": "markdown",
   "id": "aa2831d9-64ce-487c-8dc2-dace1db8bd4f",
   "metadata": {
    "id": "aa2831d9-64ce-487c-8dc2-dace1db8bd4f"
   },
   "source": [
    "### Standard Scaling"
   ]
  },
  {
   "cell_type": "code",
   "execution_count": 62,
   "id": "eedce359-e254-4da9-b4d4-0cae301d4faf",
   "metadata": {
    "id": "eedce359-e254-4da9-b4d4-0cae301d4faf"
   },
   "outputs": [],
   "source": [
    "#Feature Engineering\n",
    "from sklearn.preprocessing import StandardScaler\n",
    "\n",
    "scale= StandardScaler().fit(X)\n",
    "scaled_x=scale.transform(X)"
   ]
  },
  {
   "cell_type": "code",
   "execution_count": 63,
   "id": "7cd72dc9-d75b-4f23-a76c-71910388a8df",
   "metadata": {
    "id": "7cd72dc9-d75b-4f23-a76c-71910388a8df",
    "outputId": "5897ce99-be6f-4044-98a2-337b62f91646"
   },
   "outputs": [
    {
     "data": {
      "text/plain": [
       "array([[-0.76959845, -0.73784568, -1.11125833, ..., -0.66414105,\n",
       "        -1.36922671, -0.25224114],\n",
       "       [-1.49713327,  1.35529696, -1.04495044, ..., -0.66414105,\n",
       "         1.09188572,  1.00439176],\n",
       "       [ 0.99542688, -0.73784568, -1.09663011, ..., -0.66414105,\n",
       "        -1.36922671, -0.25224114],\n",
       "       ...,\n",
       "       [-0.48977736, -0.73784568, -0.71847034, ...,  0.79971862,\n",
       "        -0.1386705 , -0.25224114],\n",
       "       [-1.21946466,  1.35529696,  1.53975886, ..., -0.66414105,\n",
       "         1.09188572,  1.00439176],\n",
       "       [ 0.41426   , -0.73784568, -0.51956179, ...,  0.79971862,\n",
       "        -1.36922671, -0.25224114]])"
      ]
     },
     "execution_count": 63,
     "metadata": {},
     "output_type": "execute_result"
    }
   ],
   "source": [
    "scaled_x"
   ]
  },
  {
   "cell_type": "code",
   "execution_count": 64,
   "id": "a3416675-4e90-4d58-8a72-a5f13a17366b",
   "metadata": {
    "id": "a3416675-4e90-4d58-8a72-a5f13a17366b",
    "outputId": "501252ea-7322-4cba-d76a-522390df26dc"
   },
   "outputs": [
    {
     "data": {
      "text/plain": [
       "1"
      ]
     },
     "execution_count": 64,
     "metadata": {},
     "output_type": "execute_result"
    }
   ],
   "source": [
    "y.ndim"
   ]
  },
  {
   "cell_type": "code",
   "execution_count": 65,
   "id": "69a759a2-9cf3-4333-8c0d-e4466aed3c04",
   "metadata": {
    "id": "69a759a2-9cf3-4333-8c0d-e4466aed3c04"
   },
   "outputs": [],
   "source": [
    "scale_y=StandardScaler().fit(np.array(y).reshape((y.shape[0],1)))\n",
    "scaled_y=scale_y.transform(np.array(y).reshape((y.shape[0],1)))"
   ]
  },
  {
   "cell_type": "code",
   "execution_count": 66,
   "id": "23cf58d8-fb54-4de9-9b6b-4e3ba1f59fb0",
   "metadata": {
    "id": "23cf58d8-fb54-4de9-9b6b-4e3ba1f59fb0",
    "outputId": "c8e9bead-b3de-48b9-d71b-4afba92db474"
   },
   "outputs": [
    {
     "data": {
      "text/plain": [
       "2"
      ]
     },
     "execution_count": 66,
     "metadata": {},
     "output_type": "execute_result"
    }
   ],
   "source": [
    "scaled_y.ndim"
   ]
  },
  {
   "cell_type": "code",
   "execution_count": 67,
   "id": "f23cc23f-da67-4f2b-a10a-9f9c9d121202",
   "metadata": {
    "id": "f23cc23f-da67-4f2b-a10a-9f9c9d121202"
   },
   "outputs": [],
   "source": [
    "from sklearn.model_selection import train_test_split\n",
    "X_train,X_test,y_train,y_test = train_test_split(X,y,test_size=0.2,random_state=42)"
   ]
  },
  {
   "cell_type": "markdown",
   "id": "e459cc96-2c6d-4cb2-ba22-d2e7c8af1e1b",
   "metadata": {
    "id": "e459cc96-2c6d-4cb2-ba22-d2e7c8af1e1b"
   },
   "source": [
    "### Covariance Matrix Calculation"
   ]
  },
  {
   "cell_type": "code",
   "execution_count": 68,
   "id": "4bbc8b4e-1dde-4e9d-8c04-7553ff1ca9d7",
   "metadata": {
    "id": "4bbc8b4e-1dde-4e9d-8c04-7553ff1ca9d7",
    "outputId": "2b61a99a-9256-446f-eb43-ad6bfef4b67e"
   },
   "outputs": [
    {
     "data": {
      "text/plain": [
       "array([[ 0.12517456, -0.02448162, -0.02146404, -0.00525147, -0.01150657,\n",
       "        -0.00768239, -0.01554214, -0.01451349],\n",
       "       [-0.02448162,  0.13198641,  0.00085627, -0.05434437, -0.01579107,\n",
       "        -0.00284272, -0.01582337, -0.014948  ],\n",
       "       [-0.02146404,  0.00085627,  0.13566036, -0.02549909, -0.01828247,\n",
       "         0.03684193, -0.04174459, -0.07275848],\n",
       "       [-0.00525147, -0.05434437, -0.02549909,  0.13172237, -0.00768875,\n",
       "        -0.00416009, -0.01430456, -0.01244822],\n",
       "       [-0.01150657, -0.01579107, -0.01828247, -0.00768875,  0.12310048,\n",
       "        -0.0036997 , -0.01821973, -0.01712686],\n",
       "       [-0.00768239, -0.00284272,  0.03684193, -0.00416009, -0.0036997 ,\n",
       "         0.19943406, -0.16779083, -0.15238387],\n",
       "       [-0.01554214, -0.01582337, -0.04174459, -0.01430456, -0.01821973,\n",
       "        -0.16779083,  0.190446  ,  0.14628668],\n",
       "       [-0.01451349, -0.014948  , -0.07275848, -0.01244822, -0.01712686,\n",
       "        -0.15238387,  0.14628668,  0.18748809]])"
      ]
     },
     "execution_count": 68,
     "metadata": {},
     "output_type": "execute_result"
    }
   ],
   "source": [
    "def covariance(x):\n",
    "    return (x.T @ x)/(x.shape[0]-1)\n",
    "\n",
    "cov_mat=covariance(scaled_x)\n",
    "np.cov(cov_mat)"
   ]
  },
  {
   "cell_type": "code",
   "execution_count": 69,
   "id": "e442e4ec-f793-4781-a3ac-9f14844f213e",
   "metadata": {
    "id": "e442e4ec-f793-4781-a3ac-9f14844f213e"
   },
   "outputs": [],
   "source": [
    "from numpy.linalg import eig\n",
    "\n",
    "eig_vals,eig_vecs=eig(cov_mat)\n",
    "#max_abd_idx=np.argax(np.abs(eig_vecs),axis=0)\n",
    "#signs=np.sign(eig_vecs[max_abs_idx,range(eigs_vecs.shape[0])])\n",
    "#eigs_vecs=eig_vecs*signs[np.newaxis,:]\n",
    "#eig_vecs=eig_vecs.T"
   ]
  },
  {
   "cell_type": "markdown",
   "id": "77f37a00-c232-4a79-8050-1c63c838c953",
   "metadata": {
    "id": "77f37a00-c232-4a79-8050-1c63c838c953"
   },
   "source": [
    "### Eigenvalues and Eigenvectors Calculation\n"
   ]
  },
  {
   "cell_type": "code",
   "execution_count": 70,
   "id": "84764f63-7776-4152-b430-9fd517efd1da",
   "metadata": {
    "id": "84764f63-7776-4152-b430-9fd517efd1da",
    "outputId": "34620a49-e0cf-49a4-ab99-f6fbc329ab4d"
   },
   "outputs": [
    {
     "data": {
      "text/plain": [
       "[(1.9325523629544272,\n",
       "  array([ 0.0139135 ,  0.00112595, -0.02501809,  0.2739337 ,  0.01586449,\n",
       "          0.52511709,  0.73878395, -0.31990345])),\n",
       " (0.48322148300723156,\n",
       "  array([-0.01126311,  0.02135012,  0.01603691, -0.62958129, -0.69236501,\n",
       "          0.28521636, -0.04074041, -0.20102256])),\n",
       " (0.5899789355259057,\n",
       "  array([-0.18573753, -0.19450242, -0.13757062, -0.29564789,  0.06753529,\n",
       "          0.15313422,  0.35262966,  0.8179109 ])),\n",
       " (1.1750926070762757,\n",
       "  array([ 0.0127388 , -0.00920427,  0.00071781,  0.64169543, -0.69299257,\n",
       "         -0.04585591, -0.05171589,  0.3208792 ])),\n",
       " (0.8552099941396211,\n",
       "  array([ 6.97886694e-04, -4.20904806e-03, -1.56391688e-03,  1.45787080e-01,\n",
       "          1.85299572e-01,  7.84165424e-01, -5.58974184e-01,  1.30468373e-01])),\n",
       " (1.0169583662155268,\n",
       "  array([-0.55956208,  0.40208499, -0.71281414,  0.0466423 , -0.01514473,\n",
       "         -0.02710384, -0.05680775, -0.1036694 ])),\n",
       " (0.9723645610059,\n",
       "  array([ 0.57657612,  0.77157916, -0.06463458, -0.07705786,  0.02610825,\n",
       "          0.03589545,  0.08747831,  0.22910139])),\n",
       " (0.9755608776778425,\n",
       "  array([ 0.56521555, -0.45233012, -0.68403702, -0.00630294, -0.01823076,\n",
       "         -0.0203053 , -0.04673941, -0.07108605]))]"
      ]
     },
     "execution_count": 70,
     "metadata": {},
     "output_type": "execute_result"
    }
   ],
   "source": [
    "eig_pairs=[(np.abs(eig_vals[i]),eig_vecs[i,:]) for i in range(len(eig_vals))]\n",
    "eig_pairs\n"
   ]
  },
  {
   "cell_type": "code",
   "execution_count": 71,
   "id": "080fc1ab-c50b-4549-94a7-a076faa0e4d2",
   "metadata": {
    "id": "080fc1ab-c50b-4549-94a7-a076faa0e4d2",
    "outputId": "75aa962f-26e4-4ef7-ceb1-087e8504bb47"
   },
   "outputs": [
    {
     "data": {
      "text/plain": [
       "array([[ 1.00011740e+00, -2.68007276e-02, -1.74847572e-02,\n",
       "         3.57041477e-02,  2.59778010e-02, -1.24264385e-02,\n",
       "         2.93797451e-03,  5.37333639e-04],\n",
       "       [-2.68007276e-02,  1.00011740e+00,  4.95184198e-02,\n",
       "        -1.38948681e-01,  6.35885836e-03, -1.23610136e-03,\n",
       "        -1.63467701e-03,  1.91899188e-03],\n",
       "       [-1.74847572e-02,  4.95184198e-02,  1.00011740e+00,\n",
       "        -3.55618024e-02, -5.11517239e-03,  9.74186467e-02,\n",
       "        -2.75646566e-02, -1.79622924e-01],\n",
       "       [ 3.57041477e-02, -1.38948681e-01, -3.55618024e-02,\n",
       "         1.00011740e+00,  3.25296499e-02, -5.12220886e-05,\n",
       "         2.80081941e-03,  2.73334761e-03],\n",
       "       [ 2.59778010e-02,  6.35885836e-03, -5.11517239e-03,\n",
       "         3.25296499e-02,  1.00011740e+00,  7.42850190e-04,\n",
       "         4.42793631e-04, -1.49180131e-03],\n",
       "       [-1.24264385e-02, -1.23610136e-03,  9.74186467e-02,\n",
       "        -5.12220886e-05,  7.42850190e-04,  1.00011740e+00,\n",
       "        -4.79956515e-01, -4.01210425e-01],\n",
       "       [ 2.93797451e-03, -1.63467701e-03, -2.75646566e-02,\n",
       "         2.80081941e-03,  4.42793631e-04, -4.79956515e-01,\n",
       "         1.00011740e+00,  4.66793955e-01],\n",
       "       [ 5.37333639e-04,  1.91899188e-03, -1.79622924e-01,\n",
       "         2.73334761e-03, -1.49180131e-03, -4.01210425e-01,\n",
       "         4.66793955e-01,  1.00011740e+00]])"
      ]
     },
     "execution_count": 71,
     "metadata": {},
     "output_type": "execute_result"
    }
   ],
   "source": [
    "cov_mat"
   ]
  },
  {
   "cell_type": "code",
   "execution_count": 72,
   "id": "70404a22-b82a-4739-b612-b0240b03c727",
   "metadata": {
    "id": "70404a22-b82a-4739-b612-b0240b03c727",
    "outputId": "b620f1ed-06a4-4eb6-e9ea-63c7bee1e538"
   },
   "outputs": [
    {
     "data": {
      "text/plain": [
       "(8,)"
      ]
     },
     "execution_count": 72,
     "metadata": {},
     "output_type": "execute_result"
    }
   ],
   "source": [
    "eig_vals.shape"
   ]
  },
  {
   "cell_type": "code",
   "execution_count": 73,
   "id": "5e4f6d7a-827b-4f3d-8b28-9afe06a9ffac",
   "metadata": {
    "id": "5e4f6d7a-827b-4f3d-8b28-9afe06a9ffac",
    "outputId": "b0ec35fc-df6c-42c0-9c8b-8b1508d87bd0"
   },
   "outputs": [
    {
     "data": {
      "text/plain": [
       "(8, 8)"
      ]
     },
     "execution_count": 73,
     "metadata": {},
     "output_type": "execute_result"
    }
   ],
   "source": [
    "eig_vecs.shape"
   ]
  },
  {
   "cell_type": "code",
   "execution_count": 74,
   "id": "af162c18-fc41-4214-8588-0a15b92ee6cf",
   "metadata": {
    "id": "af162c18-fc41-4214-8588-0a15b92ee6cf"
   },
   "outputs": [],
   "source": [
    "eig_pairs.sort(reverse=True)"
   ]
  },
  {
   "cell_type": "code",
   "execution_count": 75,
   "id": "f84240d8-b75f-4a5a-a245-660704828586",
   "metadata": {
    "id": "f84240d8-b75f-4a5a-a245-660704828586",
    "outputId": "5428efd3-c607-475e-9e29-e736d8bd978c"
   },
   "outputs": [
    {
     "data": {
      "text/plain": [
       "1.9325523629544272"
      ]
     },
     "execution_count": 75,
     "metadata": {},
     "output_type": "execute_result"
    }
   ],
   "source": [
    "eig_pairs[0][0]"
   ]
  },
  {
   "cell_type": "code",
   "execution_count": 76,
   "id": "95c1bf5b-7174-4ccd-a136-415c6466e8b1",
   "metadata": {
    "id": "95c1bf5b-7174-4ccd-a136-415c6466e8b1",
    "outputId": "ac9aebe6-3dc3-42c2-b189-7ac3781925b4"
   },
   "outputs": [
    {
     "data": {
      "text/plain": [
       "[array([ 0.0139135 ,  0.00112595, -0.02501809,  0.2739337 ,  0.01586449,\n",
       "         0.52511709,  0.73878395, -0.31990345]),\n",
       " array([ 0.0127388 , -0.00920427,  0.00071781,  0.64169543, -0.69299257,\n",
       "        -0.04585591, -0.05171589,  0.3208792 ]),\n",
       " array([-0.55956208,  0.40208499, -0.71281414,  0.0466423 , -0.01514473,\n",
       "        -0.02710384, -0.05680775, -0.1036694 ]),\n",
       " array([ 0.56521555, -0.45233012, -0.68403702, -0.00630294, -0.01823076,\n",
       "        -0.0203053 , -0.04673941, -0.07108605]),\n",
       " array([ 0.57657612,  0.77157916, -0.06463458, -0.07705786,  0.02610825,\n",
       "         0.03589545,  0.08747831,  0.22910139]),\n",
       " array([ 6.97886694e-04, -4.20904806e-03, -1.56391688e-03,  1.45787080e-01,\n",
       "         1.85299572e-01,  7.84165424e-01, -5.58974184e-01,  1.30468373e-01]),\n",
       " array([-0.18573753, -0.19450242, -0.13757062, -0.29564789,  0.06753529,\n",
       "         0.15313422,  0.35262966,  0.8179109 ]),\n",
       " array([-0.01126311,  0.02135012,  0.01603691, -0.62958129, -0.69236501,\n",
       "         0.28521636, -0.04074041, -0.20102256])]"
      ]
     },
     "execution_count": 76,
     "metadata": {},
     "output_type": "execute_result"
    }
   ],
   "source": [
    "[x[1] for x in eig_pairs]"
   ]
  },
  {
   "cell_type": "markdown",
   "id": "657cfa25-9328-4e9f-bf02-09faa2237557",
   "metadata": {
    "id": "657cfa25-9328-4e9f-bf02-09faa2237557"
   },
   "source": [
    "### Sorting Eigenvalues and Selecting Top k Eigenvectors\n"
   ]
  },
  {
   "cell_type": "code",
   "execution_count": 77,
   "id": "311158f9-a019-411e-95c3-2f2e1c88b463",
   "metadata": {
    "id": "311158f9-a019-411e-95c3-2f2e1c88b463"
   },
   "outputs": [],
   "source": [
    "sorted_eig_values=np.array([x[0] for x in eig_pairs])\n",
    "sorted_eig_vectors=np.array([x[1] for x in eig_pairs])"
   ]
  },
  {
   "cell_type": "code",
   "execution_count": 78,
   "id": "533cd3ae-d613-4943-a0f8-84e402827a4a",
   "metadata": {
    "id": "533cd3ae-d613-4943-a0f8-84e402827a4a"
   },
   "outputs": [],
   "source": [
    "#select top k eigen vectors\n",
    "k=2 #components u want to retain\n",
    "w=sorted_eig_vectors[:k,:]"
   ]
  },
  {
   "cell_type": "code",
   "execution_count": 79,
   "id": "14a66038-a39d-4e0a-93a2-e421fde50afd",
   "metadata": {
    "id": "14a66038-a39d-4e0a-93a2-e421fde50afd",
    "outputId": "cb67cac8-0465-4f6a-b7db-0a17745fc4fb"
   },
   "outputs": [
    {
     "data": {
      "text/plain": [
       "8.00093918760273"
      ]
     },
     "execution_count": 79,
     "metadata": {},
     "output_type": "execute_result"
    }
   ],
   "source": [
    "total_eig_val=sum(sorted_eig_values)\n",
    "total_eig_val"
   ]
  },
  {
   "cell_type": "markdown",
   "id": "eec3b678-2c1d-47f3-a889-4573e9389cdf",
   "metadata": {
    "id": "eec3b678-2c1d-47f3-a889-4573e9389cdf"
   },
   "source": [
    "# The explained variance for each eigenvalue is calculated as the proportion of the"
   ]
  },
  {
   "cell_type": "code",
   "execution_count": 80,
   "id": "aef27057-6abc-4051-a03b-33a4db7a5c31",
   "metadata": {
    "id": "aef27057-6abc-4051-a03b-33a4db7a5c31",
    "outputId": "0649f123-c052-472d-f765-084a8c9fc6f6"
   },
   "outputs": [
    {
     "name": "stdout",
     "output_type": "stream",
     "text": [
      "Explained variance: [24.15 14.69 12.71 12.19 12.15 10.69  7.37  6.04]\n",
      "Cumulative explained variance: [24.15 38.84 51.55 63.74 75.89 86.58 93.95 99.99]\n"
     ]
    }
   ],
   "source": [
    "explained_variance=[(i/total_eig_val)*100 for i in sorted_eig_values]\n",
    "explained_variance=np.round(explained_variance,2)\n",
    "cum_explained_variance=np.cumsum(explained_variance)\n",
    "\n",
    "print(\"Explained variance: {}\".format(explained_variance))\n",
    "print(\"Cumulative explained variance: {}\".format(cum_explained_variance))"
   ]
  },
  {
   "cell_type": "code",
   "execution_count": 81,
   "id": "4ca89201-5dbd-4836-817b-7f13f1a8bf83",
   "metadata": {
    "id": "4ca89201-5dbd-4836-817b-7f13f1a8bf83",
    "outputId": "2a233f9f-e8b0-44a0-88bf-990cb29c2b37"
   },
   "outputs": [
    {
     "data": {
      "image/png": "[encoded data removed]",
      "text/plain": [
       "<Figure size 640x480 with 1 Axes>"
      ]
     },
     "metadata": {},
     "output_type": "display_data"
    }
   ],
   "source": [
    "n_sample,n_features=scaled_x.shape\n",
    "import matplotlib.pyplot as plt\n",
    "plt.plot(np.arange(1,n_features+1),cum_explained_variance, '-o')\n",
    "plt.xticks(np.arange(1,n_features+1))\n",
    "plt.xlabel('Number of components')\n",
    "plt.ylabel('Cumulative explained variance');\n",
    "plt.show()"
   ]
  },
  {
   "cell_type": "markdown",
   "id": "d5692479-dbad-4c6a-a8ee-8945301baecf",
   "metadata": {
    "id": "d5692479-dbad-4c6a-a8ee-8945301baecf"
   },
   "source": [
    "### PCA with Scikit-learn and Dimensionality Reduction\n"
   ]
  },
  {
   "cell_type": "code",
   "execution_count": 82,
   "id": "257d9acb-ee51-4858-aa08-b070ea4915c9",
   "metadata": {
    "id": "257d9acb-ee51-4858-aa08-b070ea4915c9",
    "outputId": "47a17cef-9906-4410-dbca-a0c5a33f667a"
   },
   "outputs": [
    {
     "name": "stdout",
     "output_type": "stream",
     "text": [
      "Components: \n",
      "  [[-0.0139135   0.01126311  0.18573753 -0.0127388  -0.00069789  0.55956208\n",
      "  -0.57657612 -0.56521555]\n",
      " [-0.2739337   0.62958129  0.29564789 -0.64169543 -0.14578708 -0.0466423\n",
      "   0.07705786  0.00630294]]\n",
      "Explained variance ratio: \n",
      ", [0.24154069 0.14686933]\n",
      "Cumulative explained variance: \n",
      " [0.24154069 0.38841002]\n",
      "Transformed data shape: (8519, 2)\n"
     ]
    },
    {
     "data": {
      "image/png": "[encoded data removed]",
      "text/plain": [
       "<Figure size 640x480 with 1 Axes>"
      ]
     },
     "metadata": {},
     "output_type": "display_data"
    }
   ],
   "source": [
    "#from skLearn.preprocessing import StandardScaler\n",
    "#x_std=StandardScaler().fit_trnasfrom(X)\n",
    "\n",
    "from sklearn.decomposition import PCA\n",
    "pca=PCA(n_components=2).fit(scaled_x)\n",
    "\n",
    "print(\"Components: \\n \",pca.components_)\n",
    "print('Explained variance ratio: \\n,',pca.explained_variance_ratio_)\n",
    "\n",
    "cum_explained_variance=np.cumsum(pca.explained_variance_ratio_)\n",
    "print('Cumulative explained variance: \\n',cum_explained_variance)\n",
    "\n",
    "X_pca=pca.transform(scaled_x) #Apply dimensionality reduction to X\n",
    "print('Transformed data shape:',X_pca.shape)\n",
    "\n",
    "plt.scatter(X_pca[:,0],X_pca[:,1],c=y)\n",
    "plt.xlabel('PC1');plt.xticks([])\n",
    "plt.ylabel('PC2');plt.yticks([])\n",
    "plt.title('2 components,captures {}% of total variation'.format(cum_explained_variance[1].round(4)*100))\n",
    "plt.show()"
   ]
  }
 ],
 "metadata": {
  "colab": {
   "provenance": []
  },
  "kernelspec": {
   "display_name": "Python 3 (ipykernel)",
   "language": "python",
   "name": "python3"
  },
  "language_info": {
   "codemirror_mode": {
    "name": "ipython",
    "version": 3
   },
   "file_extension": ".py",
   "mimetype": "text/x-python",
   "name": "python",
   "nbconvert_exporter": "python",
   "pygments_lexer": "ipython3",
   "version": "3.12.4"
  }
 },
 "nbformat": 4,
 "nbformat_minor": 5
}
