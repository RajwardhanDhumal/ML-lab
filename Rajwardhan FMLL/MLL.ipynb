{
 "cells": [
  {
   "cell_type": "code",
   "execution_count": 20,
   "id": "ff3d6061-3882-4c21-86d3-0eaa62031903",
   "metadata": {},
   "outputs": [],
   "source": [
    "import numpy as np"
   ]
  },
  {
   "cell_type": "code",
   "execution_count": 22,
   "id": "c81cf347-0a77-4211-9cb9-375fb0aabb29",
   "metadata": {},
   "outputs": [],
   "source": [
    "import matplotlib.pyplot as plt\n",
    "import pandas as pd"
   ]
  },
  {
   "cell_type": "code",
   "execution_count": 24,
   "id": "d87d1b47-dd8f-4f6c-9a7c-07e202c0035f",
   "metadata": {},
   "outputs": [],
   "source": [
    "df = pd.read_csv('vg_data_dictionary.csv')"
   ]
  },
  {
   "cell_type": "code",
   "execution_count": 26,
   "id": "eb1e5ac5-4439-4173-8504-88c6c1a162b7",
   "metadata": {},
   "outputs": [
    {
     "data": {
      "text/html": [
       "<div>\n",
       "<style scoped>\n",
       "    .dataframe tbody tr th:only-of-type {\n",
       "        vertical-align: middle;\n",
       "    }\n",
       "\n",
       "    .dataframe tbody tr th {\n",
       "        vertical-align: top;\n",
       "    }\n",
       "\n",
       "    .dataframe thead th {\n",
       "        text-align: right;\n",
       "    }\n",
       "</style>\n",
       "<table border=\"1\" class=\"dataframe\">\n",
       "  <thead>\n",
       "    <tr style=\"text-align: right;\">\n",
       "      <th></th>\n",
       "      <th>Field</th>\n",
       "      <th>Description</th>\n",
       "    </tr>\n",
       "  </thead>\n",
       "  <tbody>\n",
       "    <tr>\n",
       "      <th>0</th>\n",
       "      <td>img</td>\n",
       "      <td>URL slug for the box art at vgchartz.com</td>\n",
       "    </tr>\n",
       "    <tr>\n",
       "      <th>1</th>\n",
       "      <td>title</td>\n",
       "      <td>Game title</td>\n",
       "    </tr>\n",
       "    <tr>\n",
       "      <th>2</th>\n",
       "      <td>console</td>\n",
       "      <td>Console the game was released for</td>\n",
       "    </tr>\n",
       "    <tr>\n",
       "      <th>3</th>\n",
       "      <td>genre</td>\n",
       "      <td>Genre of the game</td>\n",
       "    </tr>\n",
       "    <tr>\n",
       "      <th>4</th>\n",
       "      <td>publisher</td>\n",
       "      <td>Publisher of the game</td>\n",
       "    </tr>\n",
       "    <tr>\n",
       "      <th>5</th>\n",
       "      <td>developer</td>\n",
       "      <td>Developer of the game</td>\n",
       "    </tr>\n",
       "    <tr>\n",
       "      <th>6</th>\n",
       "      <td>critic_score</td>\n",
       "      <td>Metacritic score (out of 10)</td>\n",
       "    </tr>\n",
       "    <tr>\n",
       "      <th>7</th>\n",
       "      <td>total_sales</td>\n",
       "      <td>Global sales of copies in millions</td>\n",
       "    </tr>\n",
       "    <tr>\n",
       "      <th>8</th>\n",
       "      <td>na_sales</td>\n",
       "      <td>North American sales of copies in millions</td>\n",
       "    </tr>\n",
       "    <tr>\n",
       "      <th>9</th>\n",
       "      <td>jp_sales</td>\n",
       "      <td>Japanese sales of copies in millions</td>\n",
       "    </tr>\n",
       "    <tr>\n",
       "      <th>10</th>\n",
       "      <td>pal_sales</td>\n",
       "      <td>European &amp; African sales of copies in millions</td>\n",
       "    </tr>\n",
       "    <tr>\n",
       "      <th>11</th>\n",
       "      <td>other_sales</td>\n",
       "      <td>Rest of world sales of copies in millions</td>\n",
       "    </tr>\n",
       "    <tr>\n",
       "      <th>12</th>\n",
       "      <td>release_date</td>\n",
       "      <td>Date the game was released on</td>\n",
       "    </tr>\n",
       "    <tr>\n",
       "      <th>13</th>\n",
       "      <td>last_update</td>\n",
       "      <td>Date the data was last updated</td>\n",
       "    </tr>\n",
       "  </tbody>\n",
       "</table>\n",
       "</div>"
      ],
      "text/plain": [
       "           Field                                     Description\n",
       "0            img        URL slug for the box art at vgchartz.com\n",
       "1          title                                      Game title\n",
       "2        console               Console the game was released for\n",
       "3          genre                               Genre of the game\n",
       "4      publisher                           Publisher of the game\n",
       "5      developer                           Developer of the game\n",
       "6   critic_score                    Metacritic score (out of 10)\n",
       "7    total_sales              Global sales of copies in millions\n",
       "8       na_sales      North American sales of copies in millions\n",
       "9       jp_sales            Japanese sales of copies in millions\n",
       "10     pal_sales  European & African sales of copies in millions\n",
       "11   other_sales       Rest of world sales of copies in millions\n",
       "12  release_date                   Date the game was released on\n",
       "13   last_update                  Date the data was last updated"
      ]
     },
     "execution_count": 26,
     "metadata": {},
     "output_type": "execute_result"
    }
   ],
   "source": [
    "df"
   ]
  },
  {
   "cell_type": "code",
   "execution_count": 77,
   "id": "8ebfc32c-21ca-4da7-a5dd-9d1e2c8c02bb",
   "metadata": {},
   "outputs": [],
   "source": [
    "a= np.array([[1,2,3,4],\n",
    "             [2,4,5,6],\n",
    "             [5,8,9,7]]) #array create"
   ]
  },
  {
   "cell_type": "code",
   "execution_count": 79,
   "id": "ca8229b2-eaa9-4e26-816f-c6f5d6a15f87",
   "metadata": {},
   "outputs": [
    {
     "data": {
      "text/plain": [
       "array([[1, 2, 3, 4],\n",
       "       [2, 4, 5, 6],\n",
       "       [5, 8, 9, 7]])"
      ]
     },
     "execution_count": 79,
     "metadata": {},
     "output_type": "execute_result"
    }
   ],
   "source": [
    "a"
   ]
  },
  {
   "cell_type": "code",
   "execution_count": 81,
   "id": "cadf5182-11d3-408d-9d7d-e76695ed67e1",
   "metadata": {},
   "outputs": [
    {
     "data": {
      "text/plain": [
       "numpy.ndarray"
      ]
     },
     "execution_count": 81,
     "metadata": {},
     "output_type": "execute_result"
    }
   ],
   "source": [
    "type(a)"
   ]
  },
  {
   "cell_type": "code",
   "execution_count": 83,
   "id": "8988c5cc-37ea-4820-b35c-fa59f5045334",
   "metadata": {},
   "outputs": [
    {
     "data": {
      "text/plain": [
       "dtype('int32')"
      ]
     },
     "execution_count": 83,
     "metadata": {},
     "output_type": "execute_result"
    }
   ],
   "source": [
    "a.dtype"
   ]
  },
  {
   "cell_type": "code",
   "execution_count": 85,
   "id": "e2cb0657-c962-44d5-98db-3d82d7c5929c",
   "metadata": {},
   "outputs": [
    {
     "data": {
      "text/plain": [
       "(3, 4)"
      ]
     },
     "execution_count": 85,
     "metadata": {},
     "output_type": "execute_result"
    }
   ],
   "source": [
    "a.shape #"
   ]
  },
  {
   "cell_type": "code",
   "execution_count": 87,
   "id": "c1b58824-7b87-4075-a021-e5c755a2c7c5",
   "metadata": {},
   "outputs": [
    {
     "data": {
      "text/plain": [
       "2"
      ]
     },
     "execution_count": 87,
     "metadata": {},
     "output_type": "execute_result"
    }
   ],
   "source": [
    "a.ndim #dimensions"
   ]
  },
  {
   "cell_type": "code",
   "execution_count": 90,
   "id": "ca4b9b82-eca0-489b-880e-661d170281d5",
   "metadata": {},
   "outputs": [],
   "source": [
    "a2= np.array([[1,2,3,4],\n",
    "              [2,3,5,6],\n",
    "              [5,8,5,7]], dtype='int')"
   ]
  },
  {
   "cell_type": "code",
   "execution_count": 92,
   "id": "04ad242e-ffe3-4682-9f27-a3caa7be2e05",
   "metadata": {},
   "outputs": [
    {
     "data": {
      "text/plain": [
       "array([[1, 2, 3, 4],\n",
       "       [2, 3, 5, 6],\n",
       "       [5, 8, 5, 7]])"
      ]
     },
     "execution_count": 92,
     "metadata": {},
     "output_type": "execute_result"
    }
   ],
   "source": [
    "a2"
   ]
  },
  {
   "cell_type": "code",
   "execution_count": 94,
   "id": "9d579660-6d08-4be3-bccd-e2da0a5c4c4c",
   "metadata": {},
   "outputs": [
    {
     "data": {
      "text/plain": [
       "dtype('int32')"
      ]
     },
     "execution_count": 94,
     "metadata": {},
     "output_type": "execute_result"
    }
   ],
   "source": [
    "a.dtype"
   ]
  },
  {
   "cell_type": "code",
   "execution_count": 96,
   "id": "47b2a887-e3ac-4ec5-a655-f710b6c5a5a6",
   "metadata": {},
   "outputs": [
    {
     "data": {
      "text/plain": [
       "(3, 4)"
      ]
     },
     "execution_count": 96,
     "metadata": {},
     "output_type": "execute_result"
    }
   ],
   "source": [
    "a2.shape"
   ]
  },
  {
   "cell_type": "code",
   "execution_count": 98,
   "id": "37e51747-4795-4a66-bbae-ba00bd864853",
   "metadata": {},
   "outputs": [
    {
     "data": {
      "text/plain": [
       "12"
      ]
     },
     "execution_count": 98,
     "metadata": {},
     "output_type": "execute_result"
    }
   ],
   "source": [
    "a2.size"
   ]
  },
  {
   "cell_type": "code",
   "execution_count": 115,
   "id": "6e73dbbb-be44-4122-8002-0aaa53d4fb29",
   "metadata": {},
   "outputs": [],
   "source": [
    "w=np.array([[1,2,2],\n",
    "   [3,6,5]])"
   ]
  },
  {
   "cell_type": "code",
   "execution_count": 121,
   "id": "19c82e02-ad40-4eda-b844-3a94cbe8bd62",
   "metadata": {},
   "outputs": [
    {
     "data": {
      "text/plain": [
       "(2, 3)"
      ]
     },
     "execution_count": 121,
     "metadata": {},
     "output_type": "execute_result"
    }
   ],
   "source": [
    "w.shape\n",
    "\n"
   ]
  },
  {
   "cell_type": "code",
   "execution_count": 123,
   "id": "fea23dc1-1975-43e0-a7e5-82de8730dcfd",
   "metadata": {},
   "outputs": [
    {
     "data": {
      "text/plain": [
       "6"
      ]
     },
     "execution_count": 123,
     "metadata": {},
     "output_type": "execute_result"
    }
   ],
   "source": [
    "w.size"
   ]
  },
  {
   "cell_type": "code",
   "execution_count": 125,
   "id": "255e1f85-e56f-45b7-aaee-6aa355deff21",
   "metadata": {},
   "outputs": [
    {
     "data": {
      "text/plain": [
       "dtype('int32')"
      ]
     },
     "execution_count": 125,
     "metadata": {},
     "output_type": "execute_result"
    }
   ],
   "source": [
    "w.dtype"
   ]
  },
  {
   "cell_type": "code",
   "execution_count": 145,
   "id": "70a8e349-7161-484a-9f55-ee6f2a75b913",
   "metadata": {},
   "outputs": [],
   "source": [
    "a3 = np.array([[[ 1,  2,  3],\n",
    "        [ 2,  3,  4],\n",
    "        [ 3,  4,  5]],\n",
    "\n",
    "       [[ 4,  5,  6],\n",
    "        [ 5,  6,  7],\n",
    "        [ 6,  7,  8]],\n",
    "\n",
    "       [[ 7,  8,  9],\n",
    "        [ 8,  9, 10],\n",
    "        [ 9, 10, 11]]])"
   ]
  },
  {
   "cell_type": "code",
   "execution_count": 147,
   "id": "88def265-d67a-4195-88fe-0f182d4a06b1",
   "metadata": {},
   "outputs": [
    {
     "data": {
      "text/plain": [
       "(3, 3, 3)"
      ]
     },
     "execution_count": 147,
     "metadata": {},
     "output_type": "execute_result"
    }
   ],
   "source": [
    "a3.shape"
   ]
  },
  {
   "cell_type": "code",
   "execution_count": 149,
   "id": "304f514f-7e40-4841-b842-62dbfed6b3a7",
   "metadata": {},
   "outputs": [
    {
     "data": {
      "text/plain": [
       "array([[[ 1,  2,  3],\n",
       "        [ 2,  3,  4],\n",
       "        [ 3,  4,  5]],\n",
       "\n",
       "       [[ 4,  5,  6],\n",
       "        [ 5,  6,  7],\n",
       "        [ 6,  7,  8]],\n",
       "\n",
       "       [[ 7,  8,  9],\n",
       "        [ 8,  9, 10],\n",
       "        [ 9, 10, 11]]])"
      ]
     },
     "execution_count": 149,
     "metadata": {},
     "output_type": "execute_result"
    }
   ],
   "source": [
    "a3"
   ]
  },
  {
   "cell_type": "code",
   "execution_count": 162,
   "id": "65a2bd50-13c5-4703-8f95-5575990eb11f",
   "metadata": {},
   "outputs": [],
   "source": [
    "a4 = np.array([[[1,2],\n",
    "                [2,3]],\n",
    "                [[2,4],\n",
    "                 [6,8]],\n",
    "                [[4,7],\n",
    "                 [5,8]],\n",
    "                [[3,4],\n",
    "                [4,5]]])"
   ]
  },
  {
   "cell_type": "code",
   "execution_count": 164,
   "id": "b124f687-ba47-4cf4-bb2b-be63761e1d3d",
   "metadata": {},
   "outputs": [
    {
     "data": {
      "text/plain": [
       "(4, 2, 2)"
      ]
     },
     "execution_count": 164,
     "metadata": {},
     "output_type": "execute_result"
    }
   ],
   "source": [
    "a4.shape"
   ]
  },
  {
   "cell_type": "code",
   "execution_count": 173,
   "id": "e609a244-5c9b-4967-9f73-9c25b49cfe60",
   "metadata": {},
   "outputs": [
    {
     "data": {
      "text/plain": [
       "array([[[1., 1., 1., 1., 1., 1., 1., 1., 1., 1.],\n",
       "        [1., 1., 1., 1., 1., 1., 1., 1., 1., 1.],\n",
       "        [1., 1., 1., 1., 1., 1., 1., 1., 1., 1.],\n",
       "        [1., 1., 1., 1., 1., 1., 1., 1., 1., 1.],\n",
       "        [1., 1., 1., 1., 1., 1., 1., 1., 1., 1.],\n",
       "        [1., 1., 1., 1., 1., 1., 1., 1., 1., 1.],\n",
       "        [1., 1., 1., 1., 1., 1., 1., 1., 1., 1.],\n",
       "        [1., 1., 1., 1., 1., 1., 1., 1., 1., 1.],\n",
       "        [1., 1., 1., 1., 1., 1., 1., 1., 1., 1.],\n",
       "        [1., 1., 1., 1., 1., 1., 1., 1., 1., 1.]],\n",
       "\n",
       "       [[1., 1., 1., 1., 1., 1., 1., 1., 1., 1.],\n",
       "        [1., 1., 1., 1., 1., 1., 1., 1., 1., 1.],\n",
       "        [1., 1., 1., 1., 1., 1., 1., 1., 1., 1.],\n",
       "        [1., 1., 1., 1., 1., 1., 1., 1., 1., 1.],\n",
       "        [1., 1., 1., 1., 1., 1., 1., 1., 1., 1.],\n",
       "        [1., 1., 1., 1., 1., 1., 1., 1., 1., 1.],\n",
       "        [1., 1., 1., 1., 1., 1., 1., 1., 1., 1.],\n",
       "        [1., 1., 1., 1., 1., 1., 1., 1., 1., 1.],\n",
       "        [1., 1., 1., 1., 1., 1., 1., 1., 1., 1.],\n",
       "        [1., 1., 1., 1., 1., 1., 1., 1., 1., 1.]],\n",
       "\n",
       "       [[1., 1., 1., 1., 1., 1., 1., 1., 1., 1.],\n",
       "        [1., 1., 1., 1., 1., 1., 1., 1., 1., 1.],\n",
       "        [1., 1., 1., 1., 1., 1., 1., 1., 1., 1.],\n",
       "        [1., 1., 1., 1., 1., 1., 1., 1., 1., 1.],\n",
       "        [1., 1., 1., 1., 1., 1., 1., 1., 1., 1.],\n",
       "        [1., 1., 1., 1., 1., 1., 1., 1., 1., 1.],\n",
       "        [1., 1., 1., 1., 1., 1., 1., 1., 1., 1.],\n",
       "        [1., 1., 1., 1., 1., 1., 1., 1., 1., 1.],\n",
       "        [1., 1., 1., 1., 1., 1., 1., 1., 1., 1.],\n",
       "        [1., 1., 1., 1., 1., 1., 1., 1., 1., 1.]],\n",
       "\n",
       "       [[1., 1., 1., 1., 1., 1., 1., 1., 1., 1.],\n",
       "        [1., 1., 1., 1., 1., 1., 1., 1., 1., 1.],\n",
       "        [1., 1., 1., 1., 1., 1., 1., 1., 1., 1.],\n",
       "        [1., 1., 1., 1., 1., 1., 1., 1., 1., 1.],\n",
       "        [1., 1., 1., 1., 1., 1., 1., 1., 1., 1.],\n",
       "        [1., 1., 1., 1., 1., 1., 1., 1., 1., 1.],\n",
       "        [1., 1., 1., 1., 1., 1., 1., 1., 1., 1.],\n",
       "        [1., 1., 1., 1., 1., 1., 1., 1., 1., 1.],\n",
       "        [1., 1., 1., 1., 1., 1., 1., 1., 1., 1.],\n",
       "        [1., 1., 1., 1., 1., 1., 1., 1., 1., 1.]],\n",
       "\n",
       "       [[1., 1., 1., 1., 1., 1., 1., 1., 1., 1.],\n",
       "        [1., 1., 1., 1., 1., 1., 1., 1., 1., 1.],\n",
       "        [1., 1., 1., 1., 1., 1., 1., 1., 1., 1.],\n",
       "        [1., 1., 1., 1., 1., 1., 1., 1., 1., 1.],\n",
       "        [1., 1., 1., 1., 1., 1., 1., 1., 1., 1.],\n",
       "        [1., 1., 1., 1., 1., 1., 1., 1., 1., 1.],\n",
       "        [1., 1., 1., 1., 1., 1., 1., 1., 1., 1.],\n",
       "        [1., 1., 1., 1., 1., 1., 1., 1., 1., 1.],\n",
       "        [1., 1., 1., 1., 1., 1., 1., 1., 1., 1.],\n",
       "        [1., 1., 1., 1., 1., 1., 1., 1., 1., 1.]],\n",
       "\n",
       "       [[1., 1., 1., 1., 1., 1., 1., 1., 1., 1.],\n",
       "        [1., 1., 1., 1., 1., 1., 1., 1., 1., 1.],\n",
       "        [1., 1., 1., 1., 1., 1., 1., 1., 1., 1.],\n",
       "        [1., 1., 1., 1., 1., 1., 1., 1., 1., 1.],\n",
       "        [1., 1., 1., 1., 1., 1., 1., 1., 1., 1.],\n",
       "        [1., 1., 1., 1., 1., 1., 1., 1., 1., 1.],\n",
       "        [1., 1., 1., 1., 1., 1., 1., 1., 1., 1.],\n",
       "        [1., 1., 1., 1., 1., 1., 1., 1., 1., 1.],\n",
       "        [1., 1., 1., 1., 1., 1., 1., 1., 1., 1.],\n",
       "        [1., 1., 1., 1., 1., 1., 1., 1., 1., 1.]]])"
      ]
     },
     "execution_count": 173,
     "metadata": {},
     "output_type": "execute_result"
    }
   ],
   "source": [
    "#3,28,28 ones is used for making large martix(np.'1or0')\n",
    "np.ones((6,10,10))"
   ]
  },
  {
   "cell_type": "code",
   "execution_count": 175,
   "id": "a781d126-b1e9-48dd-a902-07bdc058dd9f",
   "metadata": {},
   "outputs": [
    {
     "data": {
      "text/plain": [
       "array([[-3, -3, -3],\n",
       "       [-3, -3, -3]])"
      ]
     },
     "execution_count": 175,
     "metadata": {},
     "output_type": "execute_result"
    }
   ],
   "source": [
    "np.full(shape = (2,3), fill_value = -3)"
   ]
  },
  {
   "cell_type": "code",
   "execution_count": 177,
   "id": "8dcc8402-5a8b-44d6-948b-8100a687597a",
   "metadata": {},
   "outputs": [
    {
     "data": {
      "text/plain": [
       "array([[1., 0., 0.],\n",
       "       [0., 1., 0.],\n",
       "       [0., 0., 1.]])"
      ]
     },
     "execution_count": 177,
     "metadata": {},
     "output_type": "execute_result"
    }
   ],
   "source": [
    "np.identity(3)"
   ]
  },
  {
   "cell_type": "code",
   "execution_count": 181,
   "id": "9d1f9da1-c559-447a-9562-f3373954fd71",
   "metadata": {},
   "outputs": [
    {
     "data": {
      "text/plain": [
       "array([[[7, 9, 4],\n",
       "        [6, 2, 5]],\n",
       "\n",
       "       [[2, 7, 1],\n",
       "        [8, 3, 6]],\n",
       "\n",
       "       [[7, 1, 9],\n",
       "        [9, 8, 7]],\n",
       "\n",
       "       [[5, 8, 1],\n",
       "        [8, 1, 6]]])"
      ]
     },
     "execution_count": 181,
     "metadata": {},
     "output_type": "execute_result"
    }
   ],
   "source": [
    "#1,10 are the range of the array!\n",
    "np.random.randint(1,10,size = (4,2,3))"
   ]
  },
  {
   "cell_type": "code",
   "execution_count": 185,
   "id": "2eb99dad-0c3e-455e-9051-65991be44267",
   "metadata": {},
   "outputs": [
    {
     "data": {
      "text/plain": [
       "array([[[0.71513969, 0.89049032],\n",
       "        [0.33315744, 0.92507337],\n",
       "        [0.41985078, 0.71173904]],\n",
       "\n",
       "       [[0.48055362, 0.45934695],\n",
       "        [0.76138614, 0.43877432],\n",
       "        [0.26705043, 0.90603551]],\n",
       "\n",
       "       [[0.60761679, 0.08253092],\n",
       "        [0.85517433, 0.25137364],\n",
       "        [0.15960441, 0.60905338]],\n",
       "\n",
       "       [[0.98081027, 0.06815568],\n",
       "        [0.40423382, 0.71190402],\n",
       "        [0.28449376, 0.37069402]],\n",
       "\n",
       "       [[0.9035781 , 0.90439793],\n",
       "        [0.65009856, 0.02526603],\n",
       "        [0.34541828, 0.85617391]]])"
      ]
     },
     "execution_count": 185,
     "metadata": {},
     "output_type": "execute_result"
    }
   ],
   "source": [
    "#rand values are between 0 and 1 \n",
    "np.random.rand(5,3,2)"
   ]
  },
  {
   "cell_type": "code",
   "execution_count": 316,
   "id": "0b47ade3-2d21-474d-9759-36c770d38f3e",
   "metadata": {},
   "outputs": [
    {
     "data": {
      "text/plain": [
       "array([ 1.47773081, -1.31593621,  0.58351335,  0.48563249,  0.341551  ])"
      ]
     },
     "execution_count": 316,
     "metadata": {},
     "output_type": "execute_result"
    }
   ],
   "source": [
    "np.random.seed(112)\n",
    "dn1 = np.random.randn(5,)\n",
    "dn1"
   ]
  },
  {
   "cell_type": "code",
   "execution_count": 318,
   "id": "92620b97-a6ee-4ddc-ae12-510305058a1f",
   "metadata": {},
   "outputs": [
    {
     "data": {
      "text/plain": [
       "array([0.58351335, 0.48563249, 0.341551  ])"
      ]
     },
     "execution_count": 318,
     "metadata": {},
     "output_type": "execute_result"
    }
   ],
   "source": [
    "\n",
    "dn1[-3:]"
   ]
  },
  {
   "cell_type": "code",
   "execution_count": 320,
   "id": "33a13b26-7257-415f-aa45-47af5806d81a",
   "metadata": {},
   "outputs": [
    {
     "data": {
      "text/plain": [
       "array([[ 0.59194622, -0.69941484],\n",
       "       [-0.2702459 , -0.50714736],\n",
       "       [ 1.04889264,  1.2737306 ],\n",
       "       [-0.54326337,  0.09472041],\n",
       "       [-0.85063974, -0.50512221]])"
      ]
     },
     "execution_count": 320,
     "metadata": {},
     "output_type": "execute_result"
    }
   ],
   "source": [
    "dn4 = np.random.randn(5,2)\n",
    "dn4"
   ]
  },
  {
   "cell_type": "code",
   "execution_count": 509,
   "id": "b678067a-7420-40cb-8fdd-b301a0da58ba",
   "metadata": {
    "scrolled": true
   },
   "outputs": [
    {
     "data": {
      "text/plain": [
       "array([[18, 12,  6],\n",
       "       [18,  3,  5],\n",
       "       [ 5,  1, 10]])"
      ]
     },
     "execution_count": 509,
     "metadata": {},
     "output_type": "execute_result"
    }
   ],
   "source": [
    "dn2 = np.random.randint(1,19 , size = (3,3))\n",
    "dn2"
   ]
  },
  {
   "cell_type": "code",
   "execution_count": 511,
   "id": "7528c25a-c551-4c53-ac17-8adbf66b4033",
   "metadata": {},
   "outputs": [
    {
     "data": {
      "text/plain": [
       "array([], shape=(0, 0), dtype=int32)"
      ]
     },
     "execution_count": 511,
     "metadata": {},
     "output_type": "execute_result"
    }
   ],
   "source": [
    "#slicing\n",
    "dn2[0:0,1:1] "
   ]
  },
  {
   "cell_type": "code",
   "execution_count": null,
   "id": "b758ad21-47ab-4bc6-b6a6-96af0d0dd654",
   "metadata": {},
   "outputs": [],
   "source": []
  },
  {
   "cell_type": "code",
   "execution_count": null,
   "id": "d2b00662-2ed7-45a9-be89-fb6723c75f65",
   "metadata": {},
   "outputs": [],
   "source": []
  },
  {
   "cell_type": "code",
   "execution_count": null,
   "id": "76d24aba-cf15-4d01-ab61-0cca1f4bc99b",
   "metadata": {},
   "outputs": [],
   "source": []
  },
  {
   "cell_type": "code",
   "execution_count": null,
   "id": "c87d03bd-af79-425f-b6f7-6dcf42cc360c",
   "metadata": {},
   "outputs": [],
   "source": []
  }
 ],
 "metadata": {
  "kernelspec": {
   "display_name": "Python 3 (ipykernel)",
   "language": "python",
   "name": "python3"
  },
  "language_info": {
   "codemirror_mode": {
    "name": "ipython",
    "version": 3
   },
   "file_extension": ".py",
   "mimetype": "text/x-python",
   "name": "python",
   "nbconvert_exporter": "python",
   "pygments_lexer": "ipython3",
   "version": "3.12.4"
  }
 },
 "nbformat": 4,
 "nbformat_minor": 5
}
